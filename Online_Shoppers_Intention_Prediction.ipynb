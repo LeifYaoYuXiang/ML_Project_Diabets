{
 "cells": [
  {
   "cell_type": "markdown",
   "metadata": {
    "toc": true
   },
   "source": [
    "<h1>Table of Contents<span class=\"tocSkip\"></span></h1>\n",
    "<div class=\"toc\">\n",
    "    <ul class=\"toc-item\">\n",
    "        <li><span><a href=\"#Introduction\" data-toc-modified-id=\"Introduction-1\"><span class=\"toc-item-num\">1&nbsp;&nbsp;</span>Introduction</a></span></li><li><span><a href=\"#Libraries\" data-toc-modified-id=\"Libraries-2\"><span class=\"toc-item-num\">2&nbsp;&nbsp;</span>Libraries</a></span></li><li><span><a href=\"#Import-data\" data-toc-modified-id=\"Import-data-3\"><span class=\"toc-item-num\">3&nbsp;&nbsp;</span>Import data</a></span></li><li><span><a href=\"#Dataset-Description\" data-toc-modified-id=\"Dataset-Description-4\"><span class=\"toc-item-num\">4&nbsp;&nbsp;</span>Dataset Description</a></span></li><li><span><a href=\"#Data-wrangling\" data-toc-modified-id=\"Data-wrangling-5\"><span class=\"toc-item-num\">5&nbsp;&nbsp;</span>Data wrangling</a></span></li><li><span><a href=\"#Exploratory-Data-Analysis\" data-toc-modified-id=\"Exploratory-Data-Analysis-6\"><span class=\"toc-item-num\">6&nbsp;&nbsp;</span>Exploratory Data Analysis</a></span></li><li><span><a href=\"#Modeling\" data-toc-modified-id=\"Modeling-7\"><span class=\"toc-item-num\">7&nbsp;&nbsp;</span>Modeling</a></span><ul class=\"toc-item\"><li><span><a href=\"#Dataset-preparation\" data-toc-modified-id=\"Dataset-preparation-7.1\"><span class=\"toc-item-num\">7.1&nbsp;&nbsp;</span>Dataset preparation</a></span><ul class=\"toc-item\"><li><span><a href=\"#Non-scaled-dataframe\" data-toc-modified-id=\"Non-scaled-dataframe-7.1.1\"><span class=\"toc-item-num\">7.1.1&nbsp;&nbsp;</span>Non scaled dataframe</a></span></li><li><span><a href=\"#Scaled-dataframe\" data-toc-modified-id=\"Scaled-dataframe-7.1.2\"><span class=\"toc-item-num\">7.1.2&nbsp;&nbsp;</span>Scaled dataframe</a></span></li><li><span><a href=\"#Note\" data-toc-modified-id=\"Note-7.1.3\"><span class=\"toc-item-num\">7.1.3&nbsp;&nbsp;</span>Note</a></span></li></ul></li><li><span><a href=\"#First-run\" data-toc-modified-id=\"First-run-7.2\"><span class=\"toc-item-num\">7.2&nbsp;&nbsp;</span>First run</a></span><ul class=\"toc-item\"><li><span><a href=\"#Decision-Trees\" data-toc-modified-id=\"Decision-Trees-7.2.1\"><span class=\"toc-item-num\">7.2.1&nbsp;&nbsp;</span>Decision Trees</a></span></li><li><span><a href=\"#Random-Forest\" data-toc-modified-id=\"Random-Forest-7.2.2\"><span class=\"toc-item-num\">7.2.2&nbsp;&nbsp;</span>Random Forest</a></span></li><li><span><a href=\"#AdaBoost\" data-toc-modified-id=\"AdaBoost-7.2.3\"><span class=\"toc-item-num\">7.2.3&nbsp;&nbsp;</span>AdaBoost</a></span></li><li><span><a href=\"#XGB\" data-toc-modified-id=\"XGB-7.2.4\"><span class=\"toc-item-num\">7.2.4&nbsp;&nbsp;</span>XGB</a></span></li><li><span><a href=\"#CatBoost\" data-toc-modified-id=\"CatBoost-7.2.5\"><span class=\"toc-item-num\">7.2.5&nbsp;&nbsp;</span>CatBoost</a></span></li><li><span><a href=\"#KNeighbors\" data-toc-modified-id=\"KNeighbors-7.2.6\"><span class=\"toc-item-num\">7.2.6&nbsp;&nbsp;</span>KNeighbors</a></span></li><li><span><a href=\"#Logistic-Regression\" data-toc-modified-id=\"Logistic-Regression-7.2.7\"><span class=\"toc-item-num\">7.2.7&nbsp;&nbsp;</span>Logistic Regression</a></span></li><li><span><a href=\"#SVC\" data-toc-modified-id=\"SVC-7.2.8\"><span class=\"toc-item-num\">7.2.8&nbsp;&nbsp;</span>SVC</a></span></li><li><span><a href=\"#GaussianNB\" data-toc-modified-id=\"GaussianNB-7.2.9\"><span class=\"toc-item-num\">7.2.9&nbsp;&nbsp;</span>GaussianNB</a></span></li><li><span><a href=\"#Conclusion-for-first-run\" data-toc-modified-id=\"Conclusion-for-first-run-7.2.10\"><span class=\"toc-item-num\">7.2.10&nbsp;&nbsp;</span>Conclusion for first run</a></span></li></ul></li><li><span><a href=\"#Principal-Component-Analysis\" data-toc-modified-id=\"Principal-Component-Analysis-7.3\"><span class=\"toc-item-num\">7.3&nbsp;&nbsp;</span>Principal Component Analysis</a></span></li><li><span><a href=\"#Second-Run-after-PCA\" data-toc-modified-id=\"Second-Run-after-PCA-7.4\"><span class=\"toc-item-num\">7.4&nbsp;&nbsp;</span>Second Run after PCA</a></span></li><li><span><a href=\"#Undersampling-and-Oversampling\" data-toc-modified-id=\"Undersampling-and-Oversampling-7.5\"><span class=\"toc-item-num\">7.5&nbsp;&nbsp;</span>Undersampling and Oversampling</a></span><ul class=\"toc-item\"><li><span><a href=\"#Random-Undersampling\" data-toc-modified-id=\"Random-Undersampling-7.5.1\"><span class=\"toc-item-num\">7.5.1&nbsp;&nbsp;</span>Random Undersampling</a></span></li><li><span><a href=\"#Smote\" data-toc-modified-id=\"Smote-7.5.2\"><span class=\"toc-item-num\">7.5.2&nbsp;&nbsp;</span>Smote</a></span></li></ul></li><li><span><a href=\"#Third-run-with-Under-Sampling-and-PCA\" data-toc-modified-id=\"Third-run-with-Under-Sampling-and-PCA-7.6\"><span class=\"toc-item-num\">7.6&nbsp;&nbsp;</span>Third run with Under Sampling and PCA</a></span></li><li><span><a href=\"#Fourth-run-with-Smote-resampling-and-PCA\" data-toc-modified-id=\"Fourth-run-with-Smote-resampling-and-PCA-7.7\"><span class=\"toc-item-num\">7.7&nbsp;&nbsp;</span>Fourth run with Smote resampling and PCA</a></span></li></ul></li><li><span><a href=\"#Conclusion\" data-toc-modified-id=\"Conclusion-8\"><span class=\"toc-item-num\">8&nbsp;&nbsp;</span>Conclusion</a></span></li></ul></div>"
   ]
  },
  {
   "cell_type": "markdown",
   "metadata": {},
   "source": [
    "# Introduction"
   ]
  },
  {
   "cell_type": "markdown",
   "metadata": {},
   "source": [
    "'''\n",
    "1. Source\n",
    "C. Okan Sakar\n",
    "Department of Computer Engineering, Faculty of\n",
    "Engineering and Natural Sciences, Bahcesehir University,\n",
    "34349 Besiktas, Istanbul, Turkey\n",
    "\n",
    "Yomi Kastro\n",
    "Inveon Information Technologies Consultancy and Trade,\n",
    "34335 Istanbul, Turkey\n",
    "\n",
    "2. Data Set Information:\n",
    "The dataset consists of feature vectors belonging to 12,330 sessions.\n",
    "The dataset was formed so that each session would belong to a different user in a 1-year period to avoid any tendency to a specific campaign, \n",
    "special day, user profile, or period.\n",
    "\n",
    "3. Attribute Information:\n",
    "\n",
    "The dataset consists of 10 numerical and 8 categorical attributes.\n",
    "- The 'Revenue' attribute is used as the class label and is the target feature in our prediction model.\n",
    "\n",
    "- \"Administrative\", \"Administrative Duration\", \"Informational\", \"Informational Duration\", \"Product Related\" and \"Product Related Duration\" \n",
    "represent the number of different types of pages visited by the visitor in that session and total time spent in each of these page categories. \n",
    "The values of these features are derived from the URL information of the pages visited by the user and updated in real time \n",
    "when a user takes an action, e.g. moving from one page to another. \n",
    "\n",
    "-The \"Bounce Rate\", \"Exit Rate\" and \"Page Value\" features represent the metrics measured by \"Google Analytics\" for each page in the e-commerce site. \n",
    "    The value of \"Bounce Rate\" feature for a web page refers to the percentage of visitors who enter the site from that page and then leave (\"bounce\") \n",
    "    without triggering any other requests to the analytics server during that session. \n",
    "    The value of \"Exit Rate\" feature for a specific web page is calculated as for all pageviews to the page, the percentage that were the last in the session.\n",
    "    The \"Page Value\" feature represents the average value for a web page that an user visited before completing an e-commerce transaction. \n",
    "\n",
    "- The \"Special Day\" feature indicates the closeness of the site visiting time to a specific special day (e.g. Mother’s Day, Valentine's Day) \n",
    "in which the sessions are more likely to be finalized with transaction. \n",
    "The value of this attribute is determined by considering the dynamics of e-commerce such as the duration between the order date and delivery date. \n",
    "For example, for Valentina’s day, this value takes a nonzero value between February 2 and February 12, zero before and after this date unless it is close to another special day, and its maximum value of 1 on February 8. \n",
    "\n",
    "- The dataset also includes operating system, browser, region, traffic type, visitor type as returning or new visitor, a Boolean value indicating whether the date of the visit is weekend, and month of the year.\n",
    "\n",
    "'''"
   ]
  },
  {
   "cell_type": "markdown",
   "metadata": {},
   "source": [
    "# Libraries"
   ]
  },
  {
   "cell_type": "code",
   "execution_count": 16,
   "metadata": {},
   "outputs": [],
   "source": [
    "import pandas as pd\n",
    "import numpy as np\n",
    "\n",
    "import matplotlib.pyplot as plt\n",
    "import seaborn as sns\n",
    "%matplotlib inline\n",
    "sns.set()\n",
    "\n",
    "#Plot more than two principal components retrieved from the PCA (Principal Components Analysis)\n",
    "import plotly.express as px\n",
    "\n",
    "#Check quality of Linear regression model\n",
    "from statsmodels.formula.api import ols\n",
    "from statsmodels.api import OLS\n",
    "from statsmodels.api import add_constant\n",
    "\n",
    "#Standardize the dataframe\n",
    "from sklearn.preprocessing import StandardScaler\n",
    "\n",
    "#Selector\n",
    "from sklearn.feature_selection import SelectKBest, f_regression\n",
    "from sklearn.feature_selection import RFE\n",
    "# from mlxtend.feature_selection import SequentialFeatureSelector as sfs\n",
    "from sklearn.linear_model import RidgeCV, LassoCV\n",
    "from sklearn.decomposition import PCA\n",
    "\n",
    "#Modeling\n",
    "from sklearn.neighbors import KNeighborsClassifier\n",
    "from sklearn.linear_model import LogisticRegression\n",
    "from sklearn.svm import SVC\n",
    "from sklearn.naive_bayes import GaussianNB\n",
    "from sklearn.tree import DecisionTreeClassifier\n",
    "from sklearn.ensemble import AdaBoostClassifier, RandomForestClassifier\n",
    "# from xgboost import XGBClassifier\n",
    "# from catboost import CatBoostClassifier\n",
    "from sklearn.tree import DecisionTreeClassifier\n",
    "\n",
    "#Split data into train sample and test sample\n",
    "from sklearn.model_selection import train_test_split\n",
    "\n",
    "#Print result of model quality check\n",
    "from sklearn.metrics import confusion_matrix, accuracy_score, recall_score, f1_score, precision_score\n",
    "\n",
    "# pip install imbalanced-learn : library containing functions dealing with imbalanced datasets\n",
    "\n",
    "# from imblearn.over_sampling import RandomOverSampler\n",
    "# from imblearn.under_sampling import RandomUnderSampler\n",
    "# from imblearn.over_sampling import SMOTE"
   ]
  },
  {
   "cell_type": "markdown",
   "metadata": {},
   "source": [
    "# Import data"
   ]
  },
  {
   "cell_type": "code",
   "execution_count": 17,
   "metadata": {},
   "outputs": [],
   "source": [
    "df1 = pd.read_csv('online_shoppers_intention.csv')"
   ]
  },
  {
   "cell_type": "code",
   "execution_count": null,
   "metadata": {},
   "outputs": [],
   "source": []
  },
  {
   "cell_type": "code",
   "execution_count": 18,
   "metadata": {},
   "outputs": [],
   "source": [
    "df = pd.read_csv('online_shoppers_intention.csv')"
   ]
  },
  {
   "cell_type": "markdown",
   "metadata": {},
   "source": [
    "# Dataset Description"
   ]
  },
  {
   "cell_type": "code",
   "execution_count": 19,
   "metadata": {},
   "outputs": [
    {
     "data": {
      "text/html": [
       "<div>\n",
       "<style scoped>\n",
       "    .dataframe tbody tr th:only-of-type {\n",
       "        vertical-align: middle;\n",
       "    }\n",
       "\n",
       "    .dataframe tbody tr th {\n",
       "        vertical-align: top;\n",
       "    }\n",
       "\n",
       "    .dataframe thead th {\n",
       "        text-align: right;\n",
       "    }\n",
       "</style>\n",
       "<table border=\"1\" class=\"dataframe\">\n",
       "  <thead>\n",
       "    <tr style=\"text-align: right;\">\n",
       "      <th></th>\n",
       "      <th>Administrative</th>\n",
       "      <th>Administrative_Duration</th>\n",
       "      <th>Informational</th>\n",
       "      <th>Informational_Duration</th>\n",
       "      <th>ProductRelated</th>\n",
       "      <th>ProductRelated_Duration</th>\n",
       "      <th>BounceRates</th>\n",
       "      <th>ExitRates</th>\n",
       "      <th>PageValues</th>\n",
       "      <th>SpecialDay</th>\n",
       "      <th>Month</th>\n",
       "      <th>OperatingSystems</th>\n",
       "      <th>Browser</th>\n",
       "      <th>Region</th>\n",
       "      <th>TrafficType</th>\n",
       "      <th>VisitorType</th>\n",
       "      <th>Weekend</th>\n",
       "      <th>Revenue</th>\n",
       "    </tr>\n",
       "  </thead>\n",
       "  <tbody>\n",
       "    <tr>\n",
       "      <th>0</th>\n",
       "      <td>0.0</td>\n",
       "      <td>0.0</td>\n",
       "      <td>0.0</td>\n",
       "      <td>0.0</td>\n",
       "      <td>1.0</td>\n",
       "      <td>0.000000</td>\n",
       "      <td>0.20</td>\n",
       "      <td>0.20</td>\n",
       "      <td>0.0</td>\n",
       "      <td>0.0</td>\n",
       "      <td>Feb</td>\n",
       "      <td>1</td>\n",
       "      <td>1</td>\n",
       "      <td>1</td>\n",
       "      <td>1</td>\n",
       "      <td>Returning_Visitor</td>\n",
       "      <td>False</td>\n",
       "      <td>False</td>\n",
       "    </tr>\n",
       "    <tr>\n",
       "      <th>1</th>\n",
       "      <td>0.0</td>\n",
       "      <td>0.0</td>\n",
       "      <td>0.0</td>\n",
       "      <td>0.0</td>\n",
       "      <td>2.0</td>\n",
       "      <td>64.000000</td>\n",
       "      <td>0.00</td>\n",
       "      <td>0.10</td>\n",
       "      <td>0.0</td>\n",
       "      <td>0.0</td>\n",
       "      <td>Feb</td>\n",
       "      <td>2</td>\n",
       "      <td>2</td>\n",
       "      <td>1</td>\n",
       "      <td>2</td>\n",
       "      <td>Returning_Visitor</td>\n",
       "      <td>False</td>\n",
       "      <td>False</td>\n",
       "    </tr>\n",
       "    <tr>\n",
       "      <th>2</th>\n",
       "      <td>0.0</td>\n",
       "      <td>-1.0</td>\n",
       "      <td>0.0</td>\n",
       "      <td>-1.0</td>\n",
       "      <td>1.0</td>\n",
       "      <td>-1.000000</td>\n",
       "      <td>0.20</td>\n",
       "      <td>0.20</td>\n",
       "      <td>0.0</td>\n",
       "      <td>0.0</td>\n",
       "      <td>Feb</td>\n",
       "      <td>4</td>\n",
       "      <td>1</td>\n",
       "      <td>9</td>\n",
       "      <td>3</td>\n",
       "      <td>Returning_Visitor</td>\n",
       "      <td>False</td>\n",
       "      <td>False</td>\n",
       "    </tr>\n",
       "    <tr>\n",
       "      <th>3</th>\n",
       "      <td>0.0</td>\n",
       "      <td>0.0</td>\n",
       "      <td>0.0</td>\n",
       "      <td>0.0</td>\n",
       "      <td>2.0</td>\n",
       "      <td>2.666667</td>\n",
       "      <td>0.05</td>\n",
       "      <td>0.14</td>\n",
       "      <td>0.0</td>\n",
       "      <td>0.0</td>\n",
       "      <td>Feb</td>\n",
       "      <td>3</td>\n",
       "      <td>2</td>\n",
       "      <td>2</td>\n",
       "      <td>4</td>\n",
       "      <td>Returning_Visitor</td>\n",
       "      <td>False</td>\n",
       "      <td>False</td>\n",
       "    </tr>\n",
       "    <tr>\n",
       "      <th>4</th>\n",
       "      <td>0.0</td>\n",
       "      <td>0.0</td>\n",
       "      <td>0.0</td>\n",
       "      <td>0.0</td>\n",
       "      <td>10.0</td>\n",
       "      <td>627.500000</td>\n",
       "      <td>0.02</td>\n",
       "      <td>0.05</td>\n",
       "      <td>0.0</td>\n",
       "      <td>0.0</td>\n",
       "      <td>Feb</td>\n",
       "      <td>3</td>\n",
       "      <td>3</td>\n",
       "      <td>1</td>\n",
       "      <td>4</td>\n",
       "      <td>Returning_Visitor</td>\n",
       "      <td>True</td>\n",
       "      <td>False</td>\n",
       "    </tr>\n",
       "  </tbody>\n",
       "</table>\n",
       "</div>"
      ],
      "text/plain": [
       "   Administrative  Administrative_Duration  Informational  \\\n",
       "0             0.0                      0.0            0.0   \n",
       "1             0.0                      0.0            0.0   \n",
       "2             0.0                     -1.0            0.0   \n",
       "3             0.0                      0.0            0.0   \n",
       "4             0.0                      0.0            0.0   \n",
       "\n",
       "   Informational_Duration  ProductRelated  ProductRelated_Duration  \\\n",
       "0                     0.0             1.0                 0.000000   \n",
       "1                     0.0             2.0                64.000000   \n",
       "2                    -1.0             1.0                -1.000000   \n",
       "3                     0.0             2.0                 2.666667   \n",
       "4                     0.0            10.0               627.500000   \n",
       "\n",
       "   BounceRates  ExitRates  PageValues  SpecialDay Month  OperatingSystems  \\\n",
       "0         0.20       0.20         0.0         0.0   Feb                 1   \n",
       "1         0.00       0.10         0.0         0.0   Feb                 2   \n",
       "2         0.20       0.20         0.0         0.0   Feb                 4   \n",
       "3         0.05       0.14         0.0         0.0   Feb                 3   \n",
       "4         0.02       0.05         0.0         0.0   Feb                 3   \n",
       "\n",
       "   Browser  Region  TrafficType        VisitorType  Weekend  Revenue  \n",
       "0        1       1            1  Returning_Visitor    False    False  \n",
       "1        2       1            2  Returning_Visitor    False    False  \n",
       "2        1       9            3  Returning_Visitor    False    False  \n",
       "3        2       2            4  Returning_Visitor    False    False  \n",
       "4        3       1            4  Returning_Visitor     True    False  "
      ]
     },
     "execution_count": 19,
     "metadata": {},
     "output_type": "execute_result"
    }
   ],
   "source": [
    "df.head()"
   ]
  },
  {
   "cell_type": "code",
   "execution_count": 20,
   "metadata": {
    "scrolled": false
   },
   "outputs": [
    {
     "name": "stdout",
     "output_type": "stream",
     "text": [
      "<class 'pandas.core.frame.DataFrame'>\n",
      "RangeIndex: 12330 entries, 0 to 12329\n",
      "Data columns (total 18 columns):\n",
      " #   Column                   Non-Null Count  Dtype  \n",
      "---  ------                   --------------  -----  \n",
      " 0   Administrative           12316 non-null  float64\n",
      " 1   Administrative_Duration  12316 non-null  float64\n",
      " 2   Informational            12316 non-null  float64\n",
      " 3   Informational_Duration   12316 non-null  float64\n",
      " 4   ProductRelated           12316 non-null  float64\n",
      " 5   ProductRelated_Duration  12316 non-null  float64\n",
      " 6   BounceRates              12316 non-null  float64\n",
      " 7   ExitRates                12316 non-null  float64\n",
      " 8   PageValues               12330 non-null  float64\n",
      " 9   SpecialDay               12330 non-null  float64\n",
      " 10  Month                    12330 non-null  object \n",
      " 11  OperatingSystems         12330 non-null  int64  \n",
      " 12  Browser                  12330 non-null  int64  \n",
      " 13  Region                   12330 non-null  int64  \n",
      " 14  TrafficType              12330 non-null  int64  \n",
      " 15  VisitorType              12330 non-null  object \n",
      " 16  Weekend                  12330 non-null  bool   \n",
      " 17  Revenue                  12330 non-null  bool   \n",
      "dtypes: bool(2), float64(10), int64(4), object(2)\n",
      "memory usage: 1.5+ MB\n"
     ]
    }
   ],
   "source": [
    "df.info()"
   ]
  },
  {
   "cell_type": "markdown",
   "metadata": {},
   "source": [
    "The dataset has 18 columns among them 2 columns contain object values, 2 columns contains boolean values and the rest contain numerical values."
   ]
  },
  {
   "cell_type": "code",
   "execution_count": 21,
   "metadata": {
    "scrolled": false
   },
   "outputs": [
    {
     "data": {
      "text/plain": [
       "Administrative             14\n",
       "Administrative_Duration    14\n",
       "Informational              14\n",
       "Informational_Duration     14\n",
       "ProductRelated             14\n",
       "ProductRelated_Duration    14\n",
       "BounceRates                14\n",
       "ExitRates                  14\n",
       "PageValues                  0\n",
       "SpecialDay                  0\n",
       "Month                       0\n",
       "OperatingSystems            0\n",
       "Browser                     0\n",
       "Region                      0\n",
       "TrafficType                 0\n",
       "VisitorType                 0\n",
       "Weekend                     0\n",
       "Revenue                     0\n",
       "dtype: int64"
      ]
     },
     "execution_count": 21,
     "metadata": {},
     "output_type": "execute_result"
    }
   ],
   "source": [
    "df.isna().sum()"
   ]
  },
  {
   "cell_type": "code",
   "execution_count": 22,
   "metadata": {},
   "outputs": [
    {
     "name": "stdout",
     "output_type": "stream",
     "text": [
      "Proportion of missing values is 0.11354420113544202 %\n"
     ]
    }
   ],
   "source": [
    "# We note that there are at least 14 rows containing missing values in the 8 columns. \n",
    "# We calculate the proportion of missing values for these column\n",
    "print('Proportion of missing values is', df.isna().sum()[0]/df.shape[0]*100,'%')"
   ]
  },
  {
   "cell_type": "markdown",
   "metadata": {},
   "source": [
    "We decide to drop these rows."
   ]
  },
  {
   "cell_type": "code",
   "execution_count": 23,
   "metadata": {
    "scrolled": false
   },
   "outputs": [
    {
     "data": {
      "text/html": [
       "<div>\n",
       "<style scoped>\n",
       "    .dataframe tbody tr th:only-of-type {\n",
       "        vertical-align: middle;\n",
       "    }\n",
       "\n",
       "    .dataframe tbody tr th {\n",
       "        vertical-align: top;\n",
       "    }\n",
       "\n",
       "    .dataframe thead th {\n",
       "        text-align: right;\n",
       "    }\n",
       "</style>\n",
       "<table border=\"1\" class=\"dataframe\">\n",
       "  <thead>\n",
       "    <tr style=\"text-align: right;\">\n",
       "      <th></th>\n",
       "      <th>count</th>\n",
       "      <th>mean</th>\n",
       "      <th>std</th>\n",
       "      <th>min</th>\n",
       "      <th>25%</th>\n",
       "      <th>50%</th>\n",
       "      <th>75%</th>\n",
       "      <th>max</th>\n",
       "    </tr>\n",
       "  </thead>\n",
       "  <tbody>\n",
       "    <tr>\n",
       "      <th>Administrative</th>\n",
       "      <td>12316.0</td>\n",
       "      <td>2.317798</td>\n",
       "      <td>3.322754</td>\n",
       "      <td>0.0</td>\n",
       "      <td>0.000000</td>\n",
       "      <td>1.000000</td>\n",
       "      <td>4.000000</td>\n",
       "      <td>27.000000</td>\n",
       "    </tr>\n",
       "    <tr>\n",
       "      <th>Administrative_Duration</th>\n",
       "      <td>12316.0</td>\n",
       "      <td>80.906176</td>\n",
       "      <td>176.860432</td>\n",
       "      <td>-1.0</td>\n",
       "      <td>0.000000</td>\n",
       "      <td>8.000000</td>\n",
       "      <td>93.500000</td>\n",
       "      <td>3398.750000</td>\n",
       "    </tr>\n",
       "    <tr>\n",
       "      <th>Informational</th>\n",
       "      <td>12316.0</td>\n",
       "      <td>0.503979</td>\n",
       "      <td>1.270701</td>\n",
       "      <td>0.0</td>\n",
       "      <td>0.000000</td>\n",
       "      <td>0.000000</td>\n",
       "      <td>0.000000</td>\n",
       "      <td>24.000000</td>\n",
       "    </tr>\n",
       "    <tr>\n",
       "      <th>Informational_Duration</th>\n",
       "      <td>12316.0</td>\n",
       "      <td>34.506387</td>\n",
       "      <td>140.825479</td>\n",
       "      <td>-1.0</td>\n",
       "      <td>0.000000</td>\n",
       "      <td>0.000000</td>\n",
       "      <td>0.000000</td>\n",
       "      <td>2549.375000</td>\n",
       "    </tr>\n",
       "    <tr>\n",
       "      <th>ProductRelated</th>\n",
       "      <td>12316.0</td>\n",
       "      <td>31.763884</td>\n",
       "      <td>44.490339</td>\n",
       "      <td>0.0</td>\n",
       "      <td>7.000000</td>\n",
       "      <td>18.000000</td>\n",
       "      <td>38.000000</td>\n",
       "      <td>705.000000</td>\n",
       "    </tr>\n",
       "    <tr>\n",
       "      <th>ProductRelated_Duration</th>\n",
       "      <td>12316.0</td>\n",
       "      <td>1196.037057</td>\n",
       "      <td>1914.372511</td>\n",
       "      <td>-1.0</td>\n",
       "      <td>185.000000</td>\n",
       "      <td>599.766190</td>\n",
       "      <td>1466.479902</td>\n",
       "      <td>63973.522230</td>\n",
       "    </tr>\n",
       "    <tr>\n",
       "      <th>BounceRates</th>\n",
       "      <td>12316.0</td>\n",
       "      <td>0.022152</td>\n",
       "      <td>0.048427</td>\n",
       "      <td>0.0</td>\n",
       "      <td>0.000000</td>\n",
       "      <td>0.003119</td>\n",
       "      <td>0.016684</td>\n",
       "      <td>0.200000</td>\n",
       "    </tr>\n",
       "    <tr>\n",
       "      <th>ExitRates</th>\n",
       "      <td>12316.0</td>\n",
       "      <td>0.043003</td>\n",
       "      <td>0.048527</td>\n",
       "      <td>0.0</td>\n",
       "      <td>0.014286</td>\n",
       "      <td>0.025124</td>\n",
       "      <td>0.050000</td>\n",
       "      <td>0.200000</td>\n",
       "    </tr>\n",
       "    <tr>\n",
       "      <th>PageValues</th>\n",
       "      <td>12330.0</td>\n",
       "      <td>5.889258</td>\n",
       "      <td>18.568437</td>\n",
       "      <td>0.0</td>\n",
       "      <td>0.000000</td>\n",
       "      <td>0.000000</td>\n",
       "      <td>0.000000</td>\n",
       "      <td>361.763742</td>\n",
       "    </tr>\n",
       "    <tr>\n",
       "      <th>SpecialDay</th>\n",
       "      <td>12330.0</td>\n",
       "      <td>0.061427</td>\n",
       "      <td>0.198917</td>\n",
       "      <td>0.0</td>\n",
       "      <td>0.000000</td>\n",
       "      <td>0.000000</td>\n",
       "      <td>0.000000</td>\n",
       "      <td>1.000000</td>\n",
       "    </tr>\n",
       "    <tr>\n",
       "      <th>OperatingSystems</th>\n",
       "      <td>12330.0</td>\n",
       "      <td>2.124006</td>\n",
       "      <td>0.911325</td>\n",
       "      <td>1.0</td>\n",
       "      <td>2.000000</td>\n",
       "      <td>2.000000</td>\n",
       "      <td>3.000000</td>\n",
       "      <td>8.000000</td>\n",
       "    </tr>\n",
       "    <tr>\n",
       "      <th>Browser</th>\n",
       "      <td>12330.0</td>\n",
       "      <td>2.357097</td>\n",
       "      <td>1.717277</td>\n",
       "      <td>1.0</td>\n",
       "      <td>2.000000</td>\n",
       "      <td>2.000000</td>\n",
       "      <td>2.000000</td>\n",
       "      <td>13.000000</td>\n",
       "    </tr>\n",
       "    <tr>\n",
       "      <th>Region</th>\n",
       "      <td>12330.0</td>\n",
       "      <td>3.147364</td>\n",
       "      <td>2.401591</td>\n",
       "      <td>1.0</td>\n",
       "      <td>1.000000</td>\n",
       "      <td>3.000000</td>\n",
       "      <td>4.000000</td>\n",
       "      <td>9.000000</td>\n",
       "    </tr>\n",
       "    <tr>\n",
       "      <th>TrafficType</th>\n",
       "      <td>12330.0</td>\n",
       "      <td>4.069586</td>\n",
       "      <td>4.025169</td>\n",
       "      <td>1.0</td>\n",
       "      <td>2.000000</td>\n",
       "      <td>2.000000</td>\n",
       "      <td>4.000000</td>\n",
       "      <td>20.000000</td>\n",
       "    </tr>\n",
       "  </tbody>\n",
       "</table>\n",
       "</div>"
      ],
      "text/plain": [
       "                           count         mean          std  min         25%  \\\n",
       "Administrative           12316.0     2.317798     3.322754  0.0    0.000000   \n",
       "Administrative_Duration  12316.0    80.906176   176.860432 -1.0    0.000000   \n",
       "Informational            12316.0     0.503979     1.270701  0.0    0.000000   \n",
       "Informational_Duration   12316.0    34.506387   140.825479 -1.0    0.000000   \n",
       "ProductRelated           12316.0    31.763884    44.490339  0.0    7.000000   \n",
       "ProductRelated_Duration  12316.0  1196.037057  1914.372511 -1.0  185.000000   \n",
       "BounceRates              12316.0     0.022152     0.048427  0.0    0.000000   \n",
       "ExitRates                12316.0     0.043003     0.048527  0.0    0.014286   \n",
       "PageValues               12330.0     5.889258    18.568437  0.0    0.000000   \n",
       "SpecialDay               12330.0     0.061427     0.198917  0.0    0.000000   \n",
       "OperatingSystems         12330.0     2.124006     0.911325  1.0    2.000000   \n",
       "Browser                  12330.0     2.357097     1.717277  1.0    2.000000   \n",
       "Region                   12330.0     3.147364     2.401591  1.0    1.000000   \n",
       "TrafficType              12330.0     4.069586     4.025169  1.0    2.000000   \n",
       "\n",
       "                                50%          75%           max  \n",
       "Administrative             1.000000     4.000000     27.000000  \n",
       "Administrative_Duration    8.000000    93.500000   3398.750000  \n",
       "Informational              0.000000     0.000000     24.000000  \n",
       "Informational_Duration     0.000000     0.000000   2549.375000  \n",
       "ProductRelated            18.000000    38.000000    705.000000  \n",
       "ProductRelated_Duration  599.766190  1466.479902  63973.522230  \n",
       "BounceRates                0.003119     0.016684      0.200000  \n",
       "ExitRates                  0.025124     0.050000      0.200000  \n",
       "PageValues                 0.000000     0.000000    361.763742  \n",
       "SpecialDay                 0.000000     0.000000      1.000000  \n",
       "OperatingSystems           2.000000     3.000000      8.000000  \n",
       "Browser                    2.000000     2.000000     13.000000  \n",
       "Region                     3.000000     4.000000      9.000000  \n",
       "TrafficType                2.000000     4.000000     20.000000  "
      ]
     },
     "execution_count": 23,
     "metadata": {},
     "output_type": "execute_result"
    }
   ],
   "source": [
    "df.describe().T"
   ]
  },
  {
   "cell_type": "markdown",
   "metadata": {},
   "source": [
    "- There will be outliers in the columns: Administrative_Duration, Informational_Duration,ProductRelated_Duration, PageValues\n",
    "\n",
    "- There are some negative value in some columns relating to the duration of the visit of the shoppers. We need to study the distribution of the negative values"
   ]
  },
  {
   "cell_type": "markdown",
   "metadata": {},
   "source": [
    "# Data wrangling"
   ]
  },
  {
   "cell_type": "markdown",
   "metadata": {},
   "source": [
    "Data cleaning task:\n",
    "\n",
    "- drop these rows containing missing values\n",
    "- check outliers in several columns: Administrative_Duration, Informational_Duration,ProductRelated_Duration, PageValues\n",
    "- check distribution of negative values in several columns: Administrative_Duration, Informational_Duration, ProductRelated_Duration\n",
    "- Study the columns containing object values: Month, Visit type\n",
    "- Multicollinearity: there might be the high correlation between these pairs of columns: 'Administrative' vs'Administrative_Duration', 'Informational' vs 'Informational_Duration', 'ProductRelated' vs'ProductRelated_Duration'. We might keep them for now then we will use the PCA to identify the important features.\n",
    "- Identify categorical columns (even though the values are numerical) and apply the one hot encoding to these columns\n",
    "- The bounces rates and exit rates are not in percentage form, which means if the value in the dataset is 0.02, we need to multiply by 100 to obtain the value in percentage (2%). \n",
    "\n",
    "Categorical columns:\n",
    "- Operating systems: the type of Operating systems of user which are labeled with the values from 1 to 8\n",
    "- Browser: the type of the browser used by user which are labeled with the numerical values from 1 to 14\n",
    "- Month: string values showing the month names\n",
    "- Region: the region from which the user has connected to the internet. The values are also labeled with the numerical values from 1 to 8\n",
    "- Traffic type: indicates the source of traffic from which the user find your website. The values are also labeled with the numerical values from 1 to 20.\n",
    "- Visitor type: indicate whether this is a new visitor, returning visitors,.. There are 3 values noted in this columns: New visitor, returning visitor and other.\n",
    "- Special'day: indicates the closeness of the site visiting time to a specific special day. It is categorized by values from 0 to 1 with a step of 0.2. The higher the value, the more the visiting time is close to the special day (befor or after).\n",
    "- Weekend: contains boolean values (True if it is)\n",
    "- Revenue: indicates if the user purchases products at the end of the session. True if it is. \n"
   ]
  },
  {
   "cell_type": "code",
   "execution_count": 24,
   "metadata": {
    "scrolled": true
   },
   "outputs": [
    {
     "data": {
      "text/plain": [
       "Index(['Administrative', 'Administrative_Duration', 'Informational',\n",
       "       'Informational_Duration', 'ProductRelated', 'ProductRelated_Duration',\n",
       "       'BounceRates', 'ExitRates', 'PageValues', 'SpecialDay', 'Month',\n",
       "       'OperatingSystems', 'Browser', 'Region', 'TrafficType', 'VisitorType',\n",
       "       'Weekend', 'Revenue'],\n",
       "      dtype='object')"
      ]
     },
     "execution_count": 24,
     "metadata": {},
     "output_type": "execute_result"
    }
   ],
   "source": [
    "df.columns"
   ]
  },
  {
   "cell_type": "code",
   "execution_count": 25,
   "metadata": {},
   "outputs": [],
   "source": [
    "# Drop rows containing missing values\n",
    "df.dropna(subset = ['Administrative', 'Administrative_Duration', 'Informational','Informational_Duration', 'ProductRelated', 'ProductRelated_Duration','BounceRates', 'ExitRates'], inplace = True)"
   ]
  },
  {
   "cell_type": "code",
   "execution_count": 26,
   "metadata": {
    "scrolled": true
   },
   "outputs": [],
   "source": [
    "#convert the string values in column Month into numerical values\n",
    "df['Month'] = df['Month'].map({'Feb':2, 'Mar':3, 'May':5, 'Oct':10, 'June':6, 'Jul':7, 'Aug':8, 'Nov':11, 'Sep':9,'Dec':12})\n"
   ]
  },
  {
   "cell_type": "code",
   "execution_count": 27,
   "metadata": {},
   "outputs": [],
   "source": [
    "# As we can see these 3 columns duration have several rows containing the value negative (-1) which is not logical. \n",
    "# We verify the number of page visited by users when the duration is negative. The result is that the for these negative duration, the number of page visited is 0.\n",
    "# So we will replace the value -1  by 0\n",
    "\n",
    "df['Administrative_Duration']=df['Administrative_Duration'].map(lambda row: 0 if row == -1 else row)\n",
    "df['Informational_Duration']=df['Informational_Duration'].map(lambda row: 0 if row == -1 else row)\n",
    "df['ProductRelated_Duration']=df['ProductRelated_Duration'].map(lambda row: 0 if row == -1 else row)\n"
   ]
  },
  {
   "cell_type": "code",
   "execution_count": 28,
   "metadata": {
    "scrolled": true
   },
   "outputs": [
    {
     "data": {
      "image/png": "[encoded data removed]",
      "text/plain": [
       "<Figure size 432x288 with 1 Axes>"
      ]
     },
     "metadata": {},
     "output_type": "display_data"
    }
   ],
   "source": [
    "sns.violinplot(data=df, x='Revenue', y='Administrative_Duration', split=True, palette='Set2');\n"
   ]
  },
  {
   "cell_type": "code",
   "execution_count": 29,
   "metadata": {
    "scrolled": true
   },
   "outputs": [
    {
     "data": {
      "image/png": "[encoded data removed]",
      "text/plain": [
       "<Figure size 432x288 with 1 Axes>"
      ]
     },
     "metadata": {},
     "output_type": "display_data"
    }
   ],
   "source": [
    "sns.violinplot(data=df, x='Revenue', y='Administrative', split=True, palette='Set2');"
   ]
  },
  {
   "cell_type": "code",
   "execution_count": 30,
   "metadata": {
    "scrolled": true
   },
   "outputs": [
    {
     "data": {
      "image/png": "[encoded data removed]",
      "text/plain": [
       "<Figure size 432x288 with 1 Axes>"
      ]
     },
     "metadata": {},
     "output_type": "display_data"
    }
   ],
   "source": [
    "sns.violinplot(data=df, x='Revenue', y='Informational', split=True, palette='Set2');"
   ]
  },
  {
   "cell_type": "code",
   "execution_count": 31,
   "metadata": {
    "scrolled": true
   },
   "outputs": [
    {
     "data": {
      "image/png": "[encoded data removed]",
      "text/plain": [
       "<Figure size 432x288 with 1 Axes>"
      ]
     },
     "metadata": {},
     "output_type": "display_data"
    }
   ],
   "source": [
    "sns.violinplot(data=df, x='Revenue', y='Informational_Duration', split=True, palette='Set2');"
   ]
  },
  {
   "cell_type": "code",
   "execution_count": 32,
   "metadata": {
    "scrolled": true
   },
   "outputs": [
    {
     "data": {
      "image/png": "[encoded data removed]",
      "text/plain": [
       "<Figure size 432x288 with 1 Axes>"
      ]
     },
     "metadata": {},
     "output_type": "display_data"
    }
   ],
   "source": [
    "sns.violinplot(data=df, x='Revenue', y='ProductRelated', split=True, palette='Set2');"
   ]
  },
  {
   "cell_type": "code",
   "execution_count": 33,
   "metadata": {
    "scrolled": true
   },
   "outputs": [
    {
     "data": {
      "image/png": "[encoded data removed]",
      "text/plain": [
       "<Figure size 432x288 with 1 Axes>"
      ]
     },
     "metadata": {},
     "output_type": "display_data"
    }
   ],
   "source": [
    "sns.violinplot(data=df, x='Revenue', y='ProductRelated_Duration', split=True, palette='Set2');"
   ]
  },
  {
   "cell_type": "code",
   "execution_count": 34,
   "metadata": {
    "scrolled": true
   },
   "outputs": [
    {
     "data": {
      "image/png": "[encoded data removed]",
      "text/plain": [
       "<Figure size 432x288 with 1 Axes>"
      ]
     },
     "metadata": {},
     "output_type": "display_data"
    }
   ],
   "source": [
    "sns.violinplot(data=df, x='Revenue', y='BounceRates', split=True, palette='Set2');"
   ]
  },
  {
   "cell_type": "code",
   "execution_count": 35,
   "metadata": {
    "scrolled": false
   },
   "outputs": [
    {
     "data": {
      "image/png": "[encoded data removed]",
      "text/plain": [
       "<Figure size 432x288 with 1 Axes>"
      ]
     },
     "metadata": {},
     "output_type": "display_data"
    }
   ],
   "source": [
    "sns.violinplot(data=df, x='Revenue', y='ExitRates', split=True, palette='Set2');"
   ]
  },
  {
   "cell_type": "code",
   "execution_count": 36,
   "metadata": {
    "scrolled": true
   },
   "outputs": [
    {
     "data": {
      "image/png": "[encoded data removed]",
      "text/plain": [
       "<Figure size 432x288 with 1 Axes>"
      ]
     },
     "metadata": {},
     "output_type": "display_data"
    }
   ],
   "source": [
    "sns.violinplot(data=df, x='Revenue', y='PageValues', split=True, palette='Set2');"
   ]
  },
  {
   "cell_type": "code",
   "execution_count": 37,
   "metadata": {
    "scrolled": false
   },
   "outputs": [
    {
     "name": "stderr",
     "output_type": "stream",
     "text": [
      "F:\\Anaconda\\lib\\site-packages\\pandas\\core\\base.py:1145: RuntimeWarning: divide by zero encountered in log\n",
      "  new_values = map_f(values, mapper)\n"
     ]
    },
    {
     "data": {
      "text/html": [
       "<div>\n",
       "<style scoped>\n",
       "    .dataframe tbody tr th:only-of-type {\n",
       "        vertical-align: middle;\n",
       "    }\n",
       "\n",
       "    .dataframe tbody tr th {\n",
       "        vertical-align: top;\n",
       "    }\n",
       "\n",
       "    .dataframe thead th {\n",
       "        text-align: right;\n",
       "    }\n",
       "</style>\n",
       "<table border=\"1\" class=\"dataframe\">\n",
       "  <thead>\n",
       "    <tr style=\"text-align: right;\">\n",
       "      <th></th>\n",
       "      <th>count</th>\n",
       "      <th>mean</th>\n",
       "      <th>std</th>\n",
       "      <th>min</th>\n",
       "      <th>25%</th>\n",
       "      <th>50%</th>\n",
       "      <th>75%</th>\n",
       "      <th>max</th>\n",
       "    </tr>\n",
       "  </thead>\n",
       "  <tbody>\n",
       "    <tr>\n",
       "      <th>Administrative</th>\n",
       "      <td>12302.0</td>\n",
       "      <td>-inf</td>\n",
       "      <td>NaN</td>\n",
       "      <td>-inf</td>\n",
       "      <td>-inf</td>\n",
       "      <td>0.000000</td>\n",
       "      <td>1.386294</td>\n",
       "      <td>3.295837</td>\n",
       "    </tr>\n",
       "    <tr>\n",
       "      <th>Administrative_Duration</th>\n",
       "      <td>12302.0</td>\n",
       "      <td>-inf</td>\n",
       "      <td>NaN</td>\n",
       "      <td>-inf</td>\n",
       "      <td>-inf</td>\n",
       "      <td>2.079442</td>\n",
       "      <td>4.537961</td>\n",
       "      <td>8.131163</td>\n",
       "    </tr>\n",
       "    <tr>\n",
       "      <th>Informational</th>\n",
       "      <td>12302.0</td>\n",
       "      <td>-inf</td>\n",
       "      <td>NaN</td>\n",
       "      <td>-inf</td>\n",
       "      <td>-inf</td>\n",
       "      <td>-inf</td>\n",
       "      <td>-inf</td>\n",
       "      <td>3.178054</td>\n",
       "    </tr>\n",
       "    <tr>\n",
       "      <th>Informational_Duration</th>\n",
       "      <td>12302.0</td>\n",
       "      <td>-inf</td>\n",
       "      <td>NaN</td>\n",
       "      <td>-inf</td>\n",
       "      <td>-inf</td>\n",
       "      <td>-inf</td>\n",
       "      <td>-inf</td>\n",
       "      <td>7.843604</td>\n",
       "    </tr>\n",
       "    <tr>\n",
       "      <th>ProductRelated</th>\n",
       "      <td>12302.0</td>\n",
       "      <td>-inf</td>\n",
       "      <td>NaN</td>\n",
       "      <td>-inf</td>\n",
       "      <td>1.945910</td>\n",
       "      <td>2.890372</td>\n",
       "      <td>3.637586</td>\n",
       "      <td>6.558198</td>\n",
       "    </tr>\n",
       "    <tr>\n",
       "      <th>ProductRelated_Duration</th>\n",
       "      <td>12302.0</td>\n",
       "      <td>-inf</td>\n",
       "      <td>NaN</td>\n",
       "      <td>-inf</td>\n",
       "      <td>5.220356</td>\n",
       "      <td>6.396260</td>\n",
       "      <td>7.291154</td>\n",
       "      <td>11.066225</td>\n",
       "    </tr>\n",
       "    <tr>\n",
       "      <th>BounceRates</th>\n",
       "      <td>12302.0</td>\n",
       "      <td>-inf</td>\n",
       "      <td>NaN</td>\n",
       "      <td>-inf</td>\n",
       "      <td>-inf</td>\n",
       "      <td>-5.768321</td>\n",
       "      <td>-4.094345</td>\n",
       "      <td>-1.609438</td>\n",
       "    </tr>\n",
       "    <tr>\n",
       "      <th>ExitRates</th>\n",
       "      <td>12302.0</td>\n",
       "      <td>-inf</td>\n",
       "      <td>NaN</td>\n",
       "      <td>-inf</td>\n",
       "      <td>-4.248495</td>\n",
       "      <td>-3.684095</td>\n",
       "      <td>-2.995732</td>\n",
       "      <td>-1.609438</td>\n",
       "    </tr>\n",
       "    <tr>\n",
       "      <th>PageValues</th>\n",
       "      <td>12302.0</td>\n",
       "      <td>-inf</td>\n",
       "      <td>NaN</td>\n",
       "      <td>-inf</td>\n",
       "      <td>-inf</td>\n",
       "      <td>-inf</td>\n",
       "      <td>-inf</td>\n",
       "      <td>5.890991</td>\n",
       "    </tr>\n",
       "  </tbody>\n",
       "</table>\n",
       "</div>"
      ],
      "text/plain": [
       "                           count  mean  std  min       25%       50%  \\\n",
       "Administrative           12302.0  -inf  NaN -inf      -inf  0.000000   \n",
       "Administrative_Duration  12302.0  -inf  NaN -inf      -inf  2.079442   \n",
       "Informational            12302.0  -inf  NaN -inf      -inf      -inf   \n",
       "Informational_Duration   12302.0  -inf  NaN -inf      -inf      -inf   \n",
       "ProductRelated           12302.0  -inf  NaN -inf  1.945910  2.890372   \n",
       "ProductRelated_Duration  12302.0  -inf  NaN -inf  5.220356  6.396260   \n",
       "BounceRates              12302.0  -inf  NaN -inf      -inf -5.768321   \n",
       "ExitRates                12302.0  -inf  NaN -inf -4.248495 -3.684095   \n",
       "PageValues               12302.0  -inf  NaN -inf      -inf      -inf   \n",
       "\n",
       "                              75%        max  \n",
       "Administrative           1.386294   3.295837  \n",
       "Administrative_Duration  4.537961   8.131163  \n",
       "Informational                -inf   3.178054  \n",
       "Informational_Duration       -inf   7.843604  \n",
       "ProductRelated           3.637586   6.558198  \n",
       "ProductRelated_Duration  7.291154  11.066225  \n",
       "BounceRates             -4.094345  -1.609438  \n",
       "ExitRates               -2.995732  -1.609438  \n",
       "PageValues                   -inf   5.890991  "
      ]
     },
     "execution_count": 37,
     "metadata": {},
     "output_type": "execute_result"
    }
   ],
   "source": [
    "#As we can see, there are outliers in the numerical columns and it seems that these columns follow a skewed distribution.\n",
    "#For the sake of the model Logistic, KNN, SVM, we will apply the natural logarithm to these columns to fix these issues.\n",
    "#We create a copy of the dataframe and run this manupulation code and see the result\n",
    "\n",
    "df1 = df.copy()\n",
    "\n",
    "df1['Administrative']=df1['Administrative'].map(np.log).reset_index(drop = True)\n",
    "df1['Administrative_Duration']=df1['Administrative_Duration'].map(np.log).reset_index(drop = True)\n",
    "df1['Informational']=df1['Informational'].map(np.log).reset_index(drop = True)\n",
    "df1['Informational_Duration']=df1['Informational_Duration'].map(np.log).reset_index(drop = True)\n",
    "df1['ProductRelated']=df1['ProductRelated'].map(np.log).reset_index(drop = True)\n",
    "df1['ProductRelated_Duration']=df1['ProductRelated_Duration'].map(np.log).reset_index(drop = True)\n",
    "df1['BounceRates']=df1['BounceRates'].map(np.log).reset_index(drop = True)\n",
    "df1['ExitRates']=df1['ExitRates'].map(np.log).reset_index(drop = True)\n",
    "df1['PageValues']=df1['PageValues'].map(np.log).reset_index(drop = True)\n",
    "\n",
    "df1.describe()[['Administrative', 'Administrative_Duration', 'Informational','Informational_Duration', 'ProductRelated', 'ProductRelated_Duration','BounceRates', 'ExitRates', 'PageValues']].T\n"
   ]
  },
  {
   "cell_type": "markdown",
   "metadata": {},
   "source": [
    "As we can see, since most of the values of these columns are close to 0, the transformed values are infinite.\n",
    "\n",
    "Thus, we decide not to apply natural logarithm to these columns and keep them as they are."
   ]
  },
  {
   "cell_type": "markdown",
   "metadata": {},
   "source": [
    "Now we will deal withe the outliers. Firstly, we want to evaluate the impact of removing outliers on the number of target feature's values.\n"
   ]
  },
  {
   "cell_type": "code",
   "execution_count": 38,
   "metadata": {
    "scrolled": true
   },
   "outputs": [
    {
     "data": {
      "text/html": [
       "<div>\n",
       "<style scoped>\n",
       "    .dataframe tbody tr th:only-of-type {\n",
       "        vertical-align: middle;\n",
       "    }\n",
       "\n",
       "    .dataframe tbody tr th {\n",
       "        vertical-align: top;\n",
       "    }\n",
       "\n",
       "    .dataframe thead th {\n",
       "        text-align: right;\n",
       "    }\n",
       "</style>\n",
       "<table border=\"1\" class=\"dataframe\">\n",
       "  <thead>\n",
       "    <tr style=\"text-align: right;\">\n",
       "      <th></th>\n",
       "      <th>count</th>\n",
       "      <th>mean</th>\n",
       "      <th>std</th>\n",
       "      <th>min</th>\n",
       "      <th>25%</th>\n",
       "      <th>50%</th>\n",
       "      <th>75%</th>\n",
       "      <th>max</th>\n",
       "      <th>iqr</th>\n",
       "    </tr>\n",
       "  </thead>\n",
       "  <tbody>\n",
       "    <tr>\n",
       "      <th>Administrative</th>\n",
       "      <td>12316.0</td>\n",
       "      <td>2.317798</td>\n",
       "      <td>3.322754</td>\n",
       "      <td>0.0</td>\n",
       "      <td>0.000000</td>\n",
       "      <td>1.000000</td>\n",
       "      <td>4.000000</td>\n",
       "      <td>27.000000</td>\n",
       "      <td>4.000000</td>\n",
       "    </tr>\n",
       "    <tr>\n",
       "      <th>Administrative_Duration</th>\n",
       "      <td>12316.0</td>\n",
       "      <td>80.908856</td>\n",
       "      <td>176.859199</td>\n",
       "      <td>0.0</td>\n",
       "      <td>0.000000</td>\n",
       "      <td>8.000000</td>\n",
       "      <td>93.500000</td>\n",
       "      <td>3398.750000</td>\n",
       "      <td>93.500000</td>\n",
       "    </tr>\n",
       "    <tr>\n",
       "      <th>Informational</th>\n",
       "      <td>12316.0</td>\n",
       "      <td>0.503979</td>\n",
       "      <td>1.270701</td>\n",
       "      <td>0.0</td>\n",
       "      <td>0.000000</td>\n",
       "      <td>0.000000</td>\n",
       "      <td>0.000000</td>\n",
       "      <td>24.000000</td>\n",
       "      <td>0.000000</td>\n",
       "    </tr>\n",
       "    <tr>\n",
       "      <th>Informational_Duration</th>\n",
       "      <td>12316.0</td>\n",
       "      <td>34.509067</td>\n",
       "      <td>140.824813</td>\n",
       "      <td>0.0</td>\n",
       "      <td>0.000000</td>\n",
       "      <td>0.000000</td>\n",
       "      <td>0.000000</td>\n",
       "      <td>2549.375000</td>\n",
       "      <td>0.000000</td>\n",
       "    </tr>\n",
       "    <tr>\n",
       "      <th>ProductRelated</th>\n",
       "      <td>12316.0</td>\n",
       "      <td>31.763884</td>\n",
       "      <td>44.490339</td>\n",
       "      <td>0.0</td>\n",
       "      <td>7.000000</td>\n",
       "      <td>18.000000</td>\n",
       "      <td>38.000000</td>\n",
       "      <td>705.000000</td>\n",
       "      <td>31.000000</td>\n",
       "    </tr>\n",
       "    <tr>\n",
       "      <th>ProductRelated_Duration</th>\n",
       "      <td>12316.0</td>\n",
       "      <td>1196.039736</td>\n",
       "      <td>1914.370836</td>\n",
       "      <td>0.0</td>\n",
       "      <td>185.000000</td>\n",
       "      <td>599.766190</td>\n",
       "      <td>1466.479902</td>\n",
       "      <td>63973.522230</td>\n",
       "      <td>1281.479902</td>\n",
       "    </tr>\n",
       "    <tr>\n",
       "      <th>BounceRates</th>\n",
       "      <td>12316.0</td>\n",
       "      <td>0.022152</td>\n",
       "      <td>0.048427</td>\n",
       "      <td>0.0</td>\n",
       "      <td>0.000000</td>\n",
       "      <td>0.003119</td>\n",
       "      <td>0.016684</td>\n",
       "      <td>0.200000</td>\n",
       "      <td>0.016684</td>\n",
       "    </tr>\n",
       "    <tr>\n",
       "      <th>ExitRates</th>\n",
       "      <td>12316.0</td>\n",
       "      <td>0.043003</td>\n",
       "      <td>0.048527</td>\n",
       "      <td>0.0</td>\n",
       "      <td>0.014286</td>\n",
       "      <td>0.025124</td>\n",
       "      <td>0.050000</td>\n",
       "      <td>0.200000</td>\n",
       "      <td>0.035714</td>\n",
       "    </tr>\n",
       "    <tr>\n",
       "      <th>PageValues</th>\n",
       "      <td>12316.0</td>\n",
       "      <td>5.895952</td>\n",
       "      <td>18.577926</td>\n",
       "      <td>0.0</td>\n",
       "      <td>0.000000</td>\n",
       "      <td>0.000000</td>\n",
       "      <td>0.000000</td>\n",
       "      <td>361.763742</td>\n",
       "      <td>0.000000</td>\n",
       "    </tr>\n",
       "  </tbody>\n",
       "</table>\n",
       "</div>"
      ],
      "text/plain": [
       "                           count         mean          std  min         25%  \\\n",
       "Administrative           12316.0     2.317798     3.322754  0.0    0.000000   \n",
       "Administrative_Duration  12316.0    80.908856   176.859199  0.0    0.000000   \n",
       "Informational            12316.0     0.503979     1.270701  0.0    0.000000   \n",
       "Informational_Duration   12316.0    34.509067   140.824813  0.0    0.000000   \n",
       "ProductRelated           12316.0    31.763884    44.490339  0.0    7.000000   \n",
       "ProductRelated_Duration  12316.0  1196.039736  1914.370836  0.0  185.000000   \n",
       "BounceRates              12316.0     0.022152     0.048427  0.0    0.000000   \n",
       "ExitRates                12316.0     0.043003     0.048527  0.0    0.014286   \n",
       "PageValues               12316.0     5.895952    18.577926  0.0    0.000000   \n",
       "\n",
       "                                50%          75%           max          iqr  \n",
       "Administrative             1.000000     4.000000     27.000000     4.000000  \n",
       "Administrative_Duration    8.000000    93.500000   3398.750000    93.500000  \n",
       "Informational              0.000000     0.000000     24.000000     0.000000  \n",
       "Informational_Duration     0.000000     0.000000   2549.375000     0.000000  \n",
       "ProductRelated            18.000000    38.000000    705.000000    31.000000  \n",
       "ProductRelated_Duration  599.766190  1466.479902  63973.522230  1281.479902  \n",
       "BounceRates                0.003119     0.016684      0.200000     0.016684  \n",
       "ExitRates                  0.025124     0.050000      0.200000     0.035714  \n",
       "PageValues                 0.000000     0.000000    361.763742     0.000000  "
      ]
     },
     "execution_count": 38,
     "metadata": {},
     "output_type": "execute_result"
    }
   ],
   "source": [
    "#create a copy of the original dataframe in order to perform the study without impacting the original df.\n",
    "\n",
    "df_copy1 = df.copy()\n",
    "\n",
    "#Create a dataframe with aggregation calculation: quantile 25th and 75th.\n",
    "stats = df_copy1[['Administrative', 'Administrative_Duration', 'Informational',\n",
    "       'Informational_Duration', 'ProductRelated', 'ProductRelated_Duration',\n",
    "       'BounceRates', 'ExitRates', 'PageValues']].describe().transpose()\n",
    "\n",
    "# stats = df_copy1[['Administrative_Duration','Informational_Duration','ProductRelated_Duration']].describe().transpose()\n",
    "\n",
    "#create a new column for iqr value\n",
    "stats['iqr'] = stats['75%']-stats['25%']\n",
    "\n",
    "stats"
   ]
  },
  {
   "cell_type": "code",
   "execution_count": 39,
   "metadata": {},
   "outputs": [],
   "source": [
    "outliers = pd.DataFrame(columns=['Administrative', 'Administrative_Duration', 'Informational',\n",
    "       'Informational_Duration', 'ProductRelated', 'ProductRelated_Duration',\n",
    "       'BounceRates', 'ExitRates', 'PageValues'])\n",
    "\n",
    "# outliers = pd.DataFrame(columns=['Administrative_Duration','Informational_Duration','ProductRelated_Duration'])\n",
    " \n",
    "for col in stats.index:\n",
    "    iqr = stats.at[col,'iqr']\n",
    "    cutoff = iqr * 1.5\n",
    "#     cutoff = iqr*1.7\n",
    "    lower = stats.at[col,'25%'] - cutoff\n",
    "    upper = stats.at[col,'75%'] + cutoff\n",
    "    results = df_copy1[(df_copy1[col] < lower) | \n",
    "                   (df_copy1[col] > upper)].copy()\n",
    "    results['Outlier'] = col\n",
    "    outliers = outliers.append(results)"
   ]
  },
  {
   "cell_type": "code",
   "execution_count": 40,
   "metadata": {},
   "outputs": [
    {
     "data": {
      "text/plain": [
       "Int64Index([   62,   248,   282,   288,   478,   502,   510,   552,   575,\n",
       "              611,\n",
       "            ...\n",
       "            12273, 12276, 12278, 12285, 12287, 12307, 12312, 12313, 12319,\n",
       "            12325],\n",
       "           dtype='int64', length=13924)"
      ]
     },
     "execution_count": 40,
     "metadata": {},
     "output_type": "execute_result"
    }
   ],
   "source": [
    "outliers.index"
   ]
  },
  {
   "cell_type": "code",
   "execution_count": 41,
   "metadata": {
    "scrolled": true
   },
   "outputs": [
    {
     "name": "stdout",
     "output_type": "stream",
     "text": [
      "The number of outliers is: 13924\n"
     ]
    }
   ],
   "source": [
    "#Create a list of index of the outliers so that we can use to drop directly the corresponding rows.\n",
    "lst_outliers = outliers.index.tolist()\n",
    "\n",
    "print(f'The number of outliers is:',len(lst_outliers))"
   ]
  },
  {
   "cell_type": "code",
   "execution_count": 42,
   "metadata": {},
   "outputs": [],
   "source": [
    "#Drop rows containing outliers based on the list of indexes above and store data without outliers in a new dataframe \n",
    "df_copy1_no_out = df_copy1.drop(lst_outliers).reset_index(drop = True)"
   ]
  },
  {
   "cell_type": "code",
   "execution_count": 43,
   "metadata": {
    "scrolled": true
   },
   "outputs": [
    {
     "data": {
      "text/plain": [
       "False    5682\n",
       "True      190\n",
       "Name: Revenue, dtype: int64"
      ]
     },
     "execution_count": 43,
     "metadata": {},
     "output_type": "execute_result"
    }
   ],
   "source": [
    "df_copy1_no_out['Revenue'].value_counts()"
   ]
  },
  {
   "cell_type": "code",
   "execution_count": 44,
   "metadata": {},
   "outputs": [
    {
     "data": {
      "text/plain": [
       "False    10408\n",
       "True      1908\n",
       "Name: Revenue, dtype: int64"
      ]
     },
     "execution_count": 44,
     "metadata": {},
     "output_type": "execute_result"
    }
   ],
   "source": [
    "df['Revenue'].value_counts()"
   ]
  },
  {
   "cell_type": "markdown",
   "metadata": {},
   "source": [
    "As we can see, after dealing with outliers by detecting them via IQR*1.5 and removing them, our dataset decreases the number of rows by more than a half. In addition to this, by removing outliers, we increase the imbalance between the values of the target feature.\n",
    "\n",
    "Thus, for now, we keep these columns as they are. However, we will use the Principal Component Analysis (PCA) to identify the important features then will remove the outliers for these features."
   ]
  },
  {
   "cell_type": "code",
   "execution_count": 45,
   "metadata": {},
   "outputs": [
    {
     "data": {
      "text/plain": [
       "<matplotlib.axes._subplots.AxesSubplot at 0x29c27cbf940>"
      ]
     },
     "execution_count": 45,
     "metadata": {},
     "output_type": "execute_result"
    },
    {
     "data": {
      "image/png": "[encoded data removed]",
      "text/plain": [
       "<Figure size 720x720 with 2 Axes>"
      ]
     },
     "metadata": {},
     "output_type": "display_data"
    }
   ],
   "source": [
    "plt.figure(figsize = (10,10))\n",
    "sns.heatmap(df.corr(), annot = True, annot_kws = {'size':10})"
   ]
  },
  {
   "cell_type": "code",
   "execution_count": 46,
   "metadata": {},
   "outputs": [
    {
     "data": {
      "text/html": [
       "<div>\n",
       "<style scoped>\n",
       "    .dataframe tbody tr th:only-of-type {\n",
       "        vertical-align: middle;\n",
       "    }\n",
       "\n",
       "    .dataframe tbody tr th {\n",
       "        vertical-align: top;\n",
       "    }\n",
       "\n",
       "    .dataframe thead th {\n",
       "        text-align: right;\n",
       "    }\n",
       "</style>\n",
       "<table border=\"1\" class=\"dataframe\">\n",
       "  <thead>\n",
       "    <tr style=\"text-align: right;\">\n",
       "      <th></th>\n",
       "      <th></th>\n",
       "      <th>Region</th>\n",
       "    </tr>\n",
       "    <tr>\n",
       "      <th>Month</th>\n",
       "      <th>Weekend</th>\n",
       "      <th></th>\n",
       "    </tr>\n",
       "  </thead>\n",
       "  <tbody>\n",
       "    <tr>\n",
       "      <th rowspan=\"2\" valign=\"top\">2</th>\n",
       "      <th>False</th>\n",
       "      <td>156</td>\n",
       "    </tr>\n",
       "    <tr>\n",
       "      <th>True</th>\n",
       "      <td>28</td>\n",
       "    </tr>\n",
       "    <tr>\n",
       "      <th rowspan=\"2\" valign=\"top\">3</th>\n",
       "      <th>False</th>\n",
       "      <td>1416</td>\n",
       "    </tr>\n",
       "    <tr>\n",
       "      <th>True</th>\n",
       "      <td>478</td>\n",
       "    </tr>\n",
       "    <tr>\n",
       "      <th rowspan=\"2\" valign=\"top\">5</th>\n",
       "      <th>False</th>\n",
       "      <td>2648</td>\n",
       "    </tr>\n",
       "    <tr>\n",
       "      <th>True</th>\n",
       "      <td>715</td>\n",
       "    </tr>\n",
       "    <tr>\n",
       "      <th rowspan=\"2\" valign=\"top\">6</th>\n",
       "      <th>False</th>\n",
       "      <td>241</td>\n",
       "    </tr>\n",
       "    <tr>\n",
       "      <th>True</th>\n",
       "      <td>47</td>\n",
       "    </tr>\n",
       "    <tr>\n",
       "      <th rowspan=\"2\" valign=\"top\">7</th>\n",
       "      <th>False</th>\n",
       "      <td>328</td>\n",
       "    </tr>\n",
       "    <tr>\n",
       "      <th>True</th>\n",
       "      <td>104</td>\n",
       "    </tr>\n",
       "    <tr>\n",
       "      <th rowspan=\"2\" valign=\"top\">8</th>\n",
       "      <th>False</th>\n",
       "      <td>337</td>\n",
       "    </tr>\n",
       "    <tr>\n",
       "      <th>True</th>\n",
       "      <td>96</td>\n",
       "    </tr>\n",
       "    <tr>\n",
       "      <th rowspan=\"2\" valign=\"top\">9</th>\n",
       "      <th>False</th>\n",
       "      <td>352</td>\n",
       "    </tr>\n",
       "    <tr>\n",
       "      <th>True</th>\n",
       "      <td>96</td>\n",
       "    </tr>\n",
       "    <tr>\n",
       "      <th rowspan=\"2\" valign=\"top\">10</th>\n",
       "      <th>False</th>\n",
       "      <td>405</td>\n",
       "    </tr>\n",
       "    <tr>\n",
       "      <th>True</th>\n",
       "      <td>144</td>\n",
       "    </tr>\n",
       "    <tr>\n",
       "      <th rowspan=\"2\" valign=\"top\">11</th>\n",
       "      <th>False</th>\n",
       "      <td>2207</td>\n",
       "    </tr>\n",
       "    <tr>\n",
       "      <th>True</th>\n",
       "      <td>791</td>\n",
       "    </tr>\n",
       "    <tr>\n",
       "      <th rowspan=\"2\" valign=\"top\">12</th>\n",
       "      <th>False</th>\n",
       "      <td>1361</td>\n",
       "    </tr>\n",
       "    <tr>\n",
       "      <th>True</th>\n",
       "      <td>366</td>\n",
       "    </tr>\n",
       "  </tbody>\n",
       "</table>\n",
       "</div>"
      ],
      "text/plain": [
       "               Region\n",
       "Month Weekend        \n",
       "2     False       156\n",
       "      True         28\n",
       "3     False      1416\n",
       "      True        478\n",
       "5     False      2648\n",
       "      True        715\n",
       "6     False       241\n",
       "      True         47\n",
       "7     False       328\n",
       "      True        104\n",
       "8     False       337\n",
       "      True         96\n",
       "9     False       352\n",
       "      True         96\n",
       "10    False       405\n",
       "      True        144\n",
       "11    False      2207\n",
       "      True        791\n",
       "12    False      1361\n",
       "      True        366"
      ]
     },
     "execution_count": 46,
     "metadata": {},
     "output_type": "execute_result"
    }
   ],
   "source": [
    "df.pivot_table(index = ['Month','Weekend'], values = 'Region', aggfunc = 'count')"
   ]
  },
  {
   "cell_type": "code",
   "execution_count": 47,
   "metadata": {
    "scrolled": false
   },
   "outputs": [
    {
     "data": {
      "text/html": [
       "<div>\n",
       "<style scoped>\n",
       "    .dataframe tbody tr th:only-of-type {\n",
       "        vertical-align: middle;\n",
       "    }\n",
       "\n",
       "    .dataframe tbody tr th {\n",
       "        vertical-align: top;\n",
       "    }\n",
       "\n",
       "    .dataframe thead th {\n",
       "        text-align: right;\n",
       "    }\n",
       "</style>\n",
       "<table border=\"1\" class=\"dataframe\">\n",
       "  <thead>\n",
       "    <tr style=\"text-align: right;\">\n",
       "      <th></th>\n",
       "      <th>Administrative</th>\n",
       "      <th>Administrative_Duration</th>\n",
       "      <th>Informational</th>\n",
       "      <th>Informational_Duration</th>\n",
       "      <th>ProductRelated</th>\n",
       "      <th>ProductRelated_Duration</th>\n",
       "      <th>BounceRates</th>\n",
       "      <th>ExitRates</th>\n",
       "      <th>PageValues</th>\n",
       "      <th>SpecialDay</th>\n",
       "      <th>Month</th>\n",
       "      <th>OperatingSystems</th>\n",
       "      <th>Browser</th>\n",
       "      <th>Region</th>\n",
       "      <th>TrafficType</th>\n",
       "      <th>VisitorType</th>\n",
       "      <th>Weekend</th>\n",
       "      <th>Revenue</th>\n",
       "    </tr>\n",
       "  </thead>\n",
       "  <tbody>\n",
       "    <tr>\n",
       "      <th>5622</th>\n",
       "      <td>1.0</td>\n",
       "      <td>12.0</td>\n",
       "      <td>0.0</td>\n",
       "      <td>0.0</td>\n",
       "      <td>0.0</td>\n",
       "      <td>0.0</td>\n",
       "      <td>0.0</td>\n",
       "      <td>0.022222</td>\n",
       "      <td>0.0</td>\n",
       "      <td>0.0</td>\n",
       "      <td>8</td>\n",
       "      <td>3</td>\n",
       "      <td>2</td>\n",
       "      <td>6</td>\n",
       "      <td>2</td>\n",
       "      <td>Returning_Visitor</td>\n",
       "      <td>True</td>\n",
       "      <td>True</td>\n",
       "    </tr>\n",
       "    <tr>\n",
       "      <th>6079</th>\n",
       "      <td>2.0</td>\n",
       "      <td>17.2</td>\n",
       "      <td>0.0</td>\n",
       "      <td>0.0</td>\n",
       "      <td>0.0</td>\n",
       "      <td>0.0</td>\n",
       "      <td>0.0</td>\n",
       "      <td>0.050000</td>\n",
       "      <td>0.0</td>\n",
       "      <td>0.0</td>\n",
       "      <td>9</td>\n",
       "      <td>2</td>\n",
       "      <td>2</td>\n",
       "      <td>2</td>\n",
       "      <td>6</td>\n",
       "      <td>New_Visitor</td>\n",
       "      <td>True</td>\n",
       "      <td>True</td>\n",
       "    </tr>\n",
       "    <tr>\n",
       "      <th>6290</th>\n",
       "      <td>1.0</td>\n",
       "      <td>29.2</td>\n",
       "      <td>0.0</td>\n",
       "      <td>0.0</td>\n",
       "      <td>0.0</td>\n",
       "      <td>0.0</td>\n",
       "      <td>0.0</td>\n",
       "      <td>0.066667</td>\n",
       "      <td>0.0</td>\n",
       "      <td>0.0</td>\n",
       "      <td>11</td>\n",
       "      <td>1</td>\n",
       "      <td>1</td>\n",
       "      <td>4</td>\n",
       "      <td>2</td>\n",
       "      <td>Returning_Visitor</td>\n",
       "      <td>True</td>\n",
       "      <td>True</td>\n",
       "    </tr>\n",
       "    <tr>\n",
       "      <th>6539</th>\n",
       "      <td>1.0</td>\n",
       "      <td>23.2</td>\n",
       "      <td>0.0</td>\n",
       "      <td>0.0</td>\n",
       "      <td>0.0</td>\n",
       "      <td>0.0</td>\n",
       "      <td>0.0</td>\n",
       "      <td>0.033333</td>\n",
       "      <td>0.0</td>\n",
       "      <td>0.0</td>\n",
       "      <td>10</td>\n",
       "      <td>2</td>\n",
       "      <td>2</td>\n",
       "      <td>6</td>\n",
       "      <td>3</td>\n",
       "      <td>Returning_Visitor</td>\n",
       "      <td>False</td>\n",
       "      <td>True</td>\n",
       "    </tr>\n",
       "    <tr>\n",
       "      <th>7691</th>\n",
       "      <td>1.0</td>\n",
       "      <td>24.2</td>\n",
       "      <td>0.0</td>\n",
       "      <td>0.0</td>\n",
       "      <td>0.0</td>\n",
       "      <td>0.0</td>\n",
       "      <td>0.0</td>\n",
       "      <td>0.066667</td>\n",
       "      <td>0.0</td>\n",
       "      <td>0.0</td>\n",
       "      <td>11</td>\n",
       "      <td>1</td>\n",
       "      <td>1</td>\n",
       "      <td>1</td>\n",
       "      <td>3</td>\n",
       "      <td>Returning_Visitor</td>\n",
       "      <td>True</td>\n",
       "      <td>True</td>\n",
       "    </tr>\n",
       "    <tr>\n",
       "      <th>9166</th>\n",
       "      <td>1.0</td>\n",
       "      <td>25.5</td>\n",
       "      <td>0.0</td>\n",
       "      <td>0.0</td>\n",
       "      <td>0.0</td>\n",
       "      <td>0.0</td>\n",
       "      <td>0.0</td>\n",
       "      <td>0.066667</td>\n",
       "      <td>0.0</td>\n",
       "      <td>0.0</td>\n",
       "      <td>11</td>\n",
       "      <td>1</td>\n",
       "      <td>1</td>\n",
       "      <td>8</td>\n",
       "      <td>8</td>\n",
       "      <td>New_Visitor</td>\n",
       "      <td>False</td>\n",
       "      <td>True</td>\n",
       "    </tr>\n",
       "  </tbody>\n",
       "</table>\n",
       "</div>"
      ],
      "text/plain": [
       "      Administrative  Administrative_Duration  Informational  \\\n",
       "5622             1.0                     12.0            0.0   \n",
       "6079             2.0                     17.2            0.0   \n",
       "6290             1.0                     29.2            0.0   \n",
       "6539             1.0                     23.2            0.0   \n",
       "7691             1.0                     24.2            0.0   \n",
       "9166             1.0                     25.5            0.0   \n",
       "\n",
       "      Informational_Duration  ProductRelated  ProductRelated_Duration  \\\n",
       "5622                     0.0             0.0                      0.0   \n",
       "6079                     0.0             0.0                      0.0   \n",
       "6290                     0.0             0.0                      0.0   \n",
       "6539                     0.0             0.0                      0.0   \n",
       "7691                     0.0             0.0                      0.0   \n",
       "9166                     0.0             0.0                      0.0   \n",
       "\n",
       "      BounceRates  ExitRates  PageValues  SpecialDay  Month  OperatingSystems  \\\n",
       "5622          0.0   0.022222         0.0         0.0      8                 3   \n",
       "6079          0.0   0.050000         0.0         0.0      9                 2   \n",
       "6290          0.0   0.066667         0.0         0.0     11                 1   \n",
       "6539          0.0   0.033333         0.0         0.0     10                 2   \n",
       "7691          0.0   0.066667         0.0         0.0     11                 1   \n",
       "9166          0.0   0.066667         0.0         0.0     11                 1   \n",
       "\n",
       "      Browser  Region  TrafficType        VisitorType  Weekend  Revenue  \n",
       "5622        2       6            2  Returning_Visitor     True     True  \n",
       "6079        2       2            6        New_Visitor     True     True  \n",
       "6290        1       4            2  Returning_Visitor     True     True  \n",
       "6539        2       6            3  Returning_Visitor    False     True  \n",
       "7691        1       1            3  Returning_Visitor     True     True  \n",
       "9166        1       8            8        New_Visitor    False     True  "
      ]
     },
     "execution_count": 47,
     "metadata": {},
     "output_type": "execute_result"
    }
   ],
   "source": [
    "# df[(df['Informational']== 0)&(df['Revenue'] == 1)&(df['ProductRelated'] == 0)]\n",
    "df[(df['ProductRelated']== 0)&(df['Revenue'] == 1)&(df['ProductRelated'] == 0)]\n",
    "# df[(df['ProductRelated']== 0)&(df['ProductRelated_Duration'] != 0)]"
   ]
  },
  {
   "cell_type": "code",
   "execution_count": 48,
   "metadata": {},
   "outputs": [
    {
     "data": {
      "text/plain": [
       "numpy.bool_"
      ]
     },
     "execution_count": 48,
     "metadata": {},
     "output_type": "execute_result"
    }
   ],
   "source": [
    "type(df['Weekend'].unique()[0])"
   ]
  },
  {
   "cell_type": "markdown",
   "metadata": {},
   "source": [
    "# Exploratory Data Analysis"
   ]
  },
  {
   "cell_type": "code",
   "execution_count": 49,
   "metadata": {
    "scrolled": false
   },
   "outputs": [
    {
     "data": {
      "image/png": "[encoded data removed]",
      "text/plain": [
       "<Figure size 432x288 with 1 Axes>"
      ]
     },
     "metadata": {},
     "output_type": "display_data"
    }
   ],
   "source": [
    "sns.countplot(df['Revenue'],palette='Set3');"
   ]
  },
  {
   "cell_type": "code",
   "execution_count": 50,
   "metadata": {},
   "outputs": [
    {
     "data": {
      "text/plain": [
       "Text(0, 0.5, 'count')"
      ]
     },
     "execution_count": 50,
     "metadata": {},
     "output_type": "execute_result"
    },
    {
     "data": {
      "image/png": "[encoded data removed]",
      "text/plain": [
       "<Figure size 1296x504 with 1 Axes>"
      ]
     },
     "metadata": {},
     "output_type": "display_data"
    }
   ],
   "source": [
    "\n",
    "plt.rcParams['figure.figsize'] = (18, 7)\n",
    "\n",
    "plt.subplot(1, 2, 1)\n",
    "sns.countplot(df['Revenue'], palette = 'pastel')\n",
    "plt.title('Buy or Not', fontsize = 30)\n",
    "plt.xlabel('Revenue or not', fontsize = 15)\n",
    "plt.ylabel('count', fontsize = 15)"
   ]
  },
  {
   "cell_type": "code",
   "execution_count": 51,
   "metadata": {},
   "outputs": [
    {
     "data": {
      "image/png": "[encoded data removed]",
      "text/plain": [
       "<Figure size 1296x504 with 1 Axes>"
      ]
     },
     "metadata": {},
     "output_type": "display_data"
    }
   ],
   "source": [
    "sns.countplot(df['SpecialDay'], palette='Set3');"
   ]
  },
  {
   "cell_type": "code",
   "execution_count": 52,
   "metadata": {
    "scrolled": true
   },
   "outputs": [
    {
     "data": {
      "image/png": "[encoded data removed]",
      "text/plain": [
       "<Figure size 1296x504 with 1 Axes>"
      ]
     },
     "metadata": {},
     "output_type": "display_data"
    }
   ],
   "source": [
    "sns.countplot(df['OperatingSystems']);"
   ]
  },
  {
   "cell_type": "code",
   "execution_count": 53,
   "metadata": {
    "scrolled": true
   },
   "outputs": [
    {
     "data": {
      "image/png": "[encoded data removed]",
      "text/plain": [
       "<Figure size 1296x504 with 1 Axes>"
      ]
     },
     "metadata": {},
     "output_type": "display_data"
    }
   ],
   "source": [
    "sns.countplot(df['Browser'], palette='Set2');"
   ]
  },
  {
   "cell_type": "code",
   "execution_count": 54,
   "metadata": {},
   "outputs": [
    {
     "data": {
      "image/png": "[encoded data removed]",
      "text/plain": [
       "<Figure size 1296x504 with 1 Axes>"
      ]
     },
     "metadata": {},
     "output_type": "display_data"
    }
   ],
   "source": [
    "sns.countplot(df['Region'], palette='Set1');"
   ]
  },
  {
   "cell_type": "code",
   "execution_count": 55,
   "metadata": {},
   "outputs": [
    {
     "data": {
      "image/png": "[encoded data removed]",
      "text/plain": [
       "<Figure size 1296x504 with 1 Axes>"
      ]
     },
     "metadata": {},
     "output_type": "display_data"
    }
   ],
   "source": [
    "sns.countplot(df['TrafficType'], palette='Set1');\n"
   ]
  },
  {
   "cell_type": "markdown",
   "metadata": {},
   "source": [
    "# Modeling"
   ]
  },
  {
   "cell_type": "markdown",
   "metadata": {},
   "source": [
    "## Dataset preparation"
   ]
  },
  {
   "cell_type": "markdown",
   "metadata": {},
   "source": [
    "Features Selectors (for categorical values = use Chi Square)\n",
    "\n",
    "Model selection (logistic regression, GaussianNB, KNN, SVC, Random Forest,  + specific structure of features for each model:\n",
    "\n",
    "    - decision trees, Random Forest -> no prob of collinearity, outliers, and keep categorical columns as they are, no dummies needed\n",
    "    \n",
    "    - KNN, SVM: scaling is needed when range of values is differente between features\n",
    "    \n",
    "    from sklearn.neighbors import KNeighborsClassifier\n",
    "from sklearn.linear_model import LogisticRegression\n",
    "from sklearn.svm import SVC\n",
    "from sklearn.naive_bayes import GaussianNB\n",
    "from sklearn.ensemble import AdaBoostClassifier, RandomForestClassifier\n",
    "from xgboost import XGBClassifier\n",
    "from catboost import CatBoostClassifier\n",
    "from sklearn.tree import DecisionTreeClassifier\n",
    "\n",
    "Select the measurement index of the quality of model: R^squared between train and test, accuracy score, recall, precision, F1 score\n",
    "\n",
    "\n",
    "Way to improve the model result (overfit of undefit prob): \n",
    "    - the most common way to improve the fit of a model is by using regularization (only for linear regression not for classification????)\n",
    "    - Create a simpler model\n",
    "    - Increase the train sample size (only apply to linear regression???).\n",
    "    - Use Features Selectors (select the relevant for classification)"
   ]
  },
  {
   "cell_type": "markdown",
   "metadata": {},
   "source": [
    "### Non scaled dataframe"
   ]
  },
  {
   "cell_type": "code",
   "execution_count": 56,
   "metadata": {},
   "outputs": [],
   "source": [
    "#Create a copy of a clean data frame\n",
    "df_model = df.copy()"
   ]
  },
  {
   "cell_type": "code",
   "execution_count": 57,
   "metadata": {
    "scrolled": true
   },
   "outputs": [],
   "source": [
    "#Create dummies for the column \"Visitor Type\"\n",
    "\n",
    "df_model = pd.get_dummies(df_model, columns = ['SpecialDay', 'Month', 'OperatingSystems', 'Browser', 'Region',\n",
    "       'TrafficType', 'Weekend','VisitorType'], drop_first = True)"
   ]
  },
  {
   "cell_type": "code",
   "execution_count": 58,
   "metadata": {
    "scrolled": true
   },
   "outputs": [
    {
     "data": {
      "text/plain": [
       "(12316, 73)"
      ]
     },
     "execution_count": 58,
     "metadata": {},
     "output_type": "execute_result"
    }
   ],
   "source": [
    "df_model.shape"
   ]
  },
  {
   "cell_type": "markdown",
   "metadata": {},
   "source": [
    "### Scaled dataframe"
   ]
  },
  {
   "cell_type": "code",
   "execution_count": 59,
   "metadata": {},
   "outputs": [],
   "source": [
    "df_model_scaled = df_model.copy()"
   ]
  },
  {
   "cell_type": "code",
   "execution_count": 60,
   "metadata": {},
   "outputs": [
    {
     "data": {
      "text/plain": [
       "Administrative                   0\n",
       "Administrative_Duration          0\n",
       "Informational                    0\n",
       "Informational_Duration           0\n",
       "ProductRelated                   0\n",
       "                                ..\n",
       "TrafficType_19                   0\n",
       "TrafficType_20                   0\n",
       "Weekend_True                     0\n",
       "VisitorType_Other                0\n",
       "VisitorType_Returning_Visitor    0\n",
       "Length: 73, dtype: int64"
      ]
     },
     "execution_count": 60,
     "metadata": {},
     "output_type": "execute_result"
    }
   ],
   "source": [
    "df_model_scaled.isna().sum()"
   ]
  },
  {
   "cell_type": "code",
   "execution_count": 61,
   "metadata": {},
   "outputs": [],
   "source": [
    "#Create a list of column to scale\n",
    "col_names = ['Administrative', 'Administrative_Duration', 'Informational','Informational_Duration', 'ProductRelated', 'ProductRelated_Duration','PageValues','BounceRates', 'ExitRates']\n",
    "\n",
    "#Create a new dataframe containing only these column\n",
    "features = df_model_scaled[col_names]\n",
    "\n",
    "#Fit StandardScaler into this dataframe\n",
    "features = pd.DataFrame(StandardScaler().fit_transform(features), columns = col_names)\n",
    "\n",
    "#Add the new scaled values of selected columns to the original dataframe\n",
    "df_model_scaled[col_names] = features"
   ]
  },
  {
   "cell_type": "code",
   "execution_count": 62,
   "metadata": {
    "scrolled": false
   },
   "outputs": [
    {
     "data": {
      "text/html": [
       "<div>\n",
       "<style scoped>\n",
       "    .dataframe tbody tr th:only-of-type {\n",
       "        vertical-align: middle;\n",
       "    }\n",
       "\n",
       "    .dataframe tbody tr th {\n",
       "        vertical-align: top;\n",
       "    }\n",
       "\n",
       "    .dataframe thead th {\n",
       "        text-align: right;\n",
       "    }\n",
       "</style>\n",
       "<table border=\"1\" class=\"dataframe\">\n",
       "  <thead>\n",
       "    <tr style=\"text-align: right;\">\n",
       "      <th></th>\n",
       "      <th>Administrative</th>\n",
       "      <th>Administrative_Duration</th>\n",
       "      <th>Informational</th>\n",
       "      <th>Informational_Duration</th>\n",
       "      <th>ProductRelated</th>\n",
       "      <th>ProductRelated_Duration</th>\n",
       "      <th>BounceRates</th>\n",
       "      <th>ExitRates</th>\n",
       "      <th>PageValues</th>\n",
       "      <th>Revenue</th>\n",
       "      <th>...</th>\n",
       "      <th>TrafficType_14</th>\n",
       "      <th>TrafficType_15</th>\n",
       "      <th>TrafficType_16</th>\n",
       "      <th>TrafficType_17</th>\n",
       "      <th>TrafficType_18</th>\n",
       "      <th>TrafficType_19</th>\n",
       "      <th>TrafficType_20</th>\n",
       "      <th>Weekend_True</th>\n",
       "      <th>VisitorType_Other</th>\n",
       "      <th>VisitorType_Returning_Visitor</th>\n",
       "    </tr>\n",
       "  </thead>\n",
       "  <tbody>\n",
       "    <tr>\n",
       "      <th>0</th>\n",
       "      <td>-0.697582</td>\n",
       "      <td>-0.457495</td>\n",
       "      <td>-0.396631</td>\n",
       "      <td>-0.24506</td>\n",
       "      <td>-0.691501</td>\n",
       "      <td>-0.624794</td>\n",
       "      <td>3.672627</td>\n",
       "      <td>3.235371</td>\n",
       "      <td>-0.317376</td>\n",
       "      <td>False</td>\n",
       "      <td>...</td>\n",
       "      <td>0</td>\n",
       "      <td>0</td>\n",
       "      <td>0</td>\n",
       "      <td>0</td>\n",
       "      <td>0</td>\n",
       "      <td>0</td>\n",
       "      <td>0</td>\n",
       "      <td>0</td>\n",
       "      <td>0</td>\n",
       "      <td>1</td>\n",
       "    </tr>\n",
       "    <tr>\n",
       "      <th>1</th>\n",
       "      <td>-0.697582</td>\n",
       "      <td>-0.457495</td>\n",
       "      <td>-0.396631</td>\n",
       "      <td>-0.24506</td>\n",
       "      <td>-0.669024</td>\n",
       "      <td>-0.591362</td>\n",
       "      <td>-0.457458</td>\n",
       "      <td>1.174592</td>\n",
       "      <td>-0.317376</td>\n",
       "      <td>False</td>\n",
       "      <td>...</td>\n",
       "      <td>0</td>\n",
       "      <td>0</td>\n",
       "      <td>0</td>\n",
       "      <td>0</td>\n",
       "      <td>0</td>\n",
       "      <td>0</td>\n",
       "      <td>0</td>\n",
       "      <td>0</td>\n",
       "      <td>0</td>\n",
       "      <td>1</td>\n",
       "    </tr>\n",
       "    <tr>\n",
       "      <th>2</th>\n",
       "      <td>-0.697582</td>\n",
       "      <td>-0.457495</td>\n",
       "      <td>-0.396631</td>\n",
       "      <td>-0.24506</td>\n",
       "      <td>-0.691501</td>\n",
       "      <td>-0.624794</td>\n",
       "      <td>3.672627</td>\n",
       "      <td>3.235371</td>\n",
       "      <td>-0.317376</td>\n",
       "      <td>False</td>\n",
       "      <td>...</td>\n",
       "      <td>0</td>\n",
       "      <td>0</td>\n",
       "      <td>0</td>\n",
       "      <td>0</td>\n",
       "      <td>0</td>\n",
       "      <td>0</td>\n",
       "      <td>0</td>\n",
       "      <td>0</td>\n",
       "      <td>0</td>\n",
       "      <td>1</td>\n",
       "    </tr>\n",
       "    <tr>\n",
       "      <th>3</th>\n",
       "      <td>-0.697582</td>\n",
       "      <td>-0.457495</td>\n",
       "      <td>-0.396631</td>\n",
       "      <td>-0.24506</td>\n",
       "      <td>-0.669024</td>\n",
       "      <td>-0.623401</td>\n",
       "      <td>0.575063</td>\n",
       "      <td>1.998904</td>\n",
       "      <td>-0.317376</td>\n",
       "      <td>False</td>\n",
       "      <td>...</td>\n",
       "      <td>0</td>\n",
       "      <td>0</td>\n",
       "      <td>0</td>\n",
       "      <td>0</td>\n",
       "      <td>0</td>\n",
       "      <td>0</td>\n",
       "      <td>0</td>\n",
       "      <td>0</td>\n",
       "      <td>0</td>\n",
       "      <td>1</td>\n",
       "    </tr>\n",
       "    <tr>\n",
       "      <th>4</th>\n",
       "      <td>-0.697582</td>\n",
       "      <td>-0.457495</td>\n",
       "      <td>-0.396631</td>\n",
       "      <td>-0.24506</td>\n",
       "      <td>-0.489202</td>\n",
       "      <td>-0.296997</td>\n",
       "      <td>-0.044449</td>\n",
       "      <td>0.144202</td>\n",
       "      <td>-0.317376</td>\n",
       "      <td>False</td>\n",
       "      <td>...</td>\n",
       "      <td>0</td>\n",
       "      <td>0</td>\n",
       "      <td>0</td>\n",
       "      <td>0</td>\n",
       "      <td>0</td>\n",
       "      <td>0</td>\n",
       "      <td>0</td>\n",
       "      <td>1</td>\n",
       "      <td>0</td>\n",
       "      <td>1</td>\n",
       "    </tr>\n",
       "  </tbody>\n",
       "</table>\n",
       "<p>5 rows × 73 columns</p>\n",
       "</div>"
      ],
      "text/plain": [
       "   Administrative  Administrative_Duration  Informational  \\\n",
       "0       -0.697582                -0.457495      -0.396631   \n",
       "1       -0.697582                -0.457495      -0.396631   \n",
       "2       -0.697582                -0.457495      -0.396631   \n",
       "3       -0.697582                -0.457495      -0.396631   \n",
       "4       -0.697582                -0.457495      -0.396631   \n",
       "\n",
       "   Informational_Duration  ProductRelated  ProductRelated_Duration  \\\n",
       "0                -0.24506       -0.691501                -0.624794   \n",
       "1                -0.24506       -0.669024                -0.591362   \n",
       "2                -0.24506       -0.691501                -0.624794   \n",
       "3                -0.24506       -0.669024                -0.623401   \n",
       "4                -0.24506       -0.489202                -0.296997   \n",
       "\n",
       "   BounceRates  ExitRates  PageValues  Revenue  ...  TrafficType_14  \\\n",
       "0     3.672627   3.235371   -0.317376    False  ...               0   \n",
       "1    -0.457458   1.174592   -0.317376    False  ...               0   \n",
       "2     3.672627   3.235371   -0.317376    False  ...               0   \n",
       "3     0.575063   1.998904   -0.317376    False  ...               0   \n",
       "4    -0.044449   0.144202   -0.317376    False  ...               0   \n",
       "\n",
       "   TrafficType_15  TrafficType_16  TrafficType_17  TrafficType_18  \\\n",
       "0               0               0               0               0   \n",
       "1               0               0               0               0   \n",
       "2               0               0               0               0   \n",
       "3               0               0               0               0   \n",
       "4               0               0               0               0   \n",
       "\n",
       "   TrafficType_19  TrafficType_20  Weekend_True  VisitorType_Other  \\\n",
       "0               0               0             0                  0   \n",
       "1               0               0             0                  0   \n",
       "2               0               0             0                  0   \n",
       "3               0               0             0                  0   \n",
       "4               0               0             1                  0   \n",
       "\n",
       "   VisitorType_Returning_Visitor  \n",
       "0                              1  \n",
       "1                              1  \n",
       "2                              1  \n",
       "3                              1  \n",
       "4                              1  \n",
       "\n",
       "[5 rows x 73 columns]"
      ]
     },
     "execution_count": 62,
     "metadata": {},
     "output_type": "execute_result"
    }
   ],
   "source": [
    "df_model_scaled.head()"
   ]
  },
  {
   "cell_type": "code",
   "execution_count": 63,
   "metadata": {},
   "outputs": [],
   "source": [
    "df_model_scaled.dropna(inplace = True)"
   ]
  },
  {
   "cell_type": "code",
   "execution_count": 64,
   "metadata": {},
   "outputs": [
    {
     "data": {
      "text/plain": [
       "(12302, 73)"
      ]
     },
     "execution_count": 64,
     "metadata": {},
     "output_type": "execute_result"
    }
   ],
   "source": [
    "df_model_scaled.shape"
   ]
  },
  {
   "cell_type": "markdown",
   "metadata": {},
   "source": [
    "### Note"
   ]
  },
  {
   "cell_type": "markdown",
   "metadata": {},
   "source": [
    "In our case, we are trying to predict if the user will buy the product. Thus, it is more important to focus on the recall score because it shows that of all Actual True cases, how many of them are predicted correctly by the model."
   ]
  },
  {
   "cell_type": "markdown",
   "metadata": {},
   "source": [
    "## First run "
   ]
  },
  {
   "cell_type": "markdown",
   "metadata": {},
   "source": [
    "Note:\n",
    "\n",
    "We will split the dataset into two sample: 80% for train sample and 20% for test sample"
   ]
  },
  {
   "cell_type": "markdown",
   "metadata": {},
   "source": [
    "Non scaled dataframe"
   ]
  },
  {
   "cell_type": "code",
   "execution_count": 65,
   "metadata": {},
   "outputs": [],
   "source": [
    "#Create X and y dataset\n",
    "\n",
    "y = df_model['Revenue'].map({False:0, True:1})\n",
    "X = df_model.drop(columns = 'Revenue')"
   ]
  },
  {
   "cell_type": "code",
   "execution_count": 66,
   "metadata": {},
   "outputs": [],
   "source": [
    "#Split the dataset into train sample and test sample with 20% of dataset for test sample\n",
    "\n",
    "X_train, X_test, y_train, y_test = train_test_split(X,y, test_size = 0.2, random_state = 42, stratify=df_model['Revenue']) \n"
   ]
  },
  {
   "cell_type": "code",
   "execution_count": 67,
   "metadata": {
    "scrolled": false
   },
   "outputs": [
    {
     "data": {
      "text/plain": [
       "(9852, 72)"
      ]
     },
     "execution_count": 67,
     "metadata": {},
     "output_type": "execute_result"
    }
   ],
   "source": [
    "X_train.shape"
   ]
  },
  {
   "cell_type": "markdown",
   "metadata": {},
   "source": [
    "Scaled dataframe"
   ]
  },
  {
   "cell_type": "code",
   "execution_count": 68,
   "metadata": {},
   "outputs": [],
   "source": [
    "#Create X and y dataset\n",
    "\n",
    "y_scaled = df_model_scaled['Revenue'].map({False:0, True:1})\n",
    "X_scaled = df_model_scaled.drop(columns = 'Revenue')"
   ]
  },
  {
   "cell_type": "code",
   "execution_count": 69,
   "metadata": {
    "scrolled": true
   },
   "outputs": [
    {
     "data": {
      "text/plain": [
       "(12302, 72)"
      ]
     },
     "execution_count": 69,
     "metadata": {},
     "output_type": "execute_result"
    }
   ],
   "source": [
    "X_scaled.shape"
   ]
  },
  {
   "cell_type": "code",
   "execution_count": 70,
   "metadata": {},
   "outputs": [],
   "source": [
    "#Split the dataset into train sample and test sample with 20% of dataset for test sample\n",
    "\n",
    "X_train_scaled, X_test_scaled, y_train_scaled, y_test_scaled = train_test_split(X_scaled,y_scaled, test_size = 0.2, random_state = 42, stratify=df_model_scaled['Revenue']) \n"
   ]
  },
  {
   "cell_type": "code",
   "execution_count": 71,
   "metadata": {},
   "outputs": [],
   "source": [
    "# X_train_scaled1 = X_train.copy()\n",
    "# X_test_scaled1 = X_test.copy()\n",
    "\n",
    "# features_train = X_train_scaled1[col_names]\n",
    "# features_train = pd.DataFrame(StandardScaler().fit_transform(features_train), columns = col_names)\n",
    "# X_train_scaled1[col_names] = features_train\n",
    "\n",
    "# features_test = X_test_scaled1[col_names]\n",
    "# features_test = pd.DataFrame(StandardScaler().fit_transform(features_test), columns = col_names)\n",
    "# X_test_scaled1[col_names] = features_test\n",
    "\n",
    "\n",
    "# y_train_scaled1 = y_train.copy()\n",
    "# y_test_scaled1 = y_test.copy()"
   ]
  },
  {
   "cell_type": "code",
   "execution_count": 72,
   "metadata": {
    "scrolled": true
   },
   "outputs": [
    {
     "data": {
      "text/plain": [
       "(9841, 72)"
      ]
     },
     "execution_count": 72,
     "metadata": {},
     "output_type": "execute_result"
    }
   ],
   "source": [
    "X_train_scaled.shape"
   ]
  },
  {
   "cell_type": "code",
   "execution_count": 73,
   "metadata": {},
   "outputs": [
    {
     "data": {
      "text/plain": [
       "(2461, 72)"
      ]
     },
     "execution_count": 73,
     "metadata": {},
     "output_type": "execute_result"
    }
   ],
   "source": [
    "X_test_scaled.shape"
   ]
  },
  {
   "cell_type": "code",
   "execution_count": 74,
   "metadata": {},
   "outputs": [
    {
     "data": {
      "text/plain": [
       "0    2079\n",
       "1     382\n",
       "Name: Revenue, dtype: int64"
      ]
     },
     "execution_count": 74,
     "metadata": {},
     "output_type": "execute_result"
    }
   ],
   "source": [
    "y_test_scaled.value_counts()"
   ]
  },
  {
   "cell_type": "markdown",
   "metadata": {},
   "source": [
    "### Decision Trees"
   ]
  },
  {
   "cell_type": "markdown",
   "metadata": {},
   "source": [
    "***Create functions***"
   ]
  },
  {
   "cell_type": "code",
   "execution_count": 75,
   "metadata": {},
   "outputs": [],
   "source": [
    "# Create the function to determine the most relevant level of depth of the decision trees model\n",
    "\n",
    "def dt_mean_score(x_train,y_train, x_test,y_test):\n",
    "    # Since we can choose the depth of the level of details of trees, we firstly try with the depth values from 1 to 25 and observe the change\n",
    "    #in the mean accuracy on the given test data and labels\n",
    "\n",
    "    scores =[]\n",
    "    for n in range(1,26):\n",
    "        #create tree classifier and fit the model to the train data\n",
    "        tree = DecisionTreeClassifier(max_depth = n)\n",
    "        tree.fit(x_train,y_train)\n",
    "        scores.append(tree.score(x_test, y_test))\n",
    "\n",
    "    #Plot the scores of different depth level\n",
    "    plt.plot(range(1,26),scores)\n",
    "    plt.show()"
   ]
  },
  {
   "cell_type": "code",
   "execution_count": 76,
   "metadata": {},
   "outputs": [],
   "source": [
    "# Create the function for decision tree model\n",
    "\n",
    "def decision_tree(x_train,y_train, x_test,y_test,depth_level):\n",
    "    #Create the tree classifier with the max_depth = 6 then fit it to the train data\n",
    "    tree = DecisionTreeClassifier(max_depth = depth_level)\n",
    "    tree.fit(x_train,y_train)\n",
    "\n",
    "    #Calculate the predicted target values\n",
    "    y_pred_tree = tree.predict(x_test)\n",
    "\n",
    "    #Calculate indices of quality of model\n",
    "    conf1=confusion_matrix(y_test, y_pred_tree)\n",
    "    acc1=accuracy_score(y_test, y_pred_tree)\n",
    "    rec1=recall_score(y_test, y_pred_tree)\n",
    "    pre1=precision_score(y_test, y_pred_tree)\n",
    "    f11=f1_score(y_test, y_pred_tree)\n",
    "\n",
    "    #Print these indices\n",
    "    display(conf1)\n",
    "    print('Accuracy', acc1)\n",
    "    print('Recall', rec1)\n",
    "    print('Precision', pre1)\n",
    "    print('F1', f11)"
   ]
  },
  {
   "cell_type": "markdown",
   "metadata": {},
   "source": [
    "***Test with non scaled dataframe***"
   ]
  },
  {
   "cell_type": "code",
   "execution_count": 77,
   "metadata": {
    "scrolled": false
   },
   "outputs": [
    {
     "data": {
      "image/png": "[encoded data removed]",
      "text/plain": [
       "<Figure size 1296x504 with 1 Axes>"
      ]
     },
     "metadata": {},
     "output_type": "display_data"
    }
   ],
   "source": [
    "# Since we can choose the depth of the level of details of trees, we firstly try with the depth values from 1 to 25 and observe the change\n",
    "#in the mean accuracy on the given test data and labels\n",
    "\n",
    "scores =[]\n",
    "for n in range(1,26):\n",
    "    #create tree classifier and fit the model to the train data\n",
    "    tree = DecisionTreeClassifier(max_depth = n)\n",
    "    tree.fit(X_train,y_train)\n",
    "    scores.append(tree.score(X_test, y_test))\n",
    "\n",
    "#Plot the scores of different depth level\n",
    "plt.plot(range(1,26),scores)\n",
    "plt.show()"
   ]
  },
  {
   "cell_type": "markdown",
   "metadata": {},
   "source": [
    "As we can see 6 is level of depth that has the highest value of the mean accuracy of the test sample (more than 95%).\n",
    "\n",
    "\n",
    "Thus, we will choose this level for our train model."
   ]
  },
  {
   "cell_type": "code",
   "execution_count": 78,
   "metadata": {
    "scrolled": false
   },
   "outputs": [
    {
     "data": {
      "text/plain": [
       "array([[2001,   81],\n",
       "       [ 172,  210]], dtype=int64)"
      ]
     },
     "metadata": {},
     "output_type": "display_data"
    },
    {
     "name": "stdout",
     "output_type": "stream",
     "text": [
      "Accuracy 0.8973214285714286\n",
      "Recall 0.5497382198952879\n",
      "Precision 0.7216494845360825\n",
      "F1 0.6240713224368499\n"
     ]
    }
   ],
   "source": [
    "#Create the tree classifier with the max_depth = 6 then fit it to the train data\n",
    "tree = DecisionTreeClassifier(max_depth = 6)\n",
    "tree.fit(X_train,y_train)\n",
    "\n",
    "#Calculate the predicted target values\n",
    "y_pred_tree = tree.predict(X_test)\n",
    "\n",
    "#Calculate indices of quality of model\n",
    "conf1=confusion_matrix(y_test, y_pred_tree)\n",
    "acc1=accuracy_score(y_test, y_pred_tree)\n",
    "rec1=recall_score(y_test, y_pred_tree)\n",
    "pre1=precision_score(y_test, y_pred_tree)\n",
    "f11=f1_score(y_test, y_pred_tree)\n",
    "\n",
    "#Print these indices\n",
    "display(conf1)\n",
    "print('Accuracy', acc1)\n",
    "print('Recall', rec1)\n",
    "print('Precision', pre1)\n",
    "print('F1', f11)"
   ]
  },
  {
   "cell_type": "markdown",
   "metadata": {},
   "source": [
    "***Test with scaled dataframe***"
   ]
  },
  {
   "cell_type": "code",
   "execution_count": 79,
   "metadata": {
    "scrolled": true
   },
   "outputs": [
    {
     "data": {
      "image/png": "[encoded data removed]",
      "text/plain": [
       "<Figure size 1296x504 with 1 Axes>"
      ]
     },
     "metadata": {},
     "output_type": "display_data"
    }
   ],
   "source": [
    "dt_mean_score(X_train_scaled, y_train_scaled, X_test_scaled, y_test_scaled)"
   ]
  },
  {
   "cell_type": "markdown",
   "metadata": {},
   "source": [
    "As we can see, with the scaled dataframe, the graph changes from the one of non scaled dataframe. The graph is less slop than the previous one. Also, the optimal depth value is still 6."
   ]
  },
  {
   "cell_type": "code",
   "execution_count": 80,
   "metadata": {
    "scrolled": true
   },
   "outputs": [
    {
     "data": {
      "text/plain": [
       "array([[2062,   17],\n",
       "       [ 367,   15]], dtype=int64)"
      ]
     },
     "metadata": {},
     "output_type": "display_data"
    },
    {
     "name": "stdout",
     "output_type": "stream",
     "text": [
      "Accuracy 0.843965867533523\n",
      "Recall 0.03926701570680628\n",
      "Precision 0.46875\n",
      "F1 0.07246376811594205\n"
     ]
    }
   ],
   "source": [
    "decision_tree(X_train_scaled, y_train_scaled, X_test_scaled, y_test_scaled,6)"
   ]
  },
  {
   "cell_type": "markdown",
   "metadata": {},
   "source": [
    "The result from the scaled dataset is worse than the one of non scaled dataset. "
   ]
  },
  {
   "cell_type": "markdown",
   "metadata": {},
   "source": [
    "### Random Forest"
   ]
  },
  {
   "cell_type": "code",
   "execution_count": 81,
   "metadata": {},
   "outputs": [],
   "source": [
    "# Create the function for random forest model\n",
    "\n",
    "def random_forest(x_train,y_train, x_test,y_test):\n",
    "    #Create the random forest classifier then fit it to the train data\n",
    "    rf=RandomForestClassifier()\n",
    "    rf.fit(x_train, y_train)\n",
    "\n",
    "    #Calculate the predicted target values\n",
    "    y_pred_rf=rf.predict(x_test)\n",
    "\n",
    "    #Calculate indices of quality of model\n",
    "    conf1=confusion_matrix(y_test, y_pred_rf)\n",
    "    acc1=accuracy_score(y_test, y_pred_rf)\n",
    "    rec1=recall_score(y_test, y_pred_rf)\n",
    "    pre1=precision_score(y_test, y_pred_rf)\n",
    "    f11=f1_score(y_test, y_pred_rf)\n",
    "\n",
    "    #Print these indices\n",
    "    display(conf1)\n",
    "    print('Accuracy', acc1)\n",
    "    print('Recall', rec1)\n",
    "    print('Precision', pre1)\n",
    "    print('F1', f11)"
   ]
  },
  {
   "cell_type": "markdown",
   "metadata": {},
   "source": [
    "***Test with the non scaled data***"
   ]
  },
  {
   "cell_type": "code",
   "execution_count": 82,
   "metadata": {
    "scrolled": true
   },
   "outputs": [
    {
     "data": {
      "text/plain": [
       "array([[2001,   81],\n",
       "       [ 179,  203]], dtype=int64)"
      ]
     },
     "metadata": {},
     "output_type": "display_data"
    },
    {
     "name": "stdout",
     "output_type": "stream",
     "text": [
      "Accuracy 0.8944805194805194\n",
      "Recall 0.5314136125654451\n",
      "Precision 0.7147887323943662\n",
      "F1 0.6096096096096097\n"
     ]
    }
   ],
   "source": [
    "#Create the random forest classifier then fit it to the train data\n",
    "rf=RandomForestClassifier()\n",
    "rf.fit(X_train, y_train)\n",
    "\n",
    "#Calculate the predicted target values\n",
    "y_pred_rf=rf.predict(X_test)\n",
    "\n",
    "#Calculate indices of quality of model\n",
    "conf1=confusion_matrix(y_test, y_pred_rf)\n",
    "acc1=accuracy_score(y_test, y_pred_rf)\n",
    "rec1=recall_score(y_test, y_pred_rf)\n",
    "pre1=precision_score(y_test, y_pred_rf)\n",
    "f11=f1_score(y_test, y_pred_rf)\n",
    "\n",
    "#Print these indices\n",
    "display(conf1)\n",
    "print('Accuracy', acc1)\n",
    "print('Recall', rec1)\n",
    "print('Precision', pre1)\n",
    "print('F1', f11)"
   ]
  },
  {
   "cell_type": "markdown",
   "metadata": {},
   "source": [
    "***Test with the scaled data***"
   ]
  },
  {
   "cell_type": "code",
   "execution_count": 83,
   "metadata": {
    "scrolled": false
   },
   "outputs": [
    {
     "data": {
      "text/plain": [
       "array([[2061,   18],\n",
       "       [ 370,   12]], dtype=int64)"
      ]
     },
     "metadata": {},
     "output_type": "display_data"
    },
    {
     "name": "stdout",
     "output_type": "stream",
     "text": [
      "Accuracy 0.8423405119869971\n",
      "Recall 0.031413612565445025\n",
      "Precision 0.4\n",
      "F1 0.05825242718446602\n"
     ]
    }
   ],
   "source": [
    "random_forest(X_train_scaled, y_train_scaled, X_test_scaled, y_test_scaled)"
   ]
  },
  {
   "cell_type": "markdown",
   "metadata": {},
   "source": [
    "The result from the scaled dataset is worse than the one of non scaled dataset. "
   ]
  },
  {
   "cell_type": "markdown",
   "metadata": {},
   "source": [
    "**Use parameter 'class_weight = balanced' in the classifier**"
   ]
  },
  {
   "cell_type": "code",
   "execution_count": 84,
   "metadata": {},
   "outputs": [],
   "source": [
    "# Create the function for random forest balanced model\n",
    "def random_forest_balanced(x_train,y_train, x_test,y_test):\n",
    "    #Create the random forest classifier then fit it to the train data\n",
    "    rf=RandomForestClassifier(class_weight='balanced')\n",
    "    rf.fit(x_train, y_train)\n",
    "\n",
    "    #Calculate the predicted target values\n",
    "    y_pred_rf=rf.predict(x_test)\n",
    "\n",
    "    #Calculate indices of quality of model\n",
    "    conf1=confusion_matrix(y_test, y_pred_rf)\n",
    "    acc1=accuracy_score(y_test, y_pred_rf)\n",
    "    rec1=recall_score(y_test, y_pred_rf)\n",
    "    pre1=precision_score(y_test, y_pred_rf)\n",
    "    f11=f1_score(y_test, y_pred_rf)\n",
    "\n",
    "    #Print these indices\n",
    "    display(conf1)\n",
    "    print('Accuracy', acc1)\n",
    "    print('Recall', rec1)\n",
    "    print('Precision', pre1)\n",
    "    print('F1', f11)"
   ]
  },
  {
   "cell_type": "code",
   "execution_count": 85,
   "metadata": {
    "scrolled": false
   },
   "outputs": [
    {
     "data": {
      "text/plain": [
       "array([[2008,   74],\n",
       "       [ 195,  187]], dtype=int64)"
      ]
     },
     "metadata": {},
     "output_type": "display_data"
    },
    {
     "name": "stdout",
     "output_type": "stream",
     "text": [
      "Accuracy 0.890827922077922\n",
      "Recall 0.4895287958115183\n",
      "Precision 0.7164750957854407\n",
      "F1 0.5816485225505444\n"
     ]
    }
   ],
   "source": [
    "#Create the random forest classifier then fit it to the train data\n",
    "rf=RandomForestClassifier(class_weight='balanced')\n",
    "rf.fit(X_train, y_train)\n",
    "\n",
    "#Calculate the predicted target values\n",
    "y_pred_rf=rf.predict(X_test)\n",
    "\n",
    "#Calculate indices of quality of model\n",
    "conf1=confusion_matrix(y_test, y_pred_rf)\n",
    "acc1=accuracy_score(y_test, y_pred_rf)\n",
    "rec1=recall_score(y_test, y_pred_rf)\n",
    "pre1=precision_score(y_test, y_pred_rf)\n",
    "f11=f1_score(y_test, y_pred_rf)\n",
    "\n",
    "#Print these indices\n",
    "display(conf1)\n",
    "print('Accuracy', acc1)\n",
    "print('Recall', rec1)\n",
    "print('Precision', pre1)\n",
    "print('F1', f11)"
   ]
  },
  {
   "cell_type": "markdown",
   "metadata": {},
   "source": [
    "Test with the scaled dataframe"
   ]
  },
  {
   "cell_type": "code",
   "execution_count": 86,
   "metadata": {
    "scrolled": true
   },
   "outputs": [
    {
     "data": {
      "text/plain": [
       "array([[2065,   14],\n",
       "       [ 373,    9]], dtype=int64)"
      ]
     },
     "metadata": {},
     "output_type": "display_data"
    },
    {
     "name": "stdout",
     "output_type": "stream",
     "text": [
      "Accuracy 0.8427468508736287\n",
      "Recall 0.02356020942408377\n",
      "Precision 0.391304347826087\n",
      "F1 0.044444444444444446\n"
     ]
    }
   ],
   "source": [
    "random_forest_balanced(X_train_scaled, y_train_scaled, X_test_scaled, y_test_scaled)"
   ]
  },
  {
   "cell_type": "markdown",
   "metadata": {},
   "source": [
    "Conclusion:\n",
    "\n",
    "Even after using the parameter \"class_weight = balanced\", the model trained with the non scaled data gives a better result from the one trained with the scaled data. "
   ]
  },
  {
   "cell_type": "markdown",
   "metadata": {},
   "source": [
    "### AdaBoost"
   ]
  },
  {
   "cell_type": "code",
   "execution_count": 87,
   "metadata": {
    "scrolled": true
   },
   "outputs": [],
   "source": [
    "def adaboost(x_train,y_train,x_test,y_test):\n",
    "    model1=AdaBoostClassifier()\n",
    "    model1.fit(x_train, y_train)\n",
    "    y_pred1=model1.predict(x_test)\n",
    "    conf1=confusion_matrix(y_test, y_pred1)\n",
    "    acc1=accuracy_score(y_test, y_pred1)\n",
    "    rec1=recall_score(y_test, y_pred1)\n",
    "    pre1=precision_score(y_test, y_pred1)\n",
    "    f11=f1_score(y_test, y_pred1)\n",
    "    display(conf1)\n",
    "    print('Accuracy', acc1)\n",
    "    print('Recall', rec1)\n",
    "    print('Precision', pre1)\n",
    "    print('F1', f11)"
   ]
  },
  {
   "cell_type": "code",
   "execution_count": 88,
   "metadata": {
    "scrolled": false
   },
   "outputs": [
    {
     "data": {
      "text/plain": [
       "array([[1964,  118],\n",
       "       [ 167,  215]], dtype=int64)"
      ]
     },
     "metadata": {},
     "output_type": "display_data"
    },
    {
     "name": "stdout",
     "output_type": "stream",
     "text": [
      "Accuracy 0.8843344155844156\n",
      "Recall 0.56282722513089\n",
      "Precision 0.6456456456456456\n",
      "F1 0.6013986013986014\n"
     ]
    }
   ],
   "source": [
    "#First run\n",
    "adaboost(X_train,y_train,X_test,y_test)"
   ]
  },
  {
   "cell_type": "markdown",
   "metadata": {},
   "source": [
    "Test with scaled dataframe"
   ]
  },
  {
   "cell_type": "code",
   "execution_count": 89,
   "metadata": {},
   "outputs": [
    {
     "data": {
      "text/plain": [
       "array([[2075,    4],\n",
       "       [ 379,    3]], dtype=int64)"
      ]
     },
     "metadata": {},
     "output_type": "display_data"
    },
    {
     "name": "stdout",
     "output_type": "stream",
     "text": [
      "Accuracy 0.8443722064201544\n",
      "Recall 0.007853403141361256\n",
      "Precision 0.42857142857142855\n",
      "F1 0.015424164524421594\n"
     ]
    }
   ],
   "source": [
    "adaboost(X_train_scaled, y_train_scaled, X_test_scaled, y_test_scaled)"
   ]
  },
  {
   "cell_type": "markdown",
   "metadata": {},
   "source": [
    "### XGB\n"
   ]
  },
  {
   "cell_type": "code",
   "execution_count": 90,
   "metadata": {},
   "outputs": [],
   "source": [
    "# Create the function for XGBoost model\n",
    "def xgb(x_train,y_train,x_test,y_test):\n",
    "    model1=XGBClassifier()\n",
    "    model1.fit(x_train, y_train)\n",
    "    y_pred1=model1.predict(x_test)\n",
    "    conf1=confusion_matrix(y_test, y_pred1)\n",
    "    acc1=accuracy_score(y_test, y_pred1)\n",
    "    rec1=recall_score(y_test, y_pred1)\n",
    "    pre1=precision_score(y_test, y_pred1)\n",
    "    f11=f1_score(y_test, y_pred1)\n",
    "    display(conf1)\n",
    "    print('Accuracy', acc1)\n",
    "    print('Recall', rec1)\n",
    "    print('Precision', pre1)\n",
    "    print('F1', f11)"
   ]
  },
  {
   "cell_type": "code",
   "execution_count": 91,
   "metadata": {
    "scrolled": false
   },
   "outputs": [
    {
     "ename": "NameError",
     "evalue": "name 'XGBClassifier' is not defined",
     "output_type": "error",
     "traceback": [
      "\u001b[1;31m---------------------------------------------------------------------------\u001b[0m",
      "\u001b[1;31mNameError\u001b[0m                                 Traceback (most recent call last)",
      "\u001b[1;32m<ipython-input-91-240027c6440a>\u001b[0m in \u001b[0;36m<module>\u001b[1;34m\u001b[0m\n\u001b[0;32m      1\u001b[0m \u001b[1;31m#First run\u001b[0m\u001b[1;33m\u001b[0m\u001b[1;33m\u001b[0m\u001b[1;33m\u001b[0m\u001b[0m\n\u001b[1;32m----> 2\u001b[1;33m \u001b[0mxgb\u001b[0m\u001b[1;33m(\u001b[0m\u001b[0mX_train\u001b[0m\u001b[1;33m,\u001b[0m\u001b[0my_train\u001b[0m\u001b[1;33m,\u001b[0m\u001b[0mX_test\u001b[0m\u001b[1;33m,\u001b[0m\u001b[0my_test\u001b[0m\u001b[1;33m)\u001b[0m\u001b[1;33m\u001b[0m\u001b[1;33m\u001b[0m\u001b[0m\n\u001b[0m",
      "\u001b[1;32m<ipython-input-90-e2fbbfc0bcc2>\u001b[0m in \u001b[0;36mxgb\u001b[1;34m(x_train, y_train, x_test, y_test)\u001b[0m\n\u001b[0;32m      1\u001b[0m \u001b[1;31m# Create the function for XGBoost model\u001b[0m\u001b[1;33m\u001b[0m\u001b[1;33m\u001b[0m\u001b[1;33m\u001b[0m\u001b[0m\n\u001b[0;32m      2\u001b[0m \u001b[1;32mdef\u001b[0m \u001b[0mxgb\u001b[0m\u001b[1;33m(\u001b[0m\u001b[0mx_train\u001b[0m\u001b[1;33m,\u001b[0m\u001b[0my_train\u001b[0m\u001b[1;33m,\u001b[0m\u001b[0mx_test\u001b[0m\u001b[1;33m,\u001b[0m\u001b[0my_test\u001b[0m\u001b[1;33m)\u001b[0m\u001b[1;33m:\u001b[0m\u001b[1;33m\u001b[0m\u001b[1;33m\u001b[0m\u001b[0m\n\u001b[1;32m----> 3\u001b[1;33m     \u001b[0mmodel1\u001b[0m\u001b[1;33m=\u001b[0m\u001b[0mXGBClassifier\u001b[0m\u001b[1;33m(\u001b[0m\u001b[1;33m)\u001b[0m\u001b[1;33m\u001b[0m\u001b[1;33m\u001b[0m\u001b[0m\n\u001b[0m\u001b[0;32m      4\u001b[0m     \u001b[0mmodel1\u001b[0m\u001b[1;33m.\u001b[0m\u001b[0mfit\u001b[0m\u001b[1;33m(\u001b[0m\u001b[0mx_train\u001b[0m\u001b[1;33m,\u001b[0m \u001b[0my_train\u001b[0m\u001b[1;33m)\u001b[0m\u001b[1;33m\u001b[0m\u001b[1;33m\u001b[0m\u001b[0m\n\u001b[0;32m      5\u001b[0m     \u001b[0my_pred1\u001b[0m\u001b[1;33m=\u001b[0m\u001b[0mmodel1\u001b[0m\u001b[1;33m.\u001b[0m\u001b[0mpredict\u001b[0m\u001b[1;33m(\u001b[0m\u001b[0mx_test\u001b[0m\u001b[1;33m)\u001b[0m\u001b[1;33m\u001b[0m\u001b[1;33m\u001b[0m\u001b[0m\n",
      "\u001b[1;31mNameError\u001b[0m: name 'XGBClassifier' is not defined"
     ]
    }
   ],
   "source": [
    "#First run \n",
    "xgb(X_train,y_train,X_test,y_test)"
   ]
  },
  {
   "cell_type": "markdown",
   "metadata": {},
   "source": [
    "Test with scaled dataframe"
   ]
  },
  {
   "cell_type": "code",
   "execution_count": null,
   "metadata": {},
   "outputs": [],
   "source": [
    "xgb(X_train_scaled, y_train_scaled, X_test_scaled, y_test_scaled)"
   ]
  },
  {
   "cell_type": "markdown",
   "metadata": {},
   "source": [
    "### CatBoost"
   ]
  },
  {
   "cell_type": "code",
   "execution_count": null,
   "metadata": {},
   "outputs": [],
   "source": [
    "# Create the function for CatBoost model\n",
    "def catboost(x_train,y_train,x_test,y_test):\n",
    "    model1=CatBoostClassifier()\n",
    "    model1.fit(x_train, y_train)\n",
    "    y_pred1=model1.predict(x_test)\n",
    "    conf1=confusion_matrix(y_test,y_pred1)\n",
    "    acc1=accuracy_score(y_test,y_pred1)\n",
    "    rec1=recall_score(y_test,y_pred1)\n",
    "    pre1=precision_score(y_test, y_pred1)\n",
    "    f11=f1_score(y_test,y_pred1)\n",
    "    display(conf1)\n",
    "    print('Accuracy', acc1)\n",
    "    print('Recall', rec1)\n",
    "    print('Precision', pre1)\n",
    "    print('F1', f11)"
   ]
  },
  {
   "cell_type": "code",
   "execution_count": null,
   "metadata": {
    "scrolled": true
   },
   "outputs": [],
   "source": [
    "#First run\n",
    "catboost(X_train,y_train,X_test,y_test)"
   ]
  },
  {
   "cell_type": "markdown",
   "metadata": {},
   "source": [
    "Test with the scaled dataframe"
   ]
  },
  {
   "cell_type": "code",
   "execution_count": null,
   "metadata": {},
   "outputs": [],
   "source": [
    "catboost(X_train_scaled, y_train_scaled, X_test_scaled, y_test_scaled)"
   ]
  },
  {
   "cell_type": "markdown",
   "metadata": {},
   "source": [
    "### KNeighbors"
   ]
  },
  {
   "cell_type": "code",
   "execution_count": null,
   "metadata": {},
   "outputs": [],
   "source": [
    "#Create function for KNN model\n",
    "def knn(x_train,y_train,x_test,y_test,k_number):\n",
    "    knn=KNeighborsClassifier(k_number)\n",
    "    knn.fit(x_train, y_train)\n",
    "    y_pred1=knn.predict(x_test)  \n",
    "    conf1=confusion_matrix(y_test,y_pred1)\n",
    "    acc1=accuracy_score(y_test,y_pred1)\n",
    "    rec1=recall_score(y_test,y_pred1)\n",
    "    pre1=precision_score(y_test, y_pred1)\n",
    "    f11=f1_score(y_test,y_pred1)\n",
    "    display(conf1)\n",
    "    print('Accuracy', acc1)\n",
    "    print('Recall', rec1)\n",
    "    print('Precision', pre1)\n",
    "    print('F1', f11)"
   ]
  },
  {
   "cell_type": "code",
   "execution_count": null,
   "metadata": {},
   "outputs": [],
   "source": [
    "#Create function to find the good K number for KNN model\n",
    "\n",
    "def find_k(x_train,y_train,x_test,y_test,k_max):\n",
    "    #Compute error score for each k number and append them to a list\n",
    "    error_rate = []\n",
    "    for i in range(1,k_max):\n",
    "        knn = KNeighborsClassifier(n_neighbors=i)\n",
    "        knn.fit(x_train,y_train)\n",
    "        pred_i = knn.predict(x_test)\n",
    "        error_rate.append(np.mean(pred_i != y_test))\n",
    "    \n",
    "    #Plot error score\n",
    "    plt.figure(figsize=(10,6))\n",
    "    plt.plot(range(1,40),error_rate,color='blue', linestyle='dashed', marker='o',markerfacecolor='red', markersize=10)\n",
    "    plt.title('Error Rate vs. K Value')\n",
    "    plt.xlabel('K')\n",
    "    plt.ylabel('Error Rate')\n",
    "    print(\"Minimum error:-\",min(error_rate),\"at K =\",error_rate.index(min(error_rate)))   "
   ]
  },
  {
   "cell_type": "code",
   "execution_count": null,
   "metadata": {
    "scrolled": true
   },
   "outputs": [],
   "source": [
    "find_k(X_train_scaled,y_train_scaled,X_test_scaled,y_test_scaled,40)"
   ]
  },
  {
   "cell_type": "markdown",
   "metadata": {},
   "source": [
    "As we can see, the min error is at K = 19. So, let's run the model with the K = 19"
   ]
  },
  {
   "cell_type": "code",
   "execution_count": null,
   "metadata": {
    "scrolled": true
   },
   "outputs": [],
   "source": [
    "knn(X_train_scaled,y_train_scaled,X_test_scaled,y_test_scaled,19)"
   ]
  },
  {
   "cell_type": "markdown",
   "metadata": {},
   "source": [
    "The accuracy score is 84%. However, the recall score is very low: 1%"
   ]
  },
  {
   "cell_type": "markdown",
   "metadata": {},
   "source": [
    "### Logistic Regression"
   ]
  },
  {
   "cell_type": "code",
   "execution_count": null,
   "metadata": {},
   "outputs": [],
   "source": [
    "def lr(x_train,y_train,x_test,y_test,iter_number):\n",
    "    lr=LogisticRegression(max_iter=iter_number)\n",
    "    lr.fit(x_train, y_train)\n",
    "    y_pred1=lr.predict(x_test)\n",
    "    conf1=confusion_matrix(y_test,y_pred1)\n",
    "    acc1=accuracy_score(y_test,y_pred1)\n",
    "    rec1=recall_score(y_test,y_pred1)\n",
    "    pre1=precision_score(y_test, y_pred1)\n",
    "    f11=f1_score(y_test,y_pred1)\n",
    "    display(conf1)\n",
    "    print('Accuracy', acc1)\n",
    "    print('Recall', rec1)\n",
    "    print('Precision', pre1)\n",
    "    print('F1', f11)"
   ]
  },
  {
   "cell_type": "code",
   "execution_count": null,
   "metadata": {},
   "outputs": [],
   "source": [
    "lr(X_train_scaled,y_train_scaled,X_test_scaled,y_test_scaled,1000)"
   ]
  },
  {
   "cell_type": "markdown",
   "metadata": {},
   "source": [
    "### SVC"
   ]
  },
  {
   "cell_type": "code",
   "execution_count": null,
   "metadata": {},
   "outputs": [],
   "source": [
    "def svc(x_train,y_train,x_test,y_test):\n",
    "    sv=SVC()\n",
    "    sv.fit(x_train, y_train)\n",
    "    y_pred1=sv.predict(x_test)\n",
    "    conf1=confusion_matrix(y_test,y_pred1)\n",
    "    acc1=accuracy_score(y_test,y_pred1)\n",
    "    rec1=recall_score(y_test,y_pred1)\n",
    "    pre1=precision_score(y_test, y_pred1)\n",
    "    f11=f1_score(y_test,y_pred1)\n",
    "    display(conf1)\n",
    "    print('Accuracy', acc1)\n",
    "    print('Recall', rec1)\n",
    "    print('Precision', pre1)\n",
    "    print('F1', f11)"
   ]
  },
  {
   "cell_type": "code",
   "execution_count": null,
   "metadata": {},
   "outputs": [],
   "source": [
    "svc(X_train_scaled,y_train_scaled,X_test_scaled,y_test_scaled)"
   ]
  },
  {
   "cell_type": "markdown",
   "metadata": {},
   "source": [
    "### GaussianNB"
   ]
  },
  {
   "cell_type": "code",
   "execution_count": null,
   "metadata": {},
   "outputs": [],
   "source": [
    "def gnb(x_train,y_train,x_test,y_test):\n",
    "    nb=GaussianNB()\n",
    "    nb.fit(x_train, y_train)\n",
    "    y_pred1=nb.predict(x_test)\n",
    "    conf1=confusion_matrix(y_test,y_pred1)\n",
    "    acc1=accuracy_score(y_test,y_pred1)\n",
    "    rec1=recall_score(y_test,y_pred1)\n",
    "    pre1=precision_score(y_test, y_pred1)\n",
    "    f11=f1_score(y_test,y_pred1)\n",
    "    display(conf1)\n",
    "    print('Accuracy', acc1)\n",
    "    print('Recall', rec1)\n",
    "    print('Precision', pre1)\n",
    "    print('F1', f11)"
   ]
  },
  {
   "cell_type": "code",
   "execution_count": null,
   "metadata": {
    "scrolled": true
   },
   "outputs": [],
   "source": [
    "gnb(X_train_scaled,y_train_scaled,X_test_scaled,y_test_scaled)"
   ]
  },
  {
   "cell_type": "markdown",
   "metadata": {},
   "source": [
    "As we can see, the GaussianNB has the worst result among all models. "
   ]
  },
  {
   "cell_type": "markdown",
   "metadata": {},
   "source": [
    "### Conclusion for first run"
   ]
  },
  {
   "cell_type": "markdown",
   "metadata": {},
   "source": [
    "- All models have the accuracy scores quite similar which are in the range of [83.7% , 84.6%] except for the GaussianNB model which has the accuracy rate of 24.4%\n",
    "\n",
    "- All models are quite successful in predicting the False outcome but they fail to predict the True outcome due to the imbalanced dataset, except for the GaussianNB which manage to have a pretty good predict of the True outcome with the recall rate of 95.8%."
   ]
  },
  {
   "cell_type": "markdown",
   "metadata": {},
   "source": [
    "## Principal Component Analysis "
   ]
  },
  {
   "cell_type": "markdown",
   "metadata": {},
   "source": [
    "Per our study, the PCA can be applied not only to Continuous features but also Categorical features.\n",
    "\n",
    "However, while we can use PCA on binary data (e.g. one-hot encoded data) that does not mean it is a good thing, or it will work very well.\n",
    "\n",
    "PCA is desinged for continuous variables. It tries to minimize variance (=squared deviations). The concept of squared deviations breaks down when we have binary variables.\n",
    "\n",
    "So, even we can use PCA and get an output, but it is just much less meaningful than we'd want it to be.\n",
    "\n",
    "We know that for a mixed dataset, we can use Factor analysis of mixed data - FAMD method.\n",
    "This method is suitable for a dataset that has both continuous variables and categorical variables.\n",
    "\n",
    "Thus, in the frame of this project, we will try both methods and see the results."
   ]
  },
  {
   "cell_type": "markdown",
   "metadata": {},
   "source": [
    "First, we will determine how many components that we need to choose for our models"
   ]
  },
  {
   "cell_type": "code",
   "execution_count": null,
   "metadata": {
    "scrolled": true
   },
   "outputs": [],
   "source": [
    "#Plot the cumulative explained variance in order to determine the number of components to choose.\n",
    "pca = PCA().fit(X_train_scaled)\n",
    "plt.plot(np.cumsum(pca.explained_variance_ratio_))\n",
    "plt.xlabel('number of components')\n",
    "plt.ylabel('cumulative explained variance');"
   ]
  },
  {
   "cell_type": "markdown",
   "metadata": {},
   "source": [
    "As we can see from the graph, we need around 17 components to explain 90% of the variance, while we need around 50 components to explain 100% of the variance.\n",
    "\n",
    "Thus, we decided to take 17 components for our models in the second run."
   ]
  },
  {
   "cell_type": "code",
   "execution_count": null,
   "metadata": {},
   "outputs": [],
   "source": [
    "pca = PCA(n_components = 17)\n",
    "pca.fit(X_train_scaled)\n",
    "X_pca = pca.transform(X_train_scaled)"
   ]
  },
  {
   "cell_type": "code",
   "execution_count": null,
   "metadata": {},
   "outputs": [],
   "source": [
    "X_train_scaled.shape"
   ]
  },
  {
   "cell_type": "code",
   "execution_count": null,
   "metadata": {
    "scrolled": true
   },
   "outputs": [],
   "source": [
    "X_pca.shape"
   ]
  },
  {
   "cell_type": "markdown",
   "metadata": {},
   "source": [
    "As we can see, the number of X variables after using the PCA has decreased from 72 to 17 variables."
   ]
  },
  {
   "cell_type": "code",
   "execution_count": null,
   "metadata": {
    "scrolled": false
   },
   "outputs": [],
   "source": [
    "pca.explained_variance_ratio_"
   ]
  },
  {
   "cell_type": "markdown",
   "metadata": {},
   "source": [
    "From the explained variance ratio, we note that the first and component have the highest % of explanation of the variance (27.7% and 13.6%)"
   ]
  },
  {
   "cell_type": "markdown",
   "metadata": {},
   "source": [
    "We can now plot the principal component in order to see how they explain the variance visually"
   ]
  },
  {
   "cell_type": "code",
   "execution_count": null,
   "metadata": {},
   "outputs": [],
   "source": [
    "# pca = PCA(n_components = 17)\n",
    "# pca.fit(X_scaled)\n",
    "# X_pca = pca.transform(X_scaled)\n",
    "\n",
    "# #Create the label of the % of explaination for the variance by component\n",
    "# labels = {\n",
    "#     str(i): f\"PC {i+1} ({var:.1f}%)\"\n",
    "#     for i, var in enumerate(pca.explained_variance_ratio_ * 100)\n",
    "# }\n",
    "\n",
    "# #Create the figure containing needed information\n",
    "# fig = px.scatter_matrix(\n",
    "#     X_pca,\n",
    "#     labels=labels,\n",
    "#     dimensions=range(17),\n",
    "#     color=y_scaled\n",
    "# )\n",
    "\n",
    "# plt.xticks(rotation=45)\n",
    "# fig.update_traces(diagonal_visible=False)\n",
    "# fig.show()"
   ]
  },
  {
   "cell_type": "markdown",
   "metadata": {},
   "source": [
    "## Second Run after PCA"
   ]
  },
  {
   "cell_type": "markdown",
   "metadata": {},
   "source": [
    "We apply the PCA to the X_train and X_test dataframes"
   ]
  },
  {
   "cell_type": "code",
   "execution_count": null,
   "metadata": {},
   "outputs": [],
   "source": [
    "pca = PCA(n_components = 17)\n",
    "X_train_pca = pca.fit_transform(X_train_scaled)\n",
    "X_test_pca =  pca.transform(X_test_scaled)\n"
   ]
  },
  {
   "cell_type": "markdown",
   "metadata": {},
   "source": [
    " Decision Tree "
   ]
  },
  {
   "cell_type": "code",
   "execution_count": null,
   "metadata": {
    "scrolled": true
   },
   "outputs": [],
   "source": [
    "dt_mean_score(X_train_pca, y_train_scaled, X_test_pca, y_test_scaled)"
   ]
  },
  {
   "cell_type": "code",
   "execution_count": null,
   "metadata": {
    "scrolled": true
   },
   "outputs": [],
   "source": [
    "decision_tree(X_train_pca, y_train_scaled, X_test_pca, y_test_scaled,6)"
   ]
  },
  {
   "cell_type": "markdown",
   "metadata": {},
   "source": [
    "Random Forest"
   ]
  },
  {
   "cell_type": "code",
   "execution_count": null,
   "metadata": {
    "scrolled": true
   },
   "outputs": [],
   "source": [
    "random_forest(X_train_pca, y_train_scaled, X_test_pca, y_test_scaled)"
   ]
  },
  {
   "cell_type": "markdown",
   "metadata": {},
   "source": [
    "Random Forest Balanced"
   ]
  },
  {
   "cell_type": "code",
   "execution_count": null,
   "metadata": {
    "scrolled": true
   },
   "outputs": [],
   "source": [
    "random_forest_balanced(X_train_pca, y_train_scaled, X_test_pca, y_test_scaled)"
   ]
  },
  {
   "cell_type": "markdown",
   "metadata": {},
   "source": [
    "AdaBoost"
   ]
  },
  {
   "cell_type": "code",
   "execution_count": null,
   "metadata": {},
   "outputs": [],
   "source": [
    "adaboost(X_train_pca, y_train_scaled, X_test_pca, y_test_scaled)"
   ]
  },
  {
   "cell_type": "markdown",
   "metadata": {},
   "source": [
    "XGB"
   ]
  },
  {
   "cell_type": "code",
   "execution_count": null,
   "metadata": {},
   "outputs": [],
   "source": [
    "xgb(X_train_pca, y_train_scaled, X_test_pca, y_test_scaled)"
   ]
  },
  {
   "cell_type": "markdown",
   "metadata": {},
   "source": [
    "CatBoost"
   ]
  },
  {
   "cell_type": "code",
   "execution_count": null,
   "metadata": {},
   "outputs": [],
   "source": [
    "catboost(X_train_pca, y_train_scaled, X_test_pca, y_test_scaled)"
   ]
  },
  {
   "cell_type": "markdown",
   "metadata": {},
   "source": [
    "Logistic Regression"
   ]
  },
  {
   "cell_type": "code",
   "execution_count": null,
   "metadata": {
    "scrolled": true
   },
   "outputs": [],
   "source": [
    "lr(X_train_pca, y_train_scaled, X_test_pca, y_test_scaled,1000)"
   ]
  },
  {
   "cell_type": "markdown",
   "metadata": {},
   "source": [
    "KNN"
   ]
  },
  {
   "cell_type": "code",
   "execution_count": null,
   "metadata": {
    "scrolled": true
   },
   "outputs": [],
   "source": [
    "find_k(X_train_pca, y_train_scaled, X_test_pca, y_test_scaled,40)"
   ]
  },
  {
   "cell_type": "markdown",
   "metadata": {},
   "source": [
    "The graph shows that the min erros is observed at the k number 32.\n",
    "\n",
    "Thus in our KNN model, we will use k = 32"
   ]
  },
  {
   "cell_type": "code",
   "execution_count": null,
   "metadata": {},
   "outputs": [],
   "source": [
    "knn(X_train_pca, y_train_scaled, X_test_pca, y_test_scaled, 29)"
   ]
  },
  {
   "cell_type": "markdown",
   "metadata": {},
   "source": [
    "SVC"
   ]
  },
  {
   "cell_type": "code",
   "execution_count": null,
   "metadata": {},
   "outputs": [],
   "source": [
    "svc(X_train_pca, y_train_scaled, X_test_pca, y_test_scaled)"
   ]
  },
  {
   "cell_type": "markdown",
   "metadata": {},
   "source": [
    "GaussianNB"
   ]
  },
  {
   "cell_type": "code",
   "execution_count": null,
   "metadata": {
    "scrolled": false
   },
   "outputs": [],
   "source": [
    "gnb(X_train_pca, y_train_scaled, X_test_pca, y_test_scaled)"
   ]
  },
  {
   "cell_type": "markdown",
   "metadata": {},
   "source": [
    "Conclusion for second run:\n",
    "\n",
    "- The accuracy scores of the second run are quite similar to the ones of the first run and are in the range of [83.1% , 84.6%]. In each model, there is a slight difference in the result of the two runs. \n",
    "\n",
    "- However, the PCA impacts the most on the result of GaussianNB: accuracy score increases from 24% to 83.4%. The precision rate also increases from 16.5% to 24.4%\n",
    "\n",
    "- The recall rates of most of models are still small since we have the imbalanced dataset issue and the model struggles to predict the True outcome of the target feature. (<6%)"
   ]
  },
  {
   "cell_type": "markdown",
   "metadata": {},
   "source": [
    "## Undersampling and Oversampling"
   ]
  },
  {
   "cell_type": "markdown",
   "metadata": {},
   "source": [
    "As we can see in the two previous run, the models have the problem to predict the True values of the target features and have a very low recall rate. It is because the dataset is imbalanced: False values overweigh True values (85-15).\n",
    "\n",
    "In order to deal with this imbalance problem, we come up with two solutions that can be used in the project:\n",
    "\n",
    "    - Random Undersampling the majority class by 50%: This method seeks to randomly select and remove samples from the majority class, consequently reducing the number of examples in the majority class in the transformed data.\n",
    "    \n",
    "    - Oversampling the minority by using the technique SMOTE (Synthetic Minority Over-sampling Technique): It works randomly picking a point from the minority class and computing the k-nearest neighbors for this point. The synthetic points are added between the chosen point and its neighbors\n",
    "    \n",
    "We don't use the Random Oversampling technique in this project, because it may increase the likelihood of overfitting occurring, since it makes exact copies of the minority class examples.\n",
    "    "
   ]
  },
  {
   "cell_type": "markdown",
   "metadata": {},
   "source": [
    "Thus, in this part we will perform these two selected sampling technique in order to remedy the imbalance issue.\n",
    "\n",
    "We will firt do the sampling and then apply the PCA technique to select relevant features. "
   ]
  },
  {
   "cell_type": "markdown",
   "metadata": {},
   "source": [
    "### Random Undersampling"
   ]
  },
  {
   "cell_type": "code",
   "execution_count": null,
   "metadata": {
    "scrolled": true
   },
   "outputs": [],
   "source": [
    "# instantiating over sampler: we use the strategy 50%, \n",
    "# so that after resampling, the sample of the majority class is twice the size of the sample of the minority class \n",
    "under = RandomUnderSampler(sampling_strategy=0.5)\n",
    "\n",
    "# Resampling the scaled dataset\n",
    "X_rus, y_rus = under.fit_resample(X_scaled, y_scaled)\n",
    "\n"
   ]
  },
  {
   "cell_type": "code",
   "execution_count": null,
   "metadata": {
    "scrolled": false
   },
   "outputs": [],
   "source": [
    "y_rus.value_counts()"
   ]
  },
  {
   "cell_type": "code",
   "execution_count": null,
   "metadata": {},
   "outputs": [],
   "source": [
    "#Split X_rus and y_rus into train and test samples\n",
    "X_rus_train,X_rus_test,y_rus_train,y_rus_test = train_test_split(X_rus,y_rus, test_size = 0.2, random_state = 42, stratify=y_rus) "
   ]
  },
  {
   "cell_type": "code",
   "execution_count": null,
   "metadata": {
    "scrolled": true
   },
   "outputs": [],
   "source": [
    "#Plot the cumulative explained variance in order to determine the number of components to choose.\n",
    "pca = PCA().fit(X_rus_train)\n",
    "plt.plot(np.cumsum(pca.explained_variance_ratio_))\n",
    "plt.xlabel('number of components')\n",
    "plt.ylabel('cumulative explained variance');"
   ]
  },
  {
   "cell_type": "markdown",
   "metadata": {},
   "source": [
    "The graph above shows the same result as the one of the first compute of PCA: 17 components explain 90% of the variance, 50 components explain 100% of the variance.\n",
    "\n",
    "Thus, we decided to take the same number of components for our models in the third run: 17 components."
   ]
  },
  {
   "cell_type": "code",
   "execution_count": null,
   "metadata": {},
   "outputs": [],
   "source": [
    "#Apply the PCA to the X_train and X_test dataframes\n",
    "pca = PCA(n_components = 17)\n",
    "X_rus_train_pca = pca.fit_transform(X_rus_train)\n",
    "X_rus_test_pca =  pca.transform(X_rus_test)\n"
   ]
  },
  {
   "cell_type": "markdown",
   "metadata": {},
   "source": [
    "### Smote"
   ]
  },
  {
   "cell_type": "code",
   "execution_count": null,
   "metadata": {},
   "outputs": [],
   "source": [
    "# instantiating Smote sampler\n",
    "smt = SMOTE()\n",
    "\n",
    "# Resampling the scaled dataset\n",
    "X_smt, y_smt = smt.fit_sample(X_scaled, y_scaled)"
   ]
  },
  {
   "cell_type": "code",
   "execution_count": null,
   "metadata": {},
   "outputs": [],
   "source": [
    "#Check the value count of target feature before using Smote\n",
    "y_scaled.value_counts()"
   ]
  },
  {
   "cell_type": "code",
   "execution_count": null,
   "metadata": {
    "scrolled": false
   },
   "outputs": [],
   "source": [
    "#Check the value count of target feature after using Smote\n",
    "y_smt.value_counts()"
   ]
  },
  {
   "cell_type": "markdown",
   "metadata": {},
   "source": [
    "Both categories have equal amount of records. More specifically, the minority class has been increased to the total number of majority class"
   ]
  },
  {
   "cell_type": "code",
   "execution_count": null,
   "metadata": {},
   "outputs": [],
   "source": [
    "#Split X_rus and y_rus into train and test samples\n",
    "X_smt_train,X_smt_test,y_smt_train,y_smt_test = train_test_split(X_smt,y_smt, test_size = 0.2, random_state = 42, stratify=y_smt) "
   ]
  },
  {
   "cell_type": "code",
   "execution_count": null,
   "metadata": {
    "scrolled": true
   },
   "outputs": [],
   "source": [
    "#Plot the cumulative explained variance in order to determine the number of components to choose.\n",
    "pca = PCA().fit(X_smt_train)\n",
    "plt.plot(np.cumsum(pca.explained_variance_ratio_))\n",
    "plt.xlabel('number of components')\n",
    "plt.ylabel('cumulative explained variance');"
   ]
  },
  {
   "cell_type": "markdown",
   "metadata": {},
   "source": [
    "The graph above shows the same result as the one of the first compute of PCA: 17 components explain 90% of the variance, 50 components explain 100% of the variance.\n",
    "\n",
    "Thus, we decided to take the same number of components for our models in the third run: 17 components."
   ]
  },
  {
   "cell_type": "code",
   "execution_count": null,
   "metadata": {},
   "outputs": [],
   "source": [
    "#Apply the PCA to the X_train and X_test dataframes\n",
    "pca = PCA(n_components = 17)\n",
    "X_smt_train_pca = pca.fit_transform(X_smt_train)\n",
    "X_smt_test_pca =  pca.transform(X_smt_test)\n"
   ]
  },
  {
   "cell_type": "markdown",
   "metadata": {},
   "source": [
    "## Third run with Under Sampling and PCA"
   ]
  },
  {
   "cell_type": "markdown",
   "metadata": {},
   "source": [
    " Decision Tree "
   ]
  },
  {
   "cell_type": "code",
   "execution_count": null,
   "metadata": {
    "scrolled": false
   },
   "outputs": [],
   "source": [
    "dt_mean_score(X_rus_train_pca, y_rus_train, X_rus_test_pca, y_rus_test)"
   ]
  },
  {
   "cell_type": "markdown",
   "metadata": {},
   "source": [
    "As we can see, the optimal depth level is 5."
   ]
  },
  {
   "cell_type": "code",
   "execution_count": null,
   "metadata": {
    "scrolled": true
   },
   "outputs": [],
   "source": [
    "decision_tree(X_rus_train_pca, y_rus_train, X_rus_test_pca, y_rus_test,5)"
   ]
  },
  {
   "cell_type": "markdown",
   "metadata": {},
   "source": [
    "Random Forest"
   ]
  },
  {
   "cell_type": "code",
   "execution_count": null,
   "metadata": {
    "scrolled": true
   },
   "outputs": [],
   "source": [
    "random_forest(X_rus_train_pca, y_rus_train, X_rus_test_pca, y_rus_test)"
   ]
  },
  {
   "cell_type": "markdown",
   "metadata": {},
   "source": [
    "Random Forest Balanced"
   ]
  },
  {
   "cell_type": "code",
   "execution_count": null,
   "metadata": {
    "scrolled": true
   },
   "outputs": [],
   "source": [
    "random_forest_balanced(X_rus_train_pca, y_rus_train, X_rus_test_pca, y_rus_test)"
   ]
  },
  {
   "cell_type": "markdown",
   "metadata": {},
   "source": [
    "AdaBoost"
   ]
  },
  {
   "cell_type": "code",
   "execution_count": null,
   "metadata": {},
   "outputs": [],
   "source": [
    "adaboost(X_rus_train_pca, y_rus_train, X_rus_test_pca, y_rus_test)"
   ]
  },
  {
   "cell_type": "markdown",
   "metadata": {},
   "source": [
    "XGB"
   ]
  },
  {
   "cell_type": "code",
   "execution_count": null,
   "metadata": {},
   "outputs": [],
   "source": [
    "xgb(X_rus_train_pca, y_rus_train, X_rus_test_pca, y_rus_test)"
   ]
  },
  {
   "cell_type": "markdown",
   "metadata": {},
   "source": [
    "CatBoost"
   ]
  },
  {
   "cell_type": "code",
   "execution_count": null,
   "metadata": {},
   "outputs": [],
   "source": [
    "catboost(X_rus_train_pca, y_rus_train, X_rus_test_pca, y_rus_test)"
   ]
  },
  {
   "cell_type": "markdown",
   "metadata": {},
   "source": [
    "Logistic Regression"
   ]
  },
  {
   "cell_type": "code",
   "execution_count": null,
   "metadata": {
    "scrolled": true
   },
   "outputs": [],
   "source": [
    "lr(X_rus_train_pca, y_rus_train, X_rus_test_pca, y_rus_test,1000)"
   ]
  },
  {
   "cell_type": "markdown",
   "metadata": {},
   "source": [
    "KNN"
   ]
  },
  {
   "cell_type": "code",
   "execution_count": null,
   "metadata": {
    "scrolled": true
   },
   "outputs": [],
   "source": [
    "find_k(X_rus_train_pca, y_rus_train, X_rus_test_pca, y_rus_test,40)"
   ]
  },
  {
   "cell_type": "markdown",
   "metadata": {},
   "source": [
    "The graph shows that the min erros is observed at the k number 17.\n",
    "\n",
    "Thus in our KNN model, we will use k = 17"
   ]
  },
  {
   "cell_type": "code",
   "execution_count": null,
   "metadata": {},
   "outputs": [],
   "source": [
    "knn(X_rus_train_pca, y_rus_train, X_rus_test_pca, y_rus_test, 17)"
   ]
  },
  {
   "cell_type": "markdown",
   "metadata": {},
   "source": [
    "SVC"
   ]
  },
  {
   "cell_type": "code",
   "execution_count": null,
   "metadata": {},
   "outputs": [],
   "source": [
    "svc(X_rus_train_pca, y_rus_train, X_rus_test_pca, y_rus_test)"
   ]
  },
  {
   "cell_type": "markdown",
   "metadata": {},
   "source": [
    "GaussianNB"
   ]
  },
  {
   "cell_type": "code",
   "execution_count": null,
   "metadata": {
    "scrolled": false
   },
   "outputs": [],
   "source": [
    "gnb(X_rus_train_pca, y_rus_train, X_rus_test_pca, y_rus_test)"
   ]
  },
  {
   "cell_type": "markdown",
   "metadata": {},
   "source": [
    "## Fourth run with Smote resampling and PCA"
   ]
  },
  {
   "cell_type": "markdown",
   "metadata": {},
   "source": [
    " Decision Tree "
   ]
  },
  {
   "cell_type": "code",
   "execution_count": null,
   "metadata": {
    "scrolled": false
   },
   "outputs": [],
   "source": [
    "dt_mean_score(X_smt_train_pca, y_smt_train, X_smt_test_pca, y_smt_test)"
   ]
  },
  {
   "cell_type": "markdown",
   "metadata": {},
   "source": [
    "As we can see, the optimal depth level is 24."
   ]
  },
  {
   "cell_type": "code",
   "execution_count": null,
   "metadata": {
    "scrolled": true
   },
   "outputs": [],
   "source": [
    "decision_tree(X_smt_train_pca, y_smt_train, X_smt_test_pca, y_smt_test,24)"
   ]
  },
  {
   "cell_type": "markdown",
   "metadata": {},
   "source": [
    "Random Forest"
   ]
  },
  {
   "cell_type": "code",
   "execution_count": null,
   "metadata": {
    "scrolled": true
   },
   "outputs": [],
   "source": [
    "random_forest(X_smt_train_pca, y_smt_train, X_smt_test_pca, y_smt_test)"
   ]
  },
  {
   "cell_type": "markdown",
   "metadata": {},
   "source": [
    "AdaBoost"
   ]
  },
  {
   "cell_type": "code",
   "execution_count": null,
   "metadata": {},
   "outputs": [],
   "source": [
    "adaboost(X_smt_train_pca, y_smt_train, X_smt_test_pca, y_smt_test)"
   ]
  },
  {
   "cell_type": "markdown",
   "metadata": {},
   "source": [
    "XGB"
   ]
  },
  {
   "cell_type": "code",
   "execution_count": null,
   "metadata": {},
   "outputs": [],
   "source": [
    "xgb(X_smt_train_pca, y_smt_train, X_smt_test_pca, y_smt_test)"
   ]
  },
  {
   "cell_type": "markdown",
   "metadata": {},
   "source": [
    "CatBoost"
   ]
  },
  {
   "cell_type": "code",
   "execution_count": null,
   "metadata": {},
   "outputs": [],
   "source": [
    "catboost(X_smt_train_pca, y_smt_train, X_smt_test_pca, y_smt_test)"
   ]
  },
  {
   "cell_type": "markdown",
   "metadata": {},
   "source": [
    "Logistic Regression"
   ]
  },
  {
   "cell_type": "code",
   "execution_count": null,
   "metadata": {
    "scrolled": true
   },
   "outputs": [],
   "source": [
    "lr(X_smt_train_pca, y_smt_train, X_smt_test_pca, y_smt_test,1000)"
   ]
  },
  {
   "cell_type": "markdown",
   "metadata": {},
   "source": [
    "KNN"
   ]
  },
  {
   "cell_type": "code",
   "execution_count": null,
   "metadata": {
    "scrolled": true
   },
   "outputs": [],
   "source": [
    "find_k(X_smt_train_pca, y_smt_train, X_smt_test_pca, y_smt_test,40)"
   ]
  },
  {
   "cell_type": "markdown",
   "metadata": {},
   "source": [
    "The graph shows that the min erros is observed at the k number 1.\n",
    "\n",
    "Thus in our KNN model, we will use k = 1"
   ]
  },
  {
   "cell_type": "code",
   "execution_count": null,
   "metadata": {},
   "outputs": [],
   "source": [
    "knn(X_smt_train_pca, y_smt_train, X_smt_test_pca, y_smt_test, 3)"
   ]
  },
  {
   "cell_type": "markdown",
   "metadata": {},
   "source": [
    "SVC"
   ]
  },
  {
   "cell_type": "code",
   "execution_count": null,
   "metadata": {},
   "outputs": [],
   "source": [
    "svc(X_smt_train_pca, y_smt_train, X_smt_test_pca, y_smt_test)"
   ]
  },
  {
   "cell_type": "markdown",
   "metadata": {},
   "source": [
    "GaussianNB"
   ]
  },
  {
   "cell_type": "code",
   "execution_count": null,
   "metadata": {
    "scrolled": false
   },
   "outputs": [],
   "source": [
    "gnb(X_smt_train_pca, y_smt_train, X_smt_test_pca, y_smt_test)"
   ]
  },
  {
   "cell_type": "code",
   "execution_count": null,
   "metadata": {
    "scrolled": false
   },
   "outputs": [],
   "source": [
    "plt.figure(figsize = (10,10))\n",
    "sns.heatmap(df_model.corr(), annot = True, annot_kws = {'size':10})"
   ]
  },
  {
   "cell_type": "markdown",
   "metadata": {},
   "source": [
    "Conclusion from the results of the fourth run:\n",
    "\n",
    "* Combination between Smote and PCA gives the best model: Random Forest"
   ]
  },
  {
   "cell_type": "markdown",
   "metadata": {},
   "source": [
    "# Conclusion"
   ]
  },
  {
   "cell_type": "markdown",
   "metadata": {},
   "source": [
    "Combination between Smote and PCA gives the best model: Random Forest"
   ]
  }
 ],
 "metadata": {
  "kernelspec": {
   "display_name": "Python 3",
   "language": "python",
   "name": "python3"
  },
  "language_info": {
   "codemirror_mode": {
    "name": "ipython",
    "version": 3
   },
   "file_extension": ".py",
   "mimetype": "text/x-python",
   "name": "python",
   "nbconvert_exporter": "python",
   "pygments_lexer": "ipython3",
   "version": "3.8.3"
  },
  "toc": {
   "base_numbering": 1,
   "nav_menu": {},
   "number_sections": true,
   "sideBar": true,
   "skip_h1_title": false,
   "title_cell": "Table of Contents",
   "title_sidebar": "Contents",
   "toc_cell": true,
   "toc_position": {},
   "toc_section_display": true,
   "toc_window_display": false
  }
 },
 "nbformat": 4,
 "nbformat_minor": 4
}
