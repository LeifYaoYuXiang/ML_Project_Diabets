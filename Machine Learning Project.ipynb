{
 "cells": [
  {
   "cell_type": "markdown",
   "metadata": {},
   "source": [
    "# Introduction"
   ]
  },
  {
   "cell_type": "markdown",
   "metadata": {},
   "source": [
    "- Name: Yuxiang Yao\n",
    "- UCD No. 17205995\n",
    "- IDE: Jupyter Notebook\n",
    "- Project Structure:\n",
    "    - Machine Learning Project.ipynb\n",
    "    - diabetic_data.csv\n",
    "- Packeage Required:\n",
    "    - pandas\n",
    "    - numpy\n",
    "    - random\n",
    "    - matplotlib\n",
    "    - mpl_toolkits\n",
    "    - seaborn\n",
    "    - sklearn"
   ]
  },
  {
   "cell_type": "markdown",
   "metadata": {},
   "source": [
    "## Background"
   ]
  },
  {
   "cell_type": "markdown",
   "metadata": {},
   "source": [
    "## Questions Aim to Solve"
   ]
  },
  {
   "cell_type": "markdown",
   "metadata": {},
   "source": [
    "- Construct"
   ]
  },
  {
   "cell_type": "markdown",
   "metadata": {},
   "source": [
    "## Notions"
   ]
  },
  {
   "cell_type": "markdown",
   "metadata": {},
   "source": [
    "# Data Handling Process"
   ]
  },
  {
   "cell_type": "markdown",
   "metadata": {},
   "source": [
    "## Import Required Library"
   ]
  },
  {
   "cell_type": "markdown",
   "metadata": {},
   "source": [
    "Here we need import some related packages to fulfill our aims, we can divide them in to many types for their purposes:"
   ]
  },
  {
   "cell_type": "markdown",
   "metadata": {},
   "source": [
    "data analysis and preparing: "
   ]
  },
  {
   "cell_type": "code",
   "execution_count": 1,
   "metadata": {},
   "outputs": [],
   "source": [
    "import pandas as pd\n",
    "import numpy as np\n",
    "import random as rnd"
   ]
  },
  {
   "cell_type": "markdown",
   "metadata": {},
   "source": [
    "visualization packages:"
   ]
  },
  {
   "cell_type": "code",
   "execution_count": 2,
   "metadata": {},
   "outputs": [],
   "source": [
    "import matplotlib.pyplot as plt\n",
    "from mpl_toolkits.mplot3d import Axes3D\n",
    "import seaborn as sns\n",
    "%matplotlib inline"
   ]
  },
  {
   "cell_type": "markdown",
   "metadata": {},
   "source": [
    "machine learning packages"
   ]
  },
  {
   "cell_type": "code",
   "execution_count": 3,
   "metadata": {},
   "outputs": [],
   "source": [
    "## imputation\n",
    "from sklearn.impute import SimpleImputer\n",
    "## scaler method\n",
    "from sklearn.preprocessing import MinMaxScaler\n",
    "from sklearn.preprocessing import Binarizer\n",
    "## feature selection\n",
    "from sklearn.feature_selection import SelectKBest\n",
    "from sklearn.feature_selection import chi2\n",
    "## dataset split\n",
    "from sklearn.model_selection import train_test_split\n",
    "## classifier\n",
    "from sklearn.tree import DecisionTreeClassifier \n",
    "from sklearn.neighbors import KNeighborsClassifier\n",
    "##evaluation\n",
    "from sklearn import metrics"
   ]
  },
  {
   "cell_type": "markdown",
   "metadata": {},
   "source": [
    "## Read Data From Files"
   ]
  },
  {
   "cell_type": "code",
   "execution_count": 4,
   "metadata": {},
   "outputs": [
    {
     "name": "stderr",
     "output_type": "stream",
     "text": [
      "C:\\Users\\Public\\anacoda\\lib\\site-packages\\IPython\\core\\interactiveshell.py:3071: DtypeWarning: Columns (10) have mixed types.Specify dtype option on import or set low_memory=False.\n",
      "  has_raised = await self.run_ast_nodes(code_ast.body, cell_name,\n"
     ]
    }
   ],
   "source": [
    "missing_values = [\"na\", '?']\n",
    "df = pd.read_csv(\"diabetic_data.csv\", na_values = missing_values)"
   ]
  },
  {
   "cell_type": "code",
   "execution_count": 5,
   "metadata": {},
   "outputs": [
    {
     "data": {
      "text/plain": [
       "encounter_id                 int64\n",
       "patient_nbr                  int64\n",
       "race                        object\n",
       "gender                      object\n",
       "age                         object\n",
       "weight                      object\n",
       "admission_type_id            int64\n",
       "discharge_disposition_id     int64\n",
       "admission_source_id          int64\n",
       "time_in_hospital             int64\n",
       "payer_code                  object\n",
       "medical_specialty           object\n",
       "num_lab_procedures           int64\n",
       "num_procedures               int64\n",
       "num_medications              int64\n",
       "number_outpatient            int64\n",
       "number_emergency             int64\n",
       "number_inpatient             int64\n",
       "diag_1                      object\n",
       "diag_2                      object\n",
       "diag_3                      object\n",
       "number_diagnoses             int64\n",
       "max_glu_serum               object\n",
       "A1Cresult                   object\n",
       "metformin                   object\n",
       "repaglinide                 object\n",
       "nateglinide                 object\n",
       "chlorpropamide              object\n",
       "glimepiride                 object\n",
       "acetohexamide               object\n",
       "glipizide                   object\n",
       "glyburide                   object\n",
       "tolbutamide                 object\n",
       "pioglitazone                object\n",
       "rosiglitazone               object\n",
       "acarbose                    object\n",
       "miglitol                    object\n",
       "troglitazone                object\n",
       "tolazamide                  object\n",
       "examide                     object\n",
       "citoglipton                 object\n",
       "insulin                     object\n",
       "glyburide-metformin         object\n",
       "glipizide-metformin         object\n",
       "glimepiride-pioglitazone    object\n",
       "metformin-rosiglitazone     object\n",
       "metformin-pioglitazone      object\n",
       "change                      object\n",
       "diabetesMed                 object\n",
       "readmitted                  object\n",
       "dtype: object"
      ]
     },
     "execution_count": 5,
     "metadata": {},
     "output_type": "execute_result"
    }
   ],
   "source": [
    "df.dtypes"
   ]
  },
  {
   "cell_type": "code",
   "execution_count": 6,
   "metadata": {},
   "outputs": [
    {
     "name": "stdout",
     "output_type": "stream",
     "text": [
      "<class 'pandas.core.frame.DataFrame'>\n",
      "RangeIndex: 101766 entries, 0 to 101765\n",
      "Data columns (total 50 columns):\n",
      " #   Column                    Non-Null Count   Dtype \n",
      "---  ------                    --------------   ----- \n",
      " 0   encounter_id              101766 non-null  int64 \n",
      " 1   patient_nbr               101766 non-null  int64 \n",
      " 2   race                      99493 non-null   object\n",
      " 3   gender                    101766 non-null  object\n",
      " 4   age                       101766 non-null  object\n",
      " 5   weight                    3197 non-null    object\n",
      " 6   admission_type_id         101766 non-null  int64 \n",
      " 7   discharge_disposition_id  101766 non-null  int64 \n",
      " 8   admission_source_id       101766 non-null  int64 \n",
      " 9   time_in_hospital          101766 non-null  int64 \n",
      " 10  payer_code                61510 non-null   object\n",
      " 11  medical_specialty         51817 non-null   object\n",
      " 12  num_lab_procedures        101766 non-null  int64 \n",
      " 13  num_procedures            101766 non-null  int64 \n",
      " 14  num_medications           101766 non-null  int64 \n",
      " 15  number_outpatient         101766 non-null  int64 \n",
      " 16  number_emergency          101766 non-null  int64 \n",
      " 17  number_inpatient          101766 non-null  int64 \n",
      " 18  diag_1                    101745 non-null  object\n",
      " 19  diag_2                    101408 non-null  object\n",
      " 20  diag_3                    100343 non-null  object\n",
      " 21  number_diagnoses          101766 non-null  int64 \n",
      " 22  max_glu_serum             101766 non-null  object\n",
      " 23  A1Cresult                 101766 non-null  object\n",
      " 24  metformin                 101766 non-null  object\n",
      " 25  repaglinide               101766 non-null  object\n",
      " 26  nateglinide               101766 non-null  object\n",
      " 27  chlorpropamide            101766 non-null  object\n",
      " 28  glimepiride               101766 non-null  object\n",
      " 29  acetohexamide             101766 non-null  object\n",
      " 30  glipizide                 101766 non-null  object\n",
      " 31  glyburide                 101766 non-null  object\n",
      " 32  tolbutamide               101766 non-null  object\n",
      " 33  pioglitazone              101766 non-null  object\n",
      " 34  rosiglitazone             101766 non-null  object\n",
      " 35  acarbose                  101766 non-null  object\n",
      " 36  miglitol                  101766 non-null  object\n",
      " 37  troglitazone              101766 non-null  object\n",
      " 38  tolazamide                101766 non-null  object\n",
      " 39  examide                   101766 non-null  object\n",
      " 40  citoglipton               101766 non-null  object\n",
      " 41  insulin                   101766 non-null  object\n",
      " 42  glyburide-metformin       101766 non-null  object\n",
      " 43  glipizide-metformin       101766 non-null  object\n",
      " 44  glimepiride-pioglitazone  101766 non-null  object\n",
      " 45  metformin-rosiglitazone   101766 non-null  object\n",
      " 46  metformin-pioglitazone    101766 non-null  object\n",
      " 47  change                    101766 non-null  object\n",
      " 48  diabetesMed               101766 non-null  object\n",
      " 49  readmitted                101766 non-null  object\n",
      "dtypes: int64(13), object(37)\n",
      "memory usage: 38.8+ MB\n"
     ]
    }
   ],
   "source": [
    "df.info()"
   ]
  },
  {
   "cell_type": "markdown",
   "metadata": {},
   "source": [
    "Now we can devide this dataset into feature part and target part:"
   ]
  },
  {
   "cell_type": "code",
   "execution_count": 7,
   "metadata": {},
   "outputs": [],
   "source": [
    "df_target = df['readmitted']\n",
    "df_data = df.drop(['readmitted'], axis = 1)"
   ]
  },
  {
   "cell_type": "code",
   "execution_count": 8,
   "metadata": {
    "scrolled": true
   },
   "outputs": [
    {
     "data": {
      "text/plain": [
       "0          NO\n",
       "1         >30\n",
       "2          NO\n",
       "3          NO\n",
       "4          NO\n",
       "         ... \n",
       "101761    >30\n",
       "101762     NO\n",
       "101763     NO\n",
       "101764     NO\n",
       "101765     NO\n",
       "Name: readmitted, Length: 101766, dtype: object"
      ]
     },
     "execution_count": 8,
     "metadata": {},
     "output_type": "execute_result"
    }
   ],
   "source": [
    "df_target"
   ]
  },
  {
   "cell_type": "markdown",
   "metadata": {},
   "source": [
    "## Data Cleaning & Analysis"
   ]
  },
  {
   "cell_type": "code",
   "execution_count": 9,
   "metadata": {},
   "outputs": [
    {
     "data": {
      "text/plain": [
       "encounter_id                    0\n",
       "patient_nbr                     0\n",
       "race                         2273\n",
       "gender                          0\n",
       "age                             0\n",
       "weight                      98569\n",
       "admission_type_id               0\n",
       "discharge_disposition_id        0\n",
       "admission_source_id             0\n",
       "time_in_hospital                0\n",
       "payer_code                  40256\n",
       "medical_specialty           49949\n",
       "num_lab_procedures              0\n",
       "num_procedures                  0\n",
       "num_medications                 0\n",
       "number_outpatient               0\n",
       "number_emergency                0\n",
       "number_inpatient                0\n",
       "diag_1                         21\n",
       "diag_2                        358\n",
       "diag_3                       1423\n",
       "number_diagnoses                0\n",
       "max_glu_serum                   0\n",
       "A1Cresult                       0\n",
       "metformin                       0\n",
       "repaglinide                     0\n",
       "nateglinide                     0\n",
       "chlorpropamide                  0\n",
       "glimepiride                     0\n",
       "acetohexamide                   0\n",
       "glipizide                       0\n",
       "glyburide                       0\n",
       "tolbutamide                     0\n",
       "pioglitazone                    0\n",
       "rosiglitazone                   0\n",
       "acarbose                        0\n",
       "miglitol                        0\n",
       "troglitazone                    0\n",
       "tolazamide                      0\n",
       "examide                         0\n",
       "citoglipton                     0\n",
       "insulin                         0\n",
       "glyburide-metformin             0\n",
       "glipizide-metformin             0\n",
       "glimepiride-pioglitazone        0\n",
       "metformin-rosiglitazone         0\n",
       "metformin-pioglitazone          0\n",
       "change                          0\n",
       "diabetesMed                     0\n",
       "dtype: int64"
      ]
     },
     "execution_count": 9,
     "metadata": {},
     "output_type": "execute_result"
    }
   ],
   "source": [
    "df_data.isnull().sum()"
   ]
  },
  {
   "cell_type": "code",
   "execution_count": 10,
   "metadata": {},
   "outputs": [
    {
     "data": {
      "text/plain": [
       "0"
      ]
     },
     "execution_count": 10,
     "metadata": {},
     "output_type": "execute_result"
    }
   ],
   "source": [
    "df_target.isnull().sum()"
   ]
  },
  {
   "cell_type": "markdown",
   "metadata": {},
   "source": [
    "We notice that in the above information about datasets, there are some NaN values in *race*, *weight*, *payer_code*, *medical_specialty* , *diag_1*， *diag_2*， *diag_3*. But we cannot sure will there be any irregular values, so more inspection is needed."
   ]
  },
  {
   "cell_type": "markdown",
   "metadata": {},
   "source": [
    "### Feature Imputation"
   ]
  },
  {
   "cell_type": "markdown",
   "metadata": {},
   "source": [
    "#### Feature: race"
   ]
  },
  {
   "cell_type": "markdown",
   "metadata": {},
   "source": [
    "We know thate the feature \"Race\" is **Nominal** value, and values should be one of them: *Caucasian*, *Asian*, *AfricanAmerican*, *Hispanic*, and *other*"
   ]
  },
  {
   "cell_type": "code",
   "execution_count": 20,
   "metadata": {},
   "outputs": [
    {
     "name": "stdout",
     "output_type": "stream",
     "text": [
      "{'Caucasian': 78372, 'AfricanAmerican': 19210, 'Other': 1506, 'Asian': 641, 'Hispanic': 2037}\n"
     ]
    },
    {
     "name": "stderr",
     "output_type": "stream",
     "text": [
      "<ipython-input-20-7f990a7cbe0c>:10: MatplotlibDeprecationWarning: Using a string of single character colors as a color sequence is deprecated. Use an explicit list instead.\n",
      "  plt.bar(range(len(num_list)), num_list,color='rgb')\n"
     ]
    },
    {
     "data": {
      "image/png": "[encoded data removed]",
      "text/plain": [
       "<Figure size 432x288 with 1 Axes>"
      ]
     },
     "metadata": {
      "needs_background": "light"
     },
     "output_type": "display_data"
    }
   ],
   "source": [
    "race_values = {}\n",
    "for item in df_data['race']:\n",
    "    if item in race_values.keys():\n",
    "        race_values[item] = race_values[item] + 1\n",
    "    else:\n",
    "        race_values[item] = 1\n",
    "print(race_values)\n",
    "\n",
    "num_list = race_values.values()\n",
    "plt.bar(range(len(num_list)), num_list,color='rgb')\n",
    "plt.show()"
   ]
  },
  {
   "cell_type": "markdown",
   "metadata": {},
   "source": [
    "From the above inspection, we can assert that there is no irregualr values. To illustrate it , we can plot it as the above diagram. We now can conclude that there are not any irregular values. Now we should consider how to fill the NaN values. According the diagram we can see that the the most frequent type (*'Caucasian'*) account a large part, so we decide to impute the NaN values with the mode value."
   ]
  },
  {
   "cell_type": "code",
   "execution_count": 12,
   "metadata": {},
   "outputs": [],
   "source": [
    "df_data['race'].fillna('Caucasian', inplace=True)"
   ]
  },
  {
   "cell_type": "markdown",
   "metadata": {},
   "source": [
    "#### Feature: diag_1 diag_2 diag_3"
   ]
  },
  {
   "cell_type": "code",
   "execution_count": 21,
   "metadata": {},
   "outputs": [
    {
     "name": "stdout",
     "output_type": "stream",
     "text": [
      "{'250.83': 95, '276': 1889, '648': 285, '8': 515, '197': 320, '414': 6581, '428': 6862, '398': 128, '434': 2028, '250.7': 871, '157': 114, '518': 1115, '999': 29, '410': 3614, '682': 2042, '402': 449, '737': 8, '572': 239, 'V57': 1207, '189': 126, '786': 4016, '427': 2766, '996': 1967, '277': 34, '584': 1520, '462': 11, '473': 23, '411': 254, '174': 147, '486': 3508, '998': 784, '511': 270, '432': 92, '626': 79, '295': 447, '196': 25, '250.6': 1183, '618': 161, '182': 108, '845': 10, '423': 72, '808': 136, '250.4': 267, '722': 771, '403': 513, '250.11': 625, '784': 151, '707': 257, '440': 840, '151': 62, '715': 2151, '997': 424, '198': 242, '564': 147, '812': 235, '38': 1688, '590': 335, '556': 46, '578': 663, '250.32': 17, '433': 789, 'V58': 228, '569': 286, '185': 173, '536': 150, '255': 24, '250.13': 851, '599': 1595, '558': 335, '574': 965, '491': 2275, '560': 876, '244': 11, '250.03': 201, '577': 1057, '730': 230, '188': 112, '824': 316, '250.8': 1680, '332': 55, '562': 989, '291': 91, '296': 896, '510': 33, '401': 346, '263': 12, '438': 85, '70': 46, '250.02': 675, '493': 1056, '642': 64, '625': 64, '571': 277, '738': 56, '593': 101, '250.42': 90, '807': 83, '456': 24, '446': 23, '575': 215, '250.41': 91, '820': 1082, '515': 126, '780': 2019, '250.22': 156, '995': 78, '235': 27, '250.82': 412, '721': 178, '787': 267, '162': 425, '724': 440, '282': 68, '514': 43, 'V55': 71, '281': 20, '250.33': 19, '530': 531, '466': 236, '435': 1016, '250.12': 417, 'V53': 44, '789': 561, '566': 85, '822': 50, '191': 45, '557': 196, '733': 367, '455': 94, '711': 66, '482': 339, '202': 104, '280': 319, '553': 141, '225': 46, '154': 94, '441': 129, '250.81': 186, '349': 35, '1': 21, '962': 57, '592': 350, '507': 610, '386': 145, '156': 18, '200': 16, '728': 127, '348': 152, '459': 97, '426': 288, '388': 5, '607': 21, '337': 10, '82': 7, '531': 276, '596': 48, '288': 92, '656': 21, '573': 41, '492': 32, '220': 46, '516': 34, '210': 7, '922': 41, '286': 45, '885': 1, '958': 20, '661': 25, '969': 58, '250.93': 17, '227': 46, '112': 73, '404': 262, '823': 127, '532': 219, '416': 68, '346': 82, '535': 450, '453': 546, '250': 235, '595': 95, '211': 103, '303': 69, '250.01': 61, '852': 110, '218': 127, '782': 84, '540': 198, '457': 12, '285': 365, '431': 172, '340': 45, '550': 53, '54': 12, '351': 30, '601': 16, '723': 77, '555': 52, '153': 311, '443': 110, '380': 20, '204': 23, '424': 183, '241': 58, '358': 14, '694': 6, '331': 192, '345': 113, '681': 112, '447': 63, '290': 86, '158': 12, '579': 7, '436': 175, '335': 9, '309': 37, '654': 92, '805': 188, '799': 68, '292': 107, '183': 31, '78': 9, '851': 35, '458': 426, '586': 21, '311': 57, '892': 11, '305': 25, '293': 56, '415': 449, '591': 19, '794': 26, '803': 3, '79': 86, '655': 5, '429': 37, '278': 379, '658': 26, '598': 5, '729': 106, '585': 75, '444': 156, '604': 37, '727': 48, '214': 6, '552': 234, '284': 61, '680': 14, '708': 8, '41': 8, '644': 27, '481': 70, '821': 145, '413': 117, '437': 90, '968': 8, '756': 15, '632': 3, '359': 8, '275': 53, '512': 46, '781': 109, '420': 64, '368': 12, '522': 26, '294': 116, '825': 23, '135': 27, '304': 32, '320': 7, '250.31': 15, '669': 3, '868': 3, '496': 80, '250.43': 25, '826': 3, '567': 57, '3': 13, '203': 35, '53': 55, '251': 15, '565': 12, '161': 12, '495': 5, '49': 5, '250.1': 313, '297': 14, '663': 7, '576': 97, '355': 17, '850': 56, '287': 86, '250.2': 114, '611': 34, '840': 14, '350': 11, '726': 91, '537': 111, '620': 47, '180': 6, '366': 1, '783': 29, '11': 10, '751': 5, '716': 55, '250.3': 20, '199': 14, '464': 10, '580': 2, '836': 6, '664': 20, '283': 28, '813': 83, '966': 12, '289': 19, '965': 54, '184': 10, '480': 18, '608': 68, '333': 35, '972': 17, '212': 8, '117': 9, '788': 39, '924': 55, '959': 44, '621': 22, '238': 62, '785': 101, '714': 40, '942': 5, '250.23': 29, '710': 25, '47': 26, '933': 14, '508': 5, '478': 32, '844': 29, '7': 2, '736': 14, '233': 29, '42': 45, '250.5': 8, '397': 5, '395': 5, '201': 10, '421': 41, '253': 50, '250.92': 52, '600': 207, '494': 24, '977': 13, '39': 2, '659': 32, '312': 18, '614': 21, '647': 5, '652': 13, '646': 10, '274': 96, '861': 13, '425': 86, '527': 26, '451': 40, '485': 42, '217': 1, '250.53': 4, '442': 34, '970': 8, '193': 28, '160': 1, '322': 2, '581': 19, '475': 14, '623': 4, '374': 3, '582': 2, '568': 32, '465': 48, '801': 33, '237': 7, '376': 12, '150': 27, '461': 20, '913': 2, '226': 19, '617': 19, '987': 3, '641': 9, '298': 64, '790': 144, '336': 3, '362': 8, '228': 5, '513': 16, '383': 9, '746': 7, '353': 6, '911': 1, '506': 3, '873': 18, '155': 54, '860': 37, '534': 24, '802': 30, '141': 6, 'V45': 5, '396': 30, '310': 12, '341': 7, '242': 22, '719': 55, '239': 33, '533': 22, '616': 24, '519': 46, '301': 4, 'V66': 2, '5': 9, '989': 11, '230': 9, '385': 2, '300': 90, '853': 18, '871': 2, '570': 6, '848': 2, '463': 5, '9': 46, '934': 6, '250.21': 12, '236': 3, '361': 5, '594': 14, '501': 3, '810': 10, '643': 5, '430': 32, '528': 20, '205': 27, '791': 1, '983': 5, '992': 9, '490': 90, '172': 4, '171': 12, '622': 5, '306': 10, '863': 4, '864': 8, '474': 4, '660': 12, '759': 5, '356': 5, '634': 2, '967': 17, '551': 8, '695': 12, '187': 2, '732': 2, '747': 7, '323': 10, '308': 3, '370': 3, '252': 23, '152': 15, '846': 4, '164': 3, '365': 1, '718': 17, '48': 2, '266': 3, '720': 4, '94': 7, '344': 6, '797': 3, '170': 2, '878': 2, '904': 2, 'V56': 16, '882': 10, '843': 12, '709': 8, '973': 2, '454': 9, '686': 8, '939': 1, '487': 102, '229': 2, '991': 7, '483': 5, '357': 20, '692': 5, '796': 6, '693': 23, '935': 13, '936': 3, '800': 6, '920': 22, 'V26': 2, '261': 4, '307': 25, '262': 3, '250.9': 7, '831': 8, '145': 1, '223': 7, 'V71': 9, '839': 1, '685': 6, 'V54': 45, '35': 10, '34': 7, '179': 4, '964': 8, '136': 5, '324': 6, '389': 1, '815': 7, '334': 2, '143': 1, '526': 7, '588': 9, '192': 4, 'V67': 1, '394': 11, '917': 3, '88': 9, '219': 1, '325': 1, '792': 5, '717': 7, '994': 1, '990': 2, '793': 4, '207': 1, '637': 1, '195': 9, '373': 1, '847': 12, '827': 1, '31': 3, '891': 10, '814': 5, 'V60': 1, '703': 2, '865': 8, '352': 2, '627': 18, '378': 14, '342': 8, '886': 4, '369': 2, '745': 7, '705': 10, '816': 9, '541': 9, '986': 3, '610': 2, '633': 4, '640': 1, '753': 5, '173': 3, '835': 5, '379': 5, '445': 7, '272': 6, '382': 4, '945': 12, '619': 5, '881': 5, '250.52': 4, '866': 7, '405': 3, '916': 4, '215': 5, '893': 5, '75': 2, '671': 1, '928': 3, '906': 1, '897': 2, '725': 12, '867': 14, '115': 2, '890': 6, '734': 4, '521': 11, '674': 4, '470': 4, '834': 1, '146': 4, '696': 6, '524': 4, '980': 2, '691': 1, '384': 2, '142': 4, '879': 3, '250.51': 1, '246': 2, '208': 5, '448': 2, '955': 1, '653': 2, '149': 2, '245': 4, '735': 2, '883': 6, '854': 5, '952': 9, '838': 1, '194': 2, 'V43': 1, '163': 9, '216': 1, '147': 2, '354': 9, '27': 2, '477': 1, '318': 1, '880': 2, '921': 3, '377': 3, '471': 1, '683': 2, '175': 5, '602': 3, '250.91': 4, '982': 1, '706': 3, '375': 1, '417': 2, '131': 2, '347': 1, '870': 1, '148': 1, '862': 3, '61': 1, '817': 1, '914': 2, '360': 2, '684': 1, '314': 1, 'V63': 8, '36': 2, '57': 1, '240': 3, '915': 1, '971': 3, '795': 3, '988': 1, '452': 5, '963': 3, '327': 24, '731': 4, '842': 1, 'V25': 1, '645': 2, '665': 3, '110': 2, '944': 2, '603': 3, '923': 4, '412': 1, '363': 1, '957': 1, '976': 1, '698': 1, '299': 1, '700': 1, '273': 6, '974': 1, '97': 1, '529': 4, '66': 6, '98': 1, '605': 1, '941': 2, '52': 2, '806': 6, '84': 1, '271': 3, '837': 1, '657': 2, '895': 1, '338': 20, '523': 1, '542': 2, '114': 1, '543': 1, '372': 1, 'V70': 1, 'E909': 1, '583': 5, 'V07': 1, '422': 2, '615': 2, '279': 2, '500': 2, '903': 1, '919': 1, '875': 2, '381': 1, '804': 1, '704': 1, '23': 2, '58': 2, '649': 1, '832': 1, '133': 1, '975': 2, '833': 1, '391': 1, '690': 1, '10': 1, 'V51': 1}\n",
      "The most frequent value is:1\n"
     ]
    },
    {
     "name": "stderr",
     "output_type": "stream",
     "text": [
      "<ipython-input-21-cf3541c21502>:12: MatplotlibDeprecationWarning: Using a string of single character colors as a color sequence is deprecated. Use an explicit list instead.\n",
      "  plt.bar(range(len(num_list)), num_list,color='rgb')\n"
     ]
    },
    {
     "data": {
      "image/png": "[encoded data removed]",
      "text/plain": [
       "<Figure size 432x288 with 1 Axes>"
      ]
     },
     "metadata": {
      "needs_background": "light"
     },
     "output_type": "display_data"
    },
    {
     "name": "stdout",
     "output_type": "stream",
     "text": [
      "{'1': 358, '250.01': 1523, '250': 6071, '250.43': 37, '157': 85, '411': 2566, '492': 222, '427': 5036, '198': 320, '403': 2823, '288': 75, '998': 571, '507': 195, '174': 27, '425': 1434, '456': 76, '401': 3736, '715': 122, '496': 3305, '428': 6662, '585': 1871, '250.02': 2074, '410': 549, '999': 34, '996': 454, '135': 115, '244': 151, '41': 379, '571': 414, '276': 6752, '997': 381, '599': 3288, '424': 1071, '491': 1545, '553': 77, '707': 1999, '286': 117, '440': 406, '493': 881, '242': 94, '70': 273, 'V45': 408, '250.03': 233, '357': 78, '511': 519, '196': 213, '396': 179, '197': 410, '414': 2650, '250.52': 56, '577': 401, '535': 193, '413': 1042, '285': 1520, '53': 32, '780': 1491, '518': 1355, '150': 35, '566': 21, '250.6': 895, '867': 10, '486': 1379, 'V15': 128, '8': 199, '788': 389, '340': 119, '574': 346, '581': 80, '228': 2, '530': 290, '250.82': 177, '786': 644, '294': 157, '567': 92, '785': 516, '512': 46, '305': 702, '729': 92, '250.51': 66, '280': 606, '648': 338, '560': 394, '618': 35, '444': 106, '38': 475, 'V10': 101, '578': 350, '277': 61, '781': 123, '250.42': 103, '278': 270, '426': 301, '584': 1649, '462': 16, '402': 335, '153': 107, '272': 420, '733': 186, '34': 10, '881': 11, '203': 90, '250.41': 228, '250.13': 104, '293': 76, '245': 5, '250.12': 96, '558': 108, '787': 208, '342': 223, '573': 46, '626': 27, '303': 287, '250.53': 25, '458': 145, '710': 165, '415': 107, 'V42': 264, '284': 168, '569': 175, '759': 6, '682': 1433, '112': 201, '292': 97, '435': 93, '290': 49, '250.93': 22, '642': 27, '536': 198, '398': 39, '319': 18, '711': 43, 'E878': 113, '446': 32, '255': 69, 'V44': 11, '250.7': 130, '784': 185, '300': 147, '562': 142, '162': 401, '287': 311, '447': 26, '789': 343, '790': 225, '591': 233, '200': 19, '154': 45, '304': 171, '117': 10, '847': 6, '852': 16, '250.83': 39, '250.11': 79, '816': 12, '575': 64, '416': 96, '412': 102, '441': 41, '515': 162, '372': 5, '482': 106, '382': 13, 'V65': 23, '572': 83, '283': 20, '78': 2, '250.81': 94, '576': 84, '432': 22, '595': 67, '295': 408, 'V12': 67, '204': 117, '466': 107, '721': 62, '434': 187, '590': 134, '271': 1, '813': 23, '368': 22, '227': 6, '783': 24, '250.5': 65, '258': 4, '253': 42, '309': 51, '250.91': 8, '519': 30, '333': 16, '459': 53, '250.92': 201, '250.4': 170, '179': 2, '420': 25, '345': 43, '433': 150, '661': 2, '537': 30, '205': 58, '722': 139, '405': 3, '437': 69, '714': 39, '211': 54, 'E812': 8, '263': 171, '202': 182, '397': 68, '250.23': 3, 'E932': 38, '201': 20, '301': 64, '723': 58, '614': 20, '568': 69, '861': 9, 'V57': 9, '724': 144, '189': 48, '297': 6, '453': 346, 'E888': 109, '730': 246, '354': 10, '451': 32, '738': 25, 'E939': 13, '805': 79, 'V43': 130, '155': 33, '910': 6, '218': 44, '358': 29, '220': 8, 'E937': 5, '583': 21, '958': 15, '794': 60, '564': 80, '436': 25, '250.22': 38, '620': 29, '621': 8, '331': 108, '617': 20, '596': 60, '314': 12, '378': 13, '250.8': 205, '625': 47, '478': 30, '731': 80, '172': 8, '404': 203, '681': 39, '470': 3, '279': 11, '281': 18, '531': 46, '443': 76, '799': 315, '337': 52, '311': 82, '719': 90, 'E944': 11, '423': 16, 'E870': 3, '465': 55, 'E849': 54, '782': 74, '481': 39, '480': 5, 'V23': 3, '199': 13, '79': 29, '438': 263, '348': 140, '42': 85, 'E950': 10, '473': 39, '627': 12, '726': 27, '54': 10, '490': 53, '317': 10, '332': 43, '508': 6, '369': 7, '600': 38, '349': 35, '485': 10, '208': 8, '922': 8, '431': 16, '296': 165, 'E934': 10, '753': 18, 'E935': 24, '386': 22, '728': 130, '607': 14, 'E915': 1, '344': 67, '716': 21, '289': 41, '191': 14, '873': 41, '850': 30, '611': 23, '377': 3, '352': 2, '616': 23, 'V17': 9, '136': 6, '455': 32, '933': 3, 'E885': 112, '860': 20, '513': 5, '603': 3, '484': 4, '223': 1, 'V72': 13, '291': 74, '151': 24, 'V58': 157, '550': 15, '510': 11, '891': 6, '185': 27, '592': 77, '791': 6, '138': 22, '598': 5, '336': 6, '362': 30, '217': 3, '825': 9, '298': 20, '821': 20, 'E880': 19, '343': 6, '429': 32, 'E879': 20, '579': 9, '225': 5, '250.9': 7, 'V49': 39, '696': 14, '233': 12, '658': 1, '969': 6, '275': 35, '250.1': 17, '601': 22, '704': 1, '808': 46, 'E890': 1, 'V18': 8, '920': 24, '380': 8, '570': 14, 'E817': 1, '359': 14, '812': 39, '274': 26, 'V14': 3, '324': 9, '758': 7, 'V66': 5, '911': 2, 'E931': 3, 'E924': 3, '593': 122, '792': 12, '727': 26, 'V46': 11, '394': 21, '532': 26, 'V64': 27, '557': 38, '864': 6, '718': 12, 'E942': 34, '807': 46, '604': 6, '924': 24, '820': 55, '580': 1, '273': 8, '241': 11, '282': 50, '824': 19, 'V61': 2, '646': 7, '701': 7, '736': 18, '565': 9, '383': 3, '250.2': 12, 'E947': 21, '452': 7, '872': 2, '905': 12, 'E930': 8, '921': 4, '131': 3, '448': 3, '389': 6, '421': 21, '214': 8, '705': 8, '494': 12, '752': 1, '623': 5, '9': 7, '299': 8, '959': 12, '365': 8, '967': 2, 'E858': 4, '40': 12, '691': 3, '909': 5, '5': 1, '814': 2, '746': 16, '250.31': 1, '556': 18, '680': 23, '745': 15, '351': 3, '306': 4, '110': 8, '695': 2, '552': 49, '346': 22, '918': 2, '882': 7, '947': 1, '520': 1, '188': 10, '31': 4, '356': 13, '737': 11, 'V08': 7, '322': 7, '182': 1, '517': 11, '974': 1, 'E929': 1, 'V53': 2, '912': 1, '252': 21, '608': 10, '516': 29, 'E933': 5, '94': 26, '702': 1, '923': 9, '594': 7, '647': 5, '111': 1, '934': 6, '430': 6, '487': 18, '709': 9, '796': 8, '156': 16, '977': 1, '915': 1, '756': 13, '840': 15, '341': 2, '259': 3, '693': 11, '725': 4, 'V62': 66, '528': 7, '683': 1, '953': 1, '457': 7, '501': 4, 'E900': 1, 'V09': 10, '522': 4, '919': 3, '461': 10, '506': 1, '193': 4, '483': 2, 'E936': 7, '717': 11, '802': 25, '335': 11, 'V54': 78, '320': 4, '945': 3, '906': 2, '239': 3, '454': 6, '826': 4, '823': 14, 'E941': 2, '226': 2, '795': 2, '684': 6, '844': 5, '250.33': 5, '308': 3, '615': 1, '588': 5, '712': 6, '663': 2, '706': 10, '833': 1, '741': 9, '713': 6, '533': 9, 'E884': 21, '586': 10, '555': 22, '755': 2, 'E928': 15, '742': 3, '869': 2, '962': 1, 'V11': 2, '543': 2, '373': 3, '870': 3, '913': 3, '152': 13, '810': 4, '965': 3, '907': 5, '908': 1, '995': 114, '845': 8, '474': 2, '442': 16, '751': 3, '323': 5, '472': 2, '464': 2, '686': 6, '250.32': 4, '540': 12, '251': 10, '811': 1, '652': 4, '659': 3, '851': 5, '422': 4, '815': 3, '307': 13, '325': 1, '463': 3, '992': 2, '692': 5, '521': 5, '917': 1, 'E965': 1, '524': 8, '916': 2, 'E813': 1, '173': 1, '238': 17, '137': 1, '514': 12, '312': 24, '837': 3, '355': 4, '980': 2, '622': 2, '475': 1, '500': 5, '754': 1, '261': 16, '801': 4, '868': 5, '968': 1, '381': 2, '11': 3, '250.21': 4, '694': 6, '610': 2, '734': 1, 'E814': 2, '310': 5, '130': 1, '246': 4, '892': 7, '846': 1, '634': 2, '75': 2, 'E927': 6, 'E905': 3, '183': 14, '379': 3, 'E917': 6, '163': 1, 'E868': 1, '495': 5, '747': 5, '989': 4, 'E854': 1, '240': 2, '832': 1, '605': 1, '602': 2, '644': 5, 'V16': 2, '35': 1, 'V70': 7, '376': 3, '266': 8, 'E918': 1, '619': 7, '477': 3, '656': 3, '46': 1, '883': 8, '171': 2, 'V13': 1, '698': 5, '842': 3, 'E850': 1, '800': 1, '269': 2, '664': 4, 'E887': 3, '952': 2, '164': 1, 'E881': 4, '527': 4, '685': 6, '366': 2, '836': 8, '27': 3, 'V63': 30, '865': 5, '793': 5, '232': 1, '990': 1, '52': 1, '831': 4, '327': 36, '542': 3, '806': 4, '972': 3, '862': 3, 'E829': 1, 'E919': 1, '944': 1, 'E916': 2, '963': 1, '316': 1, '645': 3, '347': 1, 'V85': 169, '374': 1, 'V02': 4, '748': 1, '256': 1, '186': 1, '866': 2, '975': 1, '96': 1, '395': 3, '262': 13, 'E819': 2, '654': 2, '994': 1, '318': 2, 'E826': 1, '879': 1, '674': 1, '641': 2, '822': 4, '145': 1, '797': 2, '353': 1, 'E938': 1, 'E816': 3, '948': 1, '987': 1, '99': 1, '192': 1, '250.3': 2, 'E906': 3, '534': 2, '115': 1, 'E818': 1, 'E980': 1, '360': 4, '338': 15, '529': 1, '871': 1, '750': 8, '212': 1, '302': 1, '955': 1, '141': 2, '88': 1, 'V25': 1, '215': 2, '350': 1, 'V50': 1, 'V03': 1, 'E853': 2, 'E968': 1, 'E882': 1, '140': 1, '703': 1, '991': 3, '893': 1, 'E821': 2, '235': 1, 'V69': 1, '670': 1, '195': 1, 'V55': 2, '388': 1, '268': 1, '894': 1, '114': 1, '260': 10, '853': 2, '7': 1, '880': 1, 'V86': 2, '180': 1, 'E945': 1, '523': 1, '863': 1, '649': 2, '270': 1, '665': 1, '460': 1, '942': 1, '364': 1, '66': 1, 'E883': 1, '123': 1, '884': 1, 'V60': 1, '843': 1, '927': 1}\n",
      "The most frequent value is:1\n"
     ]
    },
    {
     "name": "stderr",
     "output_type": "stream",
     "text": [
      "<ipython-input-21-cf3541c21502>:26: MatplotlibDeprecationWarning: Using a string of single character colors as a color sequence is deprecated. Use an explicit list instead.\n",
      "  plt.bar(range(len(num_list)), num_list,color='rgb')\n"
     ]
    },
    {
     "data": {
      "image/png": "[encoded data removed]",
      "text/plain": [
       "<Figure size 432x288 with 1 Axes>"
      ]
     },
     "metadata": {
      "needs_background": "light"
     },
     "output_type": "display_data"
    },
    {
     "name": "stdout",
     "output_type": "stream",
     "text": [
      "{'1': 1423, '255': 69, 'V27': 37, '403': 2357, '250': 11555, 'V45': 1389, '38': 162, '486': 568, '996': 281, '197': 385, '250.6': 1080, '427': 3955, '627': 17, '414': 3664, '416': 170, '714': 83, '428': 4577, '582': 12, 'V43': 211, '250.01': 915, '263': 252, '250.42': 130, '276': 5175, '482': 56, '401': 8289, '250.41': 199, '585': 1992, '781': 133, '278': 680, '998': 316, '568': 62, '682': 887, '618': 30, '250.02': 1369, '305': 924, '707': 1360, '496': 2605, '599': 1941, '715': 214, '424': 1063, '518': 854, '553': 141, '794': 110, '411': 399, 'V42': 243, '531': 50, '511': 380, '490': 56, '562': 189, '250.8': 316, '250.7': 141, '250.52': 74, '784': 236, '491': 574, '581': 97, '420': 10, '8': 190, '724': 148, '730': 186, '789': 290, '131': 6, '250.82': 113, '999': 26, '41': 727, '493': 694, '250.03': 134, '753': 15, '786': 584, '529': 3, 'E888': 131, '425': 1136, '595': 51, '303': 207, '560': 306, '711': 25, '492': 169, '332': 88, '296': 214, '438': 318, '362': 66, '250.4': 429, '654': 13, '244': 540, 'V70': 2, '737': 20, '625': 49, '681': 75, '250.51': 128, '404': 124, 'V10': 239, '810': 6, '280': 398, '440': 221, '785': 388, '588': 26, '569': 107, '272': 1969, '997': 298, '250.43': 59, '918': 2, '584': 963, '54': 14, '788': 353, '426': 272, '722': 121, '250.92': 149, '196': 105, '461': 21, '535': 285, '787': 358, '891': 5, '284': 138, '458': 285, '648': 107, '780': 1334, '182': 5, '285': 1200, '593': 339, '413': 329, '664': 14, '564': 127, '201': 12, '356': 26, 'V15': 334, '292': 64, '782': 119, '473': 57, '455': 81, 'E932': 71, '357': 394, '348': 87, '294': 315, '250.23': 2, '459': 104, 'E878': 164, '437': 87, '733': 201, '507': 84, '525': 3, '250.53': 35, '397': 150, '572': 51, '805': 27, '453': 211, '331': 185, '736': 22, '402': 375, '591': 140, '576': 45, '465': 71, '533': 23, '703': 3, '349': 16, '315': 1, '658': 7, '608': 13, '578': 250, '716': 77, '382': 14, '300': 241, '282': 41, '571': 310, '536': 267, '596': 88, '287': 388, '644': 6, 'V11': 2, '558': 108, 'E885': 117, '162': 181, '198': 238, '218': 53, '412': 346, '396': 229, 'V14': 12, '570': 13, '433': 143, 'E934': 22, '882': 6, '288': 113, '577': 149, '443': 205, '729': 147, '836': 9, '295': 305, '799': 312, '281': 36, '304': 159, '153': 55, '410': 209, '616': 28, '250.83': 20, '601': 20, '291': 43, '75': 1, '512': 37, '660': 6, '250.5': 111, '598': 14, '337': 97, '574': 136, '653': 4, 'V58': 501, '311': 217, '415': 33, '386': 20, '602': 1, '790': 194, '112': 206, '873': 38, '620': 29, '436': 8, '70': 281, '155': 12, '138': 21, '663': 14, '530': 625, '710': 109, '42': 23, '342': 164, '250.91': 6, 'E884': 24, '515': 155, '307': 16, '704': 8, '728': 107, '731': 126, '583': 92, '238': 36, '441': 54, '293': 81, '573': 52, '532': 28, '290': 81, '594': 9, '319': 27, '250.13': 12, '250.12': 39, '519': 33, '346': 34, '380': 10, '135': 64, '642': 33, '698': 10, '924': 40, '905': 16, 'E933': 16, '555': 29, '309': 45, 'E879': 59, '286': 125, '565': 4, '752': 5, '580': 9, '446': 28, '444': 44, '344': 59, '252': 24, '35': 4, '813': 19, '394': 17, '301': 89, '575': 43, '258': 3, 'V17': 22, '802': 20, '435': 58, '746': 9, 'V12': 204, '709': 16, '881': 6, 'E935': 30, '139': 2, '250.81': 50, '718': 9, '365': 19, '202': 122, '334': 5, '185': 51, '398': 28, 'V44': 27, '517': 42, 'E849': 219, '614': 31, '466': 132, '626': 30, '250.9': 9, '368': 33, '605': 6, '883': 10, '289': 39, '478': 32, '617': 25, '429': 66, '442': 24, 'V25': 2, '866': 3, '610': 8, '557': 13, '959': 22, 'E942': 52, '94': 21, '920': 24, '345': 39, '313': 4, '379': 6, '79': 46, '516': 13, '586': 15, '821': 6, '600': 79, '242': 77, '373': 3, '592': 65, 'V64': 45, '487': 17, '253': 47, '706': 2, 'E947': 38, '117': 7, '340': 60, 'E950': 17, '656': 11, 'E949': 1, '590': 47, 'V09': 86, '250.22': 15, '934': 6, '694': 11, '203': 67, '250.93': 14, '995': 299, '726': 34, '923': 17, '958': 10, '275': 84, 'E929': 7, '211': 100, 'V18': 15, 'V66': 18, '199': 45, '665': 5, '53': 25, '279': 10, '522': 12, '791': 14, '890': 1, '456': 38, 'E938': 6, 'E816': 9, '122': 1, '721': 53, 'V65': 24, '136': 2, '480': 2, '423': 25, 'E920': 3, '793': 8, '647': 12, '537': 31, '351': 11, '845': 9, '336': 5, '274': 68, '719': 96, '945': 8, '434': 56, '494': 14, '227': 6, '157': 38, '208': 10, '174': 43, 'V57': 7, '812': 32, '734': 2, '150': 13, 'V23': 4, '447': 39, '692': 15, '228': 7, 'V16': 7, '756': 6, '405': 9, 'E928': 10, '823': 10, '552': 15, '528': 4, '389': 13, '240': 5, '454': 13, '792': 16, '366': 6, 'E939': 20, '907': 9, '270': 7, '310': 12, '266': 17, '387': 1, 'E931': 12, '783': 57, '245': 3, '607': 10, '355': 18, 'E930': 15, '705': 8, '372': 8, '369': 25, '611': 17, '283': 12, 'V46': 60, '110': 20, '867': 10, 'E956': 3, '251': 7, '250.2': 8, '820': 18, '712': 7, '695': 9, '567': 23, '343': 19, '723': 31, 'V08': 19, '273': 12, '623': 5, '807': 36, '451': 9, '495': 4, '701': 6, '34': 6, 'V53': 7, '314': 3, '472': 5, 'E945': 1, '11': 2, '189': 27, '534': 3, '354': 9, '333': 31, 'V54': 58, '277': 38, '659': 27, '708': 7, '452': 4, '655': 3, '816': 3, '670': 2, '621': 13, '246': 6, '953': 2, '865': 4, 'E817': 2, '646': 18, '151': 10, '378': 12, '78': 3, '298': 38, '840': 13, '641': 2, '521': 13, '745': 19, '619': 6, '912': 3, '506': 5, 'E904': 1, '259': 4, 'E870': 7, 'E980': 3, '383': 7, '204': 66, '696': 23, '566': 5, '727': 31, '47': 1, 'E943': 3, '358': 17, '191': 5, '965': 7, '921': 4, '432': 10, '27': 1, 'E861': 1, '758': 6, '477': 16, '524': 1, '751': 5, '652': 7, '556': 16, '188': 15, '825': 7, '919': 3, '732': 1, '908': 5, '951': 1, '962': 8, '685': 3, 'E850': 5, 'E944': 20, '527': 6, '341': 2, '693': 16, '250.1': 20, 'V49': 54, '860': 6, '323': 4, 'V55': 8, '579': 9, '508': 5, '969': 10, '205': 19, '462': 17, 'E880': 26, '680': 12, '697': 1, '826': 4, '200': 9, '457': 22, '717': 7, '738': 23, '742': 5, '735': 2, '235': 4, '308': 1, '725': 16, '241': 10, '824': 21, '464': 5, '260': 9, '917': 6, '239': 6, '661': 4, '892': 9, '261': 15, 'E883': 1, '943': 2, '744': 1, 'E936': 7, '796': 13, '318': 9, '967': 2, '350': 2, '854': 2, 'E905': 3, '9': 5, '741': 9, 'E941': 5, '170': 4, '643': 2, '317': 11, '759': 3, '909': 6, 'V22': 1, '831': 4, '713': 14, '180': 4, '801': 4, '360': 2, '359': 7, '501': 13, '335': 4, '250.11': 18, '306': 5, '811': 1, '690': 2, 'V02': 4, '271': 2, '214': 3, '847': 5, '543': 4, 'V63': 13, '906': 4, '842': 3, '686': 11, '445': 3, '808': 19, '861': 8, 'E852': 2, '220': 5, 'E887': 6, 'E858': 4, '915': 4, '970': 1, '256': 5, '747': 9, '395': 1, '243': 1, '815': 5, '481': 5, '5': 3, 'E927': 7, '297': 6, '299': 4, '851': 3, '864': 2, '922': 16, '384': 2, 'E876': 1, '225': 7, '158': 1, 'E937': 6, '871': 1, '88': 2, '966': 3, 'E917': 4, 'E812': 21, 'V62': 29, 'E924': 2, '604': 4, '233': 5, 'E916': 3, '377': 2, '797': 2, 'V72': 8, '172': 5, '7': 2, '421': 6, '852': 3, 'E819': 8, '972': 1, '916': 11, '956': 2, '3': 2, 'E965': 1, '173': 2, '193': 1, '154': 13, '347': 4, '862': 3, '250.3': 2, '987': 1, '470': 3, '262': 8, 'E855': 2, '161': 3, '115': 1, '179': 7, '910': 4, '312': 14, '17': 1, '460': 2, '265': 1, '66': 1, '163': 5, 'V60': 4, '870': 2, 'E906': 5, '514': 13, '944': 1, '844': 3, '417': 3, '152': 3, '183': 14, '991': 7, '216': 2, '385': 1, '164': 1, '935': 1, '510': 5, '814': 2, '485': 1, '850': 4, '250.21': 4, 'E919': 2, '872': 1, '195': 1, '431': 7, '597': 2, '933': 3, '171': 4, '884': 1, '156': 4, '868': 2, '483': 2, 'E815': 1, '542': 1, 'V61': 5, '853': 1, '374': 2, 'E881': 9, 'E882': 1, 'E822': 1, '192': 2, '754': 1, '327': 80, '523': 4, '500': 4, 'V85': 96, '992': 1, '657': 1, '684': 1, '603': 1, 'E826': 1, '550': 4, '913': 5, '376': 2, '755': 1, '361': 1, '186': 1, '720': 3, '250.31': 1, '674': 1, '911': 2, 'E813': 2, '226': 1, '365.44': 1, 'E818': 4, '146': 1, '955': 1, 'E894': 1, '475': 1, 'V13': 5, '880': 1, '930': 1, 'E915': 1, '381': 1, '132': 3, '353': 3, '795': 2, '893': 1, 'V01': 1, 'E853': 1, '863': 1, '540': 1, 'E828': 1, '430': 2, '800': 2, 'E865': 1, '148': 1, 'E946': 2, '822': 2, '879': 1, '848': 2, 'V86': 3, 'V03': 5, '338': 33, '989': 2, '388': 5, 'E966': 1, '111': 1, 'E922': 1, '123': 1, '757': 1, 'E901': 2, '141': 4, '268': 3, 'E892': 1, '649': 8, '702': 2, '948': 2, '223': 2, '484': 1, 'E886': 1, '838': 1, '928': 2, '236': 1, '624': 2, '837': 1, 'E987': 1, 'V07': 1, '841': 1, '622': 1, 'E912': 1, 'E955': 1, '463': 1, 'V06': 2, 'E864': 1, '217': 1, '877': 1, '391': 1, 'E825': 1, '952': 1, '669': 1, '875': 1, 'E900': 1, '215': 1, '538': 1, '980': 1, '834': 1, '448': 1, '175': 1, '49': 1, '876': 1, '230': 1, '57': 1, 'E854': 1, '942': 1, '14': 1, '750': 1, '370': 1, '671': 1, '971': 1}\n",
      "The most frequent value is:1\n"
     ]
    },
    {
     "name": "stderr",
     "output_type": "stream",
     "text": [
      "<ipython-input-21-cf3541c21502>:41: MatplotlibDeprecationWarning: Using a string of single character colors as a color sequence is deprecated. Use an explicit list instead.\n",
      "  plt.bar(range(len(num_list)), num_list,color='rgb')\n"
     ]
    },
    {
     "data": {
      "image/png": "[encoded data removed]",
      "text/plain": [
       "<Figure size 432x288 with 1 Axes>"
      ]
     },
     "metadata": {
      "needs_background": "light"
     },
     "output_type": "display_data"
    }
   ],
   "source": [
    "diag_1_values = {}\n",
    "for item in df_data['diag_1']:\n",
    "    if item in diag_1_values.keys():\n",
    "        diag_1_values[item] = diag_1_values[item] + 1\n",
    "    else:\n",
    "        diag_1_values[item] = 1\n",
    "print(diag_1_values)\n",
    "most_frequent= sorted(values.values())[0]\n",
    "print('The most frequent value is:' + str(most_frequent))  \n",
    "num_list = values.values()\n",
    "\n",
    "plt.bar(range(len(num_list)), num_list,color='rgb')\n",
    "plt.show()\n",
    "\n",
    "diag_2_values = {}\n",
    "for item in df_data['diag_2']:\n",
    "    if item in diag_2_values.keys():\n",
    "        diag_2_values[item] = diag_2_values[item] + 1\n",
    "    else:\n",
    "        diag_2_values[item] = 1\n",
    "print(diag_2_values)\n",
    "most_frequent= sorted(values.values())[0]\n",
    "print('The most frequent value is:' + str(most_frequent))  \n",
    "num_list = values.values()\n",
    "\n",
    "plt.bar(range(len(num_list)), num_list,color='rgb')\n",
    "plt.show()\n",
    "\n",
    "\n",
    "diag_3_values = {}\n",
    "for item in df_data['diag_3']:\n",
    "    if item in diag_3_values.keys():\n",
    "        diag_3_values[item] = diag_3_values[item] + 1\n",
    "    else:\n",
    "        diag_3_values[item] = 1\n",
    "print(diag_3_values)\n",
    "most_frequent= sorted(values.values())[0]\n",
    "print('The most frequent value is:' + str(most_frequent))  \n",
    "num_list = values.values()\n",
    "\n",
    "plt.bar(range(len(num_list)), num_list,color='rgb')\n",
    "plt.show()\n"
   ]
  },
  {
   "cell_type": "code",
   "execution_count": 14,
   "metadata": {},
   "outputs": [],
   "source": [
    "df_data['diag_1'].fillna('1', inplace=True)\n",
    "df_data['diag_2'].fillna('1', inplace=True)\n",
    "df_data['diag_3'].fillna('1', inplace=True)"
   ]
  },
  {
   "cell_type": "markdown",
   "metadata": {},
   "source": [
    "#### Feature: weight & payer_code & medical_specialty"
   ]
  },
  {
   "cell_type": "markdown",
   "metadata": {},
   "source": [
    "我们注意到这三个特征中的缺失值过多，都将近占了总数据的量的一半以上，对此我们认为此时在进行插值已经不再合适，更合适的操作应该是 *drop* 这些数据。"
   ]
  },
  {
   "cell_type": "code",
   "execution_count": 15,
   "metadata": {},
   "outputs": [],
   "source": [
    "df_data.drop(['weight'],inplace=True, axis=1)\n",
    "df_data.drop(['payer_code'],inplace=True, axis=1)\n",
    "df_data.drop(['medical_specialty'],inplace=True, axis=1)"
   ]
  },
  {
   "cell_type": "markdown",
   "metadata": {},
   "source": [
    "现在我们对已经完成了对缺失值的填充，我们进行检查："
   ]
  },
  {
   "cell_type": "code",
   "execution_count": 16,
   "metadata": {},
   "outputs": [
    {
     "name": "stdout",
     "output_type": "stream",
     "text": [
      "<class 'pandas.core.frame.DataFrame'>\n",
      "RangeIndex: 101766 entries, 0 to 101765\n",
      "Data columns (total 46 columns):\n",
      " #   Column                    Non-Null Count   Dtype \n",
      "---  ------                    --------------   ----- \n",
      " 0   encounter_id              101766 non-null  int64 \n",
      " 1   patient_nbr               101766 non-null  int64 \n",
      " 2   race                      101766 non-null  object\n",
      " 3   gender                    101766 non-null  object\n",
      " 4   age                       101766 non-null  object\n",
      " 5   admission_type_id         101766 non-null  int64 \n",
      " 6   discharge_disposition_id  101766 non-null  int64 \n",
      " 7   admission_source_id       101766 non-null  int64 \n",
      " 8   time_in_hospital          101766 non-null  int64 \n",
      " 9   num_lab_procedures        101766 non-null  int64 \n",
      " 10  num_procedures            101766 non-null  int64 \n",
      " 11  num_medications           101766 non-null  int64 \n",
      " 12  number_outpatient         101766 non-null  int64 \n",
      " 13  number_emergency          101766 non-null  int64 \n",
      " 14  number_inpatient          101766 non-null  int64 \n",
      " 15  diag_1                    101766 non-null  object\n",
      " 16  diag_2                    101766 non-null  object\n",
      " 17  diag_3                    101766 non-null  object\n",
      " 18  number_diagnoses          101766 non-null  int64 \n",
      " 19  max_glu_serum             101766 non-null  object\n",
      " 20  A1Cresult                 101766 non-null  object\n",
      " 21  metformin                 101766 non-null  object\n",
      " 22  repaglinide               101766 non-null  object\n",
      " 23  nateglinide               101766 non-null  object\n",
      " 24  chlorpropamide            101766 non-null  object\n",
      " 25  glimepiride               101766 non-null  object\n",
      " 26  acetohexamide             101766 non-null  object\n",
      " 27  glipizide                 101766 non-null  object\n",
      " 28  glyburide                 101766 non-null  object\n",
      " 29  tolbutamide               101766 non-null  object\n",
      " 30  pioglitazone              101766 non-null  object\n",
      " 31  rosiglitazone             101766 non-null  object\n",
      " 32  acarbose                  101766 non-null  object\n",
      " 33  miglitol                  101766 non-null  object\n",
      " 34  troglitazone              101766 non-null  object\n",
      " 35  tolazamide                101766 non-null  object\n",
      " 36  examide                   101766 non-null  object\n",
      " 37  citoglipton               101766 non-null  object\n",
      " 38  insulin                   101766 non-null  object\n",
      " 39  glyburide-metformin       101766 non-null  object\n",
      " 40  glipizide-metformin       101766 non-null  object\n",
      " 41  glimepiride-pioglitazone  101766 non-null  object\n",
      " 42  metformin-rosiglitazone   101766 non-null  object\n",
      " 43  metformin-pioglitazone    101766 non-null  object\n",
      " 44  change                    101766 non-null  object\n",
      " 45  diabetesMed               101766 non-null  object\n",
      "dtypes: int64(13), object(33)\n",
      "memory usage: 35.7+ MB\n"
     ]
    }
   ],
   "source": [
    "df_data.info()"
   ]
  },
  {
   "cell_type": "code",
   "execution_count": 19,
   "metadata": {},
   "outputs": [
    {
     "data": {
      "text/plain": [
       "encounter_id                0\n",
       "patient_nbr                 0\n",
       "race                        0\n",
       "gender                      0\n",
       "age                         0\n",
       "admission_type_id           0\n",
       "discharge_disposition_id    0\n",
       "admission_source_id         0\n",
       "time_in_hospital            0\n",
       "num_lab_procedures          0\n",
       "num_procedures              0\n",
       "num_medications             0\n",
       "number_outpatient           0\n",
       "number_emergency            0\n",
       "number_inpatient            0\n",
       "diag_1                      0\n",
       "diag_2                      0\n",
       "diag_3                      0\n",
       "number_diagnoses            0\n",
       "max_glu_serum               0\n",
       "A1Cresult                   0\n",
       "metformin                   0\n",
       "repaglinide                 0\n",
       "nateglinide                 0\n",
       "chlorpropamide              0\n",
       "glimepiride                 0\n",
       "acetohexamide               0\n",
       "glipizide                   0\n",
       "glyburide                   0\n",
       "tolbutamide                 0\n",
       "pioglitazone                0\n",
       "rosiglitazone               0\n",
       "acarbose                    0\n",
       "miglitol                    0\n",
       "troglitazone                0\n",
       "tolazamide                  0\n",
       "examide                     0\n",
       "citoglipton                 0\n",
       "insulin                     0\n",
       "glyburide-metformin         0\n",
       "glipizide-metformin         0\n",
       "glimepiride-pioglitazone    0\n",
       "metformin-rosiglitazone     0\n",
       "metformin-pioglitazone      0\n",
       "change                      0\n",
       "diabetesMed                 0\n",
       "dtype: int64"
      ]
     },
     "execution_count": 19,
     "metadata": {},
     "output_type": "execute_result"
    }
   ],
   "source": [
    "df_data.isnull().sum()"
   ]
  },
  {
   "cell_type": "markdown",
   "metadata": {},
   "source": [
    "### Feature Inspection"
   ]
  },
  {
   "cell_type": "markdown",
   "metadata": {},
   "source": [
    "我们将每一个feature的可选值都打印出来，查看是否有iregular value。"
   ]
  },
  {
   "cell_type": "code",
   "execution_count": 30,
   "metadata": {},
   "outputs": [
    {
     "name": "stdout",
     "output_type": "stream",
     "text": [
      "encounter_id\n",
      "patient_nbr\n",
      "race\n",
      "{'Caucasian': 78372, 'AfricanAmerican': 19210, 'Other': 1506, 'Asian': 641, 'Hispanic': 2037}\n",
      "****************************************\n",
      "gender\n",
      "{'Female': 54708, 'Male': 47055, 'Unknown/Invalid': 3}\n",
      "****************************************\n",
      "age\n",
      "{'[0-10)': 161, '[10-20)': 691, '[20-30)': 1657, '[30-40)': 3775, '[40-50)': 9685, '[50-60)': 17256, '[60-70)': 22483, '[70-80)': 26068, '[80-90)': 17197, '[90-100)': 2793}\n",
      "****************************************\n",
      "admission_type_id\n",
      "{6: 5291, 1: 53990, 2: 18480, 3: 18869, 4: 10, 5: 4785, 8: 320, 7: 21}\n",
      "****************************************\n",
      "discharge_disposition_id\n",
      "{25: 989, 1: 60234, 3: 13954, 6: 12902, 2: 2128, 5: 1184, 11: 1642, 7: 623, 10: 6, 4: 815, 14: 372, 18: 3691, 8: 108, 13: 399, 12: 3, 16: 11, 17: 14, 22: 1993, 23: 412, 9: 21, 20: 2, 15: 63, 24: 48, 28: 139, 19: 8, 27: 5}\n",
      "****************************************\n",
      "admission_source_id\n",
      "{1: 29565, 7: 57494, 2: 1104, 4: 3187, 5: 855, 6: 2264, 20: 161, 3: 187, 17: 6781, 8: 16, 9: 125, 14: 2, 10: 8, 22: 12, 11: 2, 25: 2, 13: 1}\n",
      "****************************************\n",
      "time_in_hospital\n",
      "{1: 14208, 3: 17756, 2: 17224, 4: 13924, 5: 9966, 13: 1210, 12: 1448, 9: 3002, 7: 5859, 10: 2342, 6: 7539, 11: 1855, 8: 4391, 14: 1042}\n",
      "****************************************\n",
      "num_lab_procedures\n",
      "{41: 2117, 59: 1624, 11: 689, 44: 2496, 51: 1925, 31: 1311, 70: 826, 73: 661, 68: 1043, 33: 1297, 47: 2106, 62: 1444, 60: 1610, 55: 1836, 49: 2066, 75: 526, 45: 2376, 29: 1340, 35: 1907, 42: 2113, 66: 1212, 36: 1962, 19: 977, 64: 1324, 25: 1048, 53: 1802, 52: 1838, 87: 91, 27: 831, 37: 2079, 46: 2189, 28: 1048, 48: 2058, 72: 749, 10: 838, 2: 1101, 65: 1238, 67: 1093, 40: 2201, 54: 1888, 58: 1708, 57: 1747, 43: 2804, 32: 1336, 83: 230, 34: 1677, 39: 2101, 69: 991, 38: 2213, 56: 1839, 22: 694, 96: 28, 78: 357, 61: 1638, 88: 102, 50: 1924, 1: 3208, 18: 730, 82: 225, 9: 933, 63: 1450, 24: 744, 71: 798, 77: 421, 81: 283, 76: 465, 90: 65, 93: 56, 3: 668, 103: 6, 13: 404, 80: 293, 85: 156, 16: 544, 15: 461, 12: 506, 30: 1354, 23: 836, 17: 743, 21: 676, 79: 334, 26: 1094, 5: 286, 95: 46, 97: 31, 84: 160, 14: 336, 74: 612, 105: 6, 86: 128, 98: 26, 20: 763, 6: 282, 94: 45, 8: 366, 102: 8, 100: 13, 7: 323, 89: 73, 91: 61, 92: 48, 4: 378, 101: 13, 99: 9, 114: 2, 113: 3, 111: 3, 129: 1, 107: 1, 108: 4, 106: 5, 104: 3, 109: 4, 120: 1, 132: 1, 121: 1, 126: 1, 118: 1}\n",
      "****************************************\n",
      "num_procedures\n",
      "{0: 46652, 5: 3078, 1: 20742, 6: 4954, 2: 12717, 3: 9443, 4: 4180}\n",
      "****************************************\n",
      "num_medications\n",
      "{1: 262, 18: 4523, 13: 6086, 16: 5430, 8: 4353, 21: 3230, 12: 6004, 28: 1233, 17: 4919, 11: 5795, 15: 5792, 31: 712, 2: 470, 23: 2426, 19: 4078, 7: 3484, 20: 3691, 14: 5707, 10: 5346, 22: 2868, 9: 4913, 27: 1432, 25: 1888, 4: 1417, 32: 623, 6: 2699, 30: 849, 26: 1608, 24: 2109, 33: 504, 5: 2017, 39: 209, 3: 900, 29: 1000, 61: 14, 40: 179, 46: 92, 41: 146, 36: 287, 34: 453, 35: 388, 50: 55, 43: 127, 42: 128, 37: 293, 51: 43, 38: 228, 45: 88, 54: 33, 52: 54, 49: 61, 62: 15, 55: 32, 47: 74, 44: 100, 53: 40, 48: 60, 57: 26, 59: 20, 56: 37, 60: 23, 63: 14, 58: 25, 70: 2, 67: 7, 64: 8, 69: 5, 65: 12, 68: 7, 66: 5, 81: 1, 79: 1, 75: 2, 72: 3, 74: 1}\n",
      "****************************************\n",
      "number_outpatient\n",
      "{0: 85027, 2: 3594, 1: 8547, 5: 533, 7: 155, 9: 83, 3: 2042, 8: 98, 4: 1099, 12: 30, 11: 42, 6: 303, 20: 7, 15: 20, 10: 57, 13: 31, 14: 28, 16: 15, 21: 7, 35: 2, 17: 8, 29: 2, 36: 2, 18: 5, 19: 3, 27: 3, 22: 5, 24: 3, 42: 1, 39: 1, 34: 1, 26: 2, 33: 2, 25: 2, 23: 2, 28: 1, 37: 1, 38: 1, 40: 1}\n",
      "****************************************\n",
      "number_emergency\n",
      "{0: 90383, 1: 7677, 2: 2042, 4: 374, 3: 725, 9: 33, 5: 192, 7: 73, 6: 94, 8: 50, 22: 6, 25: 2, 10: 34, 13: 12, 42: 1, 16: 5, 11: 23, 28: 1, 15: 3, 14: 3, 18: 5, 12: 10, 21: 2, 20: 4, 19: 4, 46: 1, 76: 1, 37: 1, 64: 1, 63: 1, 54: 1, 24: 1, 29: 1}\n",
      "****************************************\n",
      "number_inpatient\n",
      "{0: 67630, 1: 19521, 2: 7566, 3: 3411, 6: 480, 5: 812, 4: 1622, 7: 268, 8: 151, 9: 111, 15: 9, 10: 61, 11: 49, 14: 10, 12: 34, 13: 20, 17: 1, 16: 6, 21: 1, 18: 1, 19: 2}\n",
      "****************************************\n",
      "diag_1\n",
      "{'250.83': 95, '276': 1889, '648': 285, '8': 515, '197': 320, '414': 6581, '428': 6862, '398': 128, '434': 2028, '250.7': 871, '157': 114, '518': 1115, '999': 29, '410': 3614, '682': 2042, '402': 449, '737': 8, '572': 239, 'V57': 1207, '189': 126, '786': 4016, '427': 2766, '996': 1967, '277': 34, '584': 1520, '462': 11, '473': 23, '411': 254, '174': 147, '486': 3508, '998': 784, '511': 270, '432': 92, '626': 79, '295': 447, '196': 25, '250.6': 1183, '618': 161, '182': 108, '845': 10, '423': 72, '808': 136, '250.4': 267, '722': 771, '403': 513, '250.11': 625, '784': 151, '707': 257, '440': 840, '151': 62, '715': 2151, '997': 424, '198': 242, '564': 147, '812': 235, '38': 1688, '590': 335, '556': 46, '578': 663, '250.32': 17, '433': 789, 'V58': 228, '569': 286, '185': 173, '536': 150, '255': 24, '250.13': 851, '599': 1595, '558': 335, '574': 965, '491': 2275, '560': 876, '244': 11, '250.03': 201, '577': 1057, '730': 230, '188': 112, '824': 316, '250.8': 1680, '332': 55, '562': 989, '291': 91, '296': 896, '510': 33, '401': 346, '263': 12, '438': 85, '70': 46, '250.02': 675, '493': 1056, '642': 64, '625': 64, '571': 277, '738': 56, '593': 101, '250.42': 90, '807': 83, '456': 24, '446': 23, '575': 215, '250.41': 91, '820': 1082, '515': 126, '780': 2019, '250.22': 156, '995': 78, '235': 27, '250.82': 412, '721': 178, '787': 267, '162': 425, '724': 440, '282': 68, '514': 43, 'V55': 71, '281': 20, '250.33': 19, '530': 531, '466': 236, '435': 1016, '250.12': 417, 'V53': 44, '789': 561, '566': 85, '822': 50, '191': 45, '557': 196, '733': 367, '455': 94, '711': 66, '482': 339, '202': 104, '280': 319, '553': 141, '225': 46, '154': 94, '441': 129, '250.81': 186, '349': 35, '1': 21, '962': 57, '592': 350, '507': 610, '386': 145, '156': 18, '200': 16, '728': 127, '348': 152, '459': 97, '426': 288, '388': 5, '607': 21, '337': 10, '82': 7, '531': 276, '596': 48, '288': 92, '656': 21, '573': 41, '492': 32, '220': 46, '516': 34, '210': 7, '922': 41, '286': 45, '885': 1, '958': 20, '661': 25, '969': 58, '250.93': 17, '227': 46, '112': 73, '404': 262, '823': 127, '532': 219, '416': 68, '346': 82, '535': 450, '453': 546, '250': 235, '595': 95, '211': 103, '303': 69, '250.01': 61, '852': 110, '218': 127, '782': 84, '540': 198, '457': 12, '285': 365, '431': 172, '340': 45, '550': 53, '54': 12, '351': 30, '601': 16, '723': 77, '555': 52, '153': 311, '443': 110, '380': 20, '204': 23, '424': 183, '241': 58, '358': 14, '694': 6, '331': 192, '345': 113, '681': 112, '447': 63, '290': 86, '158': 12, '579': 7, '436': 175, '335': 9, '309': 37, '654': 92, '805': 188, '799': 68, '292': 107, '183': 31, '78': 9, '851': 35, '458': 426, '586': 21, '311': 57, '892': 11, '305': 25, '293': 56, '415': 449, '591': 19, '794': 26, '803': 3, '79': 86, '655': 5, '429': 37, '278': 379, '658': 26, '598': 5, '729': 106, '585': 75, '444': 156, '604': 37, '727': 48, '214': 6, '552': 234, '284': 61, '680': 14, '708': 8, '41': 8, '644': 27, '481': 70, '821': 145, '413': 117, '437': 90, '968': 8, '756': 15, '632': 3, '359': 8, '275': 53, '512': 46, '781': 109, '420': 64, '368': 12, '522': 26, '294': 116, '825': 23, '135': 27, '304': 32, '320': 7, '250.31': 15, '669': 3, '868': 3, '496': 80, '250.43': 25, '826': 3, '567': 57, '3': 13, '203': 35, '53': 55, '251': 15, '565': 12, '161': 12, '495': 5, '49': 5, '250.1': 313, '297': 14, '663': 7, '576': 97, '355': 17, '850': 56, '287': 86, '250.2': 114, '611': 34, '840': 14, '350': 11, '726': 91, '537': 111, '620': 47, '180': 6, '366': 1, '783': 29, '11': 10, '751': 5, '716': 55, '250.3': 20, '199': 14, '464': 10, '580': 2, '836': 6, '664': 20, '283': 28, '813': 83, '966': 12, '289': 19, '965': 54, '184': 10, '480': 18, '608': 68, '333': 35, '972': 17, '212': 8, '117': 9, '788': 39, '924': 55, '959': 44, '621': 22, '238': 62, '785': 101, '714': 40, '942': 5, '250.23': 29, '710': 25, '47': 26, '933': 14, '508': 5, '478': 32, '844': 29, '7': 2, '736': 14, '233': 29, '42': 45, '250.5': 8, '397': 5, '395': 5, '201': 10, '421': 41, '253': 50, '250.92': 52, '600': 207, '494': 24, '977': 13, '39': 2, '659': 32, '312': 18, '614': 21, '647': 5, '652': 13, '646': 10, '274': 96, '861': 13, '425': 86, '527': 26, '451': 40, '485': 42, '217': 1, '250.53': 4, '442': 34, '970': 8, '193': 28, '160': 1, '322': 2, '581': 19, '475': 14, '623': 4, '374': 3, '582': 2, '568': 32, '465': 48, '801': 33, '237': 7, '376': 12, '150': 27, '461': 20, '913': 2, '226': 19, '617': 19, '987': 3, '641': 9, '298': 64, '790': 144, '336': 3, '362': 8, '228': 5, '513': 16, '383': 9, '746': 7, '353': 6, '911': 1, '506': 3, '873': 18, '155': 54, '860': 37, '534': 24, '802': 30, '141': 6, 'V45': 5, '396': 30, '310': 12, '341': 7, '242': 22, '719': 55, '239': 33, '533': 22, '616': 24, '519': 46, '301': 4, 'V66': 2, '5': 9, '989': 11, '230': 9, '385': 2, '300': 90, '853': 18, '871': 2, '570': 6, '848': 2, '463': 5, '9': 46, '934': 6, '250.21': 12, '236': 3, '361': 5, '594': 14, '501': 3, '810': 10, '643': 5, '430': 32, '528': 20, '205': 27, '791': 1, '983': 5, '992': 9, '490': 90, '172': 4, '171': 12, '622': 5, '306': 10, '863': 4, '864': 8, '474': 4, '660': 12, '759': 5, '356': 5, '634': 2, '967': 17, '551': 8, '695': 12, '187': 2, '732': 2, '747': 7, '323': 10, '308': 3, '370': 3, '252': 23, '152': 15, '846': 4, '164': 3, '365': 1, '718': 17, '48': 2, '266': 3, '720': 4, '94': 7, '344': 6, '797': 3, '170': 2, '878': 2, '904': 2, 'V56': 16, '882': 10, '843': 12, '709': 8, '973': 2, '454': 9, '686': 8, '939': 1, '487': 102, '229': 2, '991': 7, '483': 5, '357': 20, '692': 5, '796': 6, '693': 23, '935': 13, '936': 3, '800': 6, '920': 22, 'V26': 2, '261': 4, '307': 25, '262': 3, '250.9': 7, '831': 8, '145': 1, '223': 7, 'V71': 9, '839': 1, '685': 6, 'V54': 45, '35': 10, '34': 7, '179': 4, '964': 8, '136': 5, '324': 6, '389': 1, '815': 7, '334': 2, '143': 1, '526': 7, '588': 9, '192': 4, 'V67': 1, '394': 11, '917': 3, '88': 9, '219': 1, '325': 1, '792': 5, '717': 7, '994': 1, '990': 2, '793': 4, '207': 1, '637': 1, '195': 9, '373': 1, '847': 12, '827': 1, '31': 3, '891': 10, '814': 5, 'V60': 1, '703': 2, '865': 8, '352': 2, '627': 18, '378': 14, '342': 8, '886': 4, '369': 2, '745': 7, '705': 10, '816': 9, '541': 9, '986': 3, '610': 2, '633': 4, '640': 1, '753': 5, '173': 3, '835': 5, '379': 5, '445': 7, '272': 6, '382': 4, '945': 12, '619': 5, '881': 5, '250.52': 4, '866': 7, '405': 3, '916': 4, '215': 5, '893': 5, '75': 2, '671': 1, '928': 3, '906': 1, '897': 2, '725': 12, '867': 14, '115': 2, '890': 6, '734': 4, '521': 11, '674': 4, '470': 4, '834': 1, '146': 4, '696': 6, '524': 4, '980': 2, '691': 1, '384': 2, '142': 4, '879': 3, '250.51': 1, '246': 2, '208': 5, '448': 2, '955': 1, '653': 2, '149': 2, '245': 4, '735': 2, '883': 6, '854': 5, '952': 9, '838': 1, '194': 2, 'V43': 1, '163': 9, '216': 1, '147': 2, '354': 9, '27': 2, '477': 1, '318': 1, '880': 2, '921': 3, '377': 3, '471': 1, '683': 2, '175': 5, '602': 3, '250.91': 4, '982': 1, '706': 3, '375': 1, '417': 2, '131': 2, '347': 1, '870': 1, '148': 1, '862': 3, '61': 1, '817': 1, '914': 2, '360': 2, '684': 1, '314': 1, 'V63': 8, '36': 2, '57': 1, '240': 3, '915': 1, '971': 3, '795': 3, '988': 1, '452': 5, '963': 3, '327': 24, '731': 4, '842': 1, 'V25': 1, '645': 2, '665': 3, '110': 2, '944': 2, '603': 3, '923': 4, '412': 1, '363': 1, '957': 1, '976': 1, '698': 1, '299': 1, '700': 1, '273': 6, '974': 1, '97': 1, '529': 4, '66': 6, '98': 1, '605': 1, '941': 2, '52': 2, '806': 6, '84': 1, '271': 3, '837': 1, '657': 2, '895': 1, '338': 20, '523': 1, '542': 2, '114': 1, '543': 1, '372': 1, 'V70': 1, 'E909': 1, '583': 5, 'V07': 1, '422': 2, '615': 2, '279': 2, '500': 2, '903': 1, '919': 1, '875': 2, '381': 1, '804': 1, '704': 1, '23': 2, '58': 2, '649': 1, '832': 1, '133': 1, '975': 2, '833': 1, '391': 1, '690': 1, '10': 1, 'V51': 1}\n",
      "****************************************\n",
      "diag_2\n",
      "{'1': 358, '250.01': 1523, '250': 6071, '250.43': 37, '157': 85, '411': 2566, '492': 222, '427': 5036, '198': 320, '403': 2823, '288': 75, '998': 571, '507': 195, '174': 27, '425': 1434, '456': 76, '401': 3736, '715': 122, '496': 3305, '428': 6662, '585': 1871, '250.02': 2074, '410': 549, '999': 34, '996': 454, '135': 115, '244': 151, '41': 379, '571': 414, '276': 6752, '997': 381, '599': 3288, '424': 1071, '491': 1545, '553': 77, '707': 1999, '286': 117, '440': 406, '493': 881, '242': 94, '70': 273, 'V45': 408, '250.03': 233, '357': 78, '511': 519, '196': 213, '396': 179, '197': 410, '414': 2650, '250.52': 56, '577': 401, '535': 193, '413': 1042, '285': 1520, '53': 32, '780': 1491, '518': 1355, '150': 35, '566': 21, '250.6': 895, '867': 10, '486': 1379, 'V15': 128, '8': 199, '788': 389, '340': 119, '574': 346, '581': 80, '228': 2, '530': 290, '250.82': 177, '786': 644, '294': 157, '567': 92, '785': 516, '512': 46, '305': 702, '729': 92, '250.51': 66, '280': 606, '648': 338, '560': 394, '618': 35, '444': 106, '38': 475, 'V10': 101, '578': 350, '277': 61, '781': 123, '250.42': 103, '278': 270, '426': 301, '584': 1649, '462': 16, '402': 335, '153': 107, '272': 420, '733': 186, '34': 10, '881': 11, '203': 90, '250.41': 228, '250.13': 104, '293': 76, '245': 5, '250.12': 96, '558': 108, '787': 208, '342': 223, '573': 46, '626': 27, '303': 287, '250.53': 25, '458': 145, '710': 165, '415': 107, 'V42': 264, '284': 168, '569': 175, '759': 6, '682': 1433, '112': 201, '292': 97, '435': 93, '290': 49, '250.93': 22, '642': 27, '536': 198, '398': 39, '319': 18, '711': 43, 'E878': 113, '446': 32, '255': 69, 'V44': 11, '250.7': 130, '784': 185, '300': 147, '562': 142, '162': 401, '287': 311, '447': 26, '789': 343, '790': 225, '591': 233, '200': 19, '154': 45, '304': 171, '117': 10, '847': 6, '852': 16, '250.83': 39, '250.11': 79, '816': 12, '575': 64, '416': 96, '412': 102, '441': 41, '515': 162, '372': 5, '482': 106, '382': 13, 'V65': 23, '572': 83, '283': 20, '78': 2, '250.81': 94, '576': 84, '432': 22, '595': 67, '295': 408, 'V12': 67, '204': 117, '466': 107, '721': 62, '434': 187, '590': 134, '271': 1, '813': 23, '368': 22, '227': 6, '783': 24, '250.5': 65, '258': 4, '253': 42, '309': 51, '250.91': 8, '519': 30, '333': 16, '459': 53, '250.92': 201, '250.4': 170, '179': 2, '420': 25, '345': 43, '433': 150, '661': 2, '537': 30, '205': 58, '722': 139, '405': 3, '437': 69, '714': 39, '211': 54, 'E812': 8, '263': 171, '202': 182, '397': 68, '250.23': 3, 'E932': 38, '201': 20, '301': 64, '723': 58, '614': 20, '568': 69, '861': 9, 'V57': 9, '724': 144, '189': 48, '297': 6, '453': 346, 'E888': 109, '730': 246, '354': 10, '451': 32, '738': 25, 'E939': 13, '805': 79, 'V43': 130, '155': 33, '910': 6, '218': 44, '358': 29, '220': 8, 'E937': 5, '583': 21, '958': 15, '794': 60, '564': 80, '436': 25, '250.22': 38, '620': 29, '621': 8, '331': 108, '617': 20, '596': 60, '314': 12, '378': 13, '250.8': 205, '625': 47, '478': 30, '731': 80, '172': 8, '404': 203, '681': 39, '470': 3, '279': 11, '281': 18, '531': 46, '443': 76, '799': 315, '337': 52, '311': 82, '719': 90, 'E944': 11, '423': 16, 'E870': 3, '465': 55, 'E849': 54, '782': 74, '481': 39, '480': 5, 'V23': 3, '199': 13, '79': 29, '438': 263, '348': 140, '42': 85, 'E950': 10, '473': 39, '627': 12, '726': 27, '54': 10, '490': 53, '317': 10, '332': 43, '508': 6, '369': 7, '600': 38, '349': 35, '485': 10, '208': 8, '922': 8, '431': 16, '296': 165, 'E934': 10, '753': 18, 'E935': 24, '386': 22, '728': 130, '607': 14, 'E915': 1, '344': 67, '716': 21, '289': 41, '191': 14, '873': 41, '850': 30, '611': 23, '377': 3, '352': 2, '616': 23, 'V17': 9, '136': 6, '455': 32, '933': 3, 'E885': 112, '860': 20, '513': 5, '603': 3, '484': 4, '223': 1, 'V72': 13, '291': 74, '151': 24, 'V58': 157, '550': 15, '510': 11, '891': 6, '185': 27, '592': 77, '791': 6, '138': 22, '598': 5, '336': 6, '362': 30, '217': 3, '825': 9, '298': 20, '821': 20, 'E880': 19, '343': 6, '429': 32, 'E879': 20, '579': 9, '225': 5, '250.9': 7, 'V49': 39, '696': 14, '233': 12, '658': 1, '969': 6, '275': 35, '250.1': 17, '601': 22, '704': 1, '808': 46, 'E890': 1, 'V18': 8, '920': 24, '380': 8, '570': 14, 'E817': 1, '359': 14, '812': 39, '274': 26, 'V14': 3, '324': 9, '758': 7, 'V66': 5, '911': 2, 'E931': 3, 'E924': 3, '593': 122, '792': 12, '727': 26, 'V46': 11, '394': 21, '532': 26, 'V64': 27, '557': 38, '864': 6, '718': 12, 'E942': 34, '807': 46, '604': 6, '924': 24, '820': 55, '580': 1, '273': 8, '241': 11, '282': 50, '824': 19, 'V61': 2, '646': 7, '701': 7, '736': 18, '565': 9, '383': 3, '250.2': 12, 'E947': 21, '452': 7, '872': 2, '905': 12, 'E930': 8, '921': 4, '131': 3, '448': 3, '389': 6, '421': 21, '214': 8, '705': 8, '494': 12, '752': 1, '623': 5, '9': 7, '299': 8, '959': 12, '365': 8, '967': 2, 'E858': 4, '40': 12, '691': 3, '909': 5, '5': 1, '814': 2, '746': 16, '250.31': 1, '556': 18, '680': 23, '745': 15, '351': 3, '306': 4, '110': 8, '695': 2, '552': 49, '346': 22, '918': 2, '882': 7, '947': 1, '520': 1, '188': 10, '31': 4, '356': 13, '737': 11, 'V08': 7, '322': 7, '182': 1, '517': 11, '974': 1, 'E929': 1, 'V53': 2, '912': 1, '252': 21, '608': 10, '516': 29, 'E933': 5, '94': 26, '702': 1, '923': 9, '594': 7, '647': 5, '111': 1, '934': 6, '430': 6, '487': 18, '709': 9, '796': 8, '156': 16, '977': 1, '915': 1, '756': 13, '840': 15, '341': 2, '259': 3, '693': 11, '725': 4, 'V62': 66, '528': 7, '683': 1, '953': 1, '457': 7, '501': 4, 'E900': 1, 'V09': 10, '522': 4, '919': 3, '461': 10, '506': 1, '193': 4, '483': 2, 'E936': 7, '717': 11, '802': 25, '335': 11, 'V54': 78, '320': 4, '945': 3, '906': 2, '239': 3, '454': 6, '826': 4, '823': 14, 'E941': 2, '226': 2, '795': 2, '684': 6, '844': 5, '250.33': 5, '308': 3, '615': 1, '588': 5, '712': 6, '663': 2, '706': 10, '833': 1, '741': 9, '713': 6, '533': 9, 'E884': 21, '586': 10, '555': 22, '755': 2, 'E928': 15, '742': 3, '869': 2, '962': 1, 'V11': 2, '543': 2, '373': 3, '870': 3, '913': 3, '152': 13, '810': 4, '965': 3, '907': 5, '908': 1, '995': 114, '845': 8, '474': 2, '442': 16, '751': 3, '323': 5, '472': 2, '464': 2, '686': 6, '250.32': 4, '540': 12, '251': 10, '811': 1, '652': 4, '659': 3, '851': 5, '422': 4, '815': 3, '307': 13, '325': 1, '463': 3, '992': 2, '692': 5, '521': 5, '917': 1, 'E965': 1, '524': 8, '916': 2, 'E813': 1, '173': 1, '238': 17, '137': 1, '514': 12, '312': 24, '837': 3, '355': 4, '980': 2, '622': 2, '475': 1, '500': 5, '754': 1, '261': 16, '801': 4, '868': 5, '968': 1, '381': 2, '11': 3, '250.21': 4, '694': 6, '610': 2, '734': 1, 'E814': 2, '310': 5, '130': 1, '246': 4, '892': 7, '846': 1, '634': 2, '75': 2, 'E927': 6, 'E905': 3, '183': 14, '379': 3, 'E917': 6, '163': 1, 'E868': 1, '495': 5, '747': 5, '989': 4, 'E854': 1, '240': 2, '832': 1, '605': 1, '602': 2, '644': 5, 'V16': 2, '35': 1, 'V70': 7, '376': 3, '266': 8, 'E918': 1, '619': 7, '477': 3, '656': 3, '46': 1, '883': 8, '171': 2, 'V13': 1, '698': 5, '842': 3, 'E850': 1, '800': 1, '269': 2, '664': 4, 'E887': 3, '952': 2, '164': 1, 'E881': 4, '527': 4, '685': 6, '366': 2, '836': 8, '27': 3, 'V63': 30, '865': 5, '793': 5, '232': 1, '990': 1, '52': 1, '831': 4, '327': 36, '542': 3, '806': 4, '972': 3, '862': 3, 'E829': 1, 'E919': 1, '944': 1, 'E916': 2, '963': 1, '316': 1, '645': 3, '347': 1, 'V85': 169, '374': 1, 'V02': 4, '748': 1, '256': 1, '186': 1, '866': 2, '975': 1, '96': 1, '395': 3, '262': 13, 'E819': 2, '654': 2, '994': 1, '318': 2, 'E826': 1, '879': 1, '674': 1, '641': 2, '822': 4, '145': 1, '797': 2, '353': 1, 'E938': 1, 'E816': 3, '948': 1, '987': 1, '99': 1, '192': 1, '250.3': 2, 'E906': 3, '534': 2, '115': 1, 'E818': 1, 'E980': 1, '360': 4, '338': 15, '529': 1, '871': 1, '750': 8, '212': 1, '302': 1, '955': 1, '141': 2, '88': 1, 'V25': 1, '215': 2, '350': 1, 'V50': 1, 'V03': 1, 'E853': 2, 'E968': 1, 'E882': 1, '140': 1, '703': 1, '991': 3, '893': 1, 'E821': 2, '235': 1, 'V69': 1, '670': 1, '195': 1, 'V55': 2, '388': 1, '268': 1, '894': 1, '114': 1, '260': 10, '853': 2, '7': 1, '880': 1, 'V86': 2, '180': 1, 'E945': 1, '523': 1, '863': 1, '649': 2, '270': 1, '665': 1, '460': 1, '942': 1, '364': 1, '66': 1, 'E883': 1, '123': 1, '884': 1, 'V60': 1, '843': 1, '927': 1}\n",
      "****************************************\n",
      "diag_3\n",
      "{'1': 1423, '255': 69, 'V27': 37, '403': 2357, '250': 11555, 'V45': 1389, '38': 162, '486': 568, '996': 281, '197': 385, '250.6': 1080, '427': 3955, '627': 17, '414': 3664, '416': 170, '714': 83, '428': 4577, '582': 12, 'V43': 211, '250.01': 915, '263': 252, '250.42': 130, '276': 5175, '482': 56, '401': 8289, '250.41': 199, '585': 1992, '781': 133, '278': 680, '998': 316, '568': 62, '682': 887, '618': 30, '250.02': 1369, '305': 924, '707': 1360, '496': 2605, '599': 1941, '715': 214, '424': 1063, '518': 854, '553': 141, '794': 110, '411': 399, 'V42': 243, '531': 50, '511': 380, '490': 56, '562': 189, '250.8': 316, '250.7': 141, '250.52': 74, '784': 236, '491': 574, '581': 97, '420': 10, '8': 190, '724': 148, '730': 186, '789': 290, '131': 6, '250.82': 113, '999': 26, '41': 727, '493': 694, '250.03': 134, '753': 15, '786': 584, '529': 3, 'E888': 131, '425': 1136, '595': 51, '303': 207, '560': 306, '711': 25, '492': 169, '332': 88, '296': 214, '438': 318, '362': 66, '250.4': 429, '654': 13, '244': 540, 'V70': 2, '737': 20, '625': 49, '681': 75, '250.51': 128, '404': 124, 'V10': 239, '810': 6, '280': 398, '440': 221, '785': 388, '588': 26, '569': 107, '272': 1969, '997': 298, '250.43': 59, '918': 2, '584': 963, '54': 14, '788': 353, '426': 272, '722': 121, '250.92': 149, '196': 105, '461': 21, '535': 285, '787': 358, '891': 5, '284': 138, '458': 285, '648': 107, '780': 1334, '182': 5, '285': 1200, '593': 339, '413': 329, '664': 14, '564': 127, '201': 12, '356': 26, 'V15': 334, '292': 64, '782': 119, '473': 57, '455': 81, 'E932': 71, '357': 394, '348': 87, '294': 315, '250.23': 2, '459': 104, 'E878': 164, '437': 87, '733': 201, '507': 84, '525': 3, '250.53': 35, '397': 150, '572': 51, '805': 27, '453': 211, '331': 185, '736': 22, '402': 375, '591': 140, '576': 45, '465': 71, '533': 23, '703': 3, '349': 16, '315': 1, '658': 7, '608': 13, '578': 250, '716': 77, '382': 14, '300': 241, '282': 41, '571': 310, '536': 267, '596': 88, '287': 388, '644': 6, 'V11': 2, '558': 108, 'E885': 117, '162': 181, '198': 238, '218': 53, '412': 346, '396': 229, 'V14': 12, '570': 13, '433': 143, 'E934': 22, '882': 6, '288': 113, '577': 149, '443': 205, '729': 147, '836': 9, '295': 305, '799': 312, '281': 36, '304': 159, '153': 55, '410': 209, '616': 28, '250.83': 20, '601': 20, '291': 43, '75': 1, '512': 37, '660': 6, '250.5': 111, '598': 14, '337': 97, '574': 136, '653': 4, 'V58': 501, '311': 217, '415': 33, '386': 20, '602': 1, '790': 194, '112': 206, '873': 38, '620': 29, '436': 8, '70': 281, '155': 12, '138': 21, '663': 14, '530': 625, '710': 109, '42': 23, '342': 164, '250.91': 6, 'E884': 24, '515': 155, '307': 16, '704': 8, '728': 107, '731': 126, '583': 92, '238': 36, '441': 54, '293': 81, '573': 52, '532': 28, '290': 81, '594': 9, '319': 27, '250.13': 12, '250.12': 39, '519': 33, '346': 34, '380': 10, '135': 64, '642': 33, '698': 10, '924': 40, '905': 16, 'E933': 16, '555': 29, '309': 45, 'E879': 59, '286': 125, '565': 4, '752': 5, '580': 9, '446': 28, '444': 44, '344': 59, '252': 24, '35': 4, '813': 19, '394': 17, '301': 89, '575': 43, '258': 3, 'V17': 22, '802': 20, '435': 58, '746': 9, 'V12': 204, '709': 16, '881': 6, 'E935': 30, '139': 2, '250.81': 50, '718': 9, '365': 19, '202': 122, '334': 5, '185': 51, '398': 28, 'V44': 27, '517': 42, 'E849': 219, '614': 31, '466': 132, '626': 30, '250.9': 9, '368': 33, '605': 6, '883': 10, '289': 39, '478': 32, '617': 25, '429': 66, '442': 24, 'V25': 2, '866': 3, '610': 8, '557': 13, '959': 22, 'E942': 52, '94': 21, '920': 24, '345': 39, '313': 4, '379': 6, '79': 46, '516': 13, '586': 15, '821': 6, '600': 79, '242': 77, '373': 3, '592': 65, 'V64': 45, '487': 17, '253': 47, '706': 2, 'E947': 38, '117': 7, '340': 60, 'E950': 17, '656': 11, 'E949': 1, '590': 47, 'V09': 86, '250.22': 15, '934': 6, '694': 11, '203': 67, '250.93': 14, '995': 299, '726': 34, '923': 17, '958': 10, '275': 84, 'E929': 7, '211': 100, 'V18': 15, 'V66': 18, '199': 45, '665': 5, '53': 25, '279': 10, '522': 12, '791': 14, '890': 1, '456': 38, 'E938': 6, 'E816': 9, '122': 1, '721': 53, 'V65': 24, '136': 2, '480': 2, '423': 25, 'E920': 3, '793': 8, '647': 12, '537': 31, '351': 11, '845': 9, '336': 5, '274': 68, '719': 96, '945': 8, '434': 56, '494': 14, '227': 6, '157': 38, '208': 10, '174': 43, 'V57': 7, '812': 32, '734': 2, '150': 13, 'V23': 4, '447': 39, '692': 15, '228': 7, 'V16': 7, '756': 6, '405': 9, 'E928': 10, '823': 10, '552': 15, '528': 4, '389': 13, '240': 5, '454': 13, '792': 16, '366': 6, 'E939': 20, '907': 9, '270': 7, '310': 12, '266': 17, '387': 1, 'E931': 12, '783': 57, '245': 3, '607': 10, '355': 18, 'E930': 15, '705': 8, '372': 8, '369': 25, '611': 17, '283': 12, 'V46': 60, '110': 20, '867': 10, 'E956': 3, '251': 7, '250.2': 8, '820': 18, '712': 7, '695': 9, '567': 23, '343': 19, '723': 31, 'V08': 19, '273': 12, '623': 5, '807': 36, '451': 9, '495': 4, '701': 6, '34': 6, 'V53': 7, '314': 3, '472': 5, 'E945': 1, '11': 2, '189': 27, '534': 3, '354': 9, '333': 31, 'V54': 58, '277': 38, '659': 27, '708': 7, '452': 4, '655': 3, '816': 3, '670': 2, '621': 13, '246': 6, '953': 2, '865': 4, 'E817': 2, '646': 18, '151': 10, '378': 12, '78': 3, '298': 38, '840': 13, '641': 2, '521': 13, '745': 19, '619': 6, '912': 3, '506': 5, 'E904': 1, '259': 4, 'E870': 7, 'E980': 3, '383': 7, '204': 66, '696': 23, '566': 5, '727': 31, '47': 1, 'E943': 3, '358': 17, '191': 5, '965': 7, '921': 4, '432': 10, '27': 1, 'E861': 1, '758': 6, '477': 16, '524': 1, '751': 5, '652': 7, '556': 16, '188': 15, '825': 7, '919': 3, '732': 1, '908': 5, '951': 1, '962': 8, '685': 3, 'E850': 5, 'E944': 20, '527': 6, '341': 2, '693': 16, '250.1': 20, 'V49': 54, '860': 6, '323': 4, 'V55': 8, '579': 9, '508': 5, '969': 10, '205': 19, '462': 17, 'E880': 26, '680': 12, '697': 1, '826': 4, '200': 9, '457': 22, '717': 7, '738': 23, '742': 5, '735': 2, '235': 4, '308': 1, '725': 16, '241': 10, '824': 21, '464': 5, '260': 9, '917': 6, '239': 6, '661': 4, '892': 9, '261': 15, 'E883': 1, '943': 2, '744': 1, 'E936': 7, '796': 13, '318': 9, '967': 2, '350': 2, '854': 2, 'E905': 3, '9': 5, '741': 9, 'E941': 5, '170': 4, '643': 2, '317': 11, '759': 3, '909': 6, 'V22': 1, '831': 4, '713': 14, '180': 4, '801': 4, '360': 2, '359': 7, '501': 13, '335': 4, '250.11': 18, '306': 5, '811': 1, '690': 2, 'V02': 4, '271': 2, '214': 3, '847': 5, '543': 4, 'V63': 13, '906': 4, '842': 3, '686': 11, '445': 3, '808': 19, '861': 8, 'E852': 2, '220': 5, 'E887': 6, 'E858': 4, '915': 4, '970': 1, '256': 5, '747': 9, '395': 1, '243': 1, '815': 5, '481': 5, '5': 3, 'E927': 7, '297': 6, '299': 4, '851': 3, '864': 2, '922': 16, '384': 2, 'E876': 1, '225': 7, '158': 1, 'E937': 6, '871': 1, '88': 2, '966': 3, 'E917': 4, 'E812': 21, 'V62': 29, 'E924': 2, '604': 4, '233': 5, 'E916': 3, '377': 2, '797': 2, 'V72': 8, '172': 5, '7': 2, '421': 6, '852': 3, 'E819': 8, '972': 1, '916': 11, '956': 2, '3': 2, 'E965': 1, '173': 2, '193': 1, '154': 13, '347': 4, '862': 3, '250.3': 2, '987': 1, '470': 3, '262': 8, 'E855': 2, '161': 3, '115': 1, '179': 7, '910': 4, '312': 14, '17': 1, '460': 2, '265': 1, '66': 1, '163': 5, 'V60': 4, '870': 2, 'E906': 5, '514': 13, '944': 1, '844': 3, '417': 3, '152': 3, '183': 14, '991': 7, '216': 2, '385': 1, '164': 1, '935': 1, '510': 5, '814': 2, '485': 1, '850': 4, '250.21': 4, 'E919': 2, '872': 1, '195': 1, '431': 7, '597': 2, '933': 3, '171': 4, '884': 1, '156': 4, '868': 2, '483': 2, 'E815': 1, '542': 1, 'V61': 5, '853': 1, '374': 2, 'E881': 9, 'E882': 1, 'E822': 1, '192': 2, '754': 1, '327': 80, '523': 4, '500': 4, 'V85': 96, '992': 1, '657': 1, '684': 1, '603': 1, 'E826': 1, '550': 4, '913': 5, '376': 2, '755': 1, '361': 1, '186': 1, '720': 3, '250.31': 1, '674': 1, '911': 2, 'E813': 2, '226': 1, '365.44': 1, 'E818': 4, '146': 1, '955': 1, 'E894': 1, '475': 1, 'V13': 5, '880': 1, '930': 1, 'E915': 1, '381': 1, '132': 3, '353': 3, '795': 2, '893': 1, 'V01': 1, 'E853': 1, '863': 1, '540': 1, 'E828': 1, '430': 2, '800': 2, 'E865': 1, '148': 1, 'E946': 2, '822': 2, '879': 1, '848': 2, 'V86': 3, 'V03': 5, '338': 33, '989': 2, '388': 5, 'E966': 1, '111': 1, 'E922': 1, '123': 1, '757': 1, 'E901': 2, '141': 4, '268': 3, 'E892': 1, '649': 8, '702': 2, '948': 2, '223': 2, '484': 1, 'E886': 1, '838': 1, '928': 2, '236': 1, '624': 2, '837': 1, 'E987': 1, 'V07': 1, '841': 1, '622': 1, 'E912': 1, 'E955': 1, '463': 1, 'V06': 2, 'E864': 1, '217': 1, '877': 1, '391': 1, 'E825': 1, '952': 1, '669': 1, '875': 1, 'E900': 1, '215': 1, '538': 1, '980': 1, '834': 1, '448': 1, '175': 1, '49': 1, '876': 1, '230': 1, '57': 1, 'E854': 1, '942': 1, '14': 1, '750': 1, '370': 1, '671': 1, '971': 1}\n",
      "****************************************\n",
      "number_diagnoses\n",
      "{1: 219, 9: 49474, 6: 10161, 7: 10393, 5: 11393, 8: 10616, 3: 2835, 4: 5537, 2: 1023, 16: 45, 12: 9, 13: 16, 15: 10, 10: 17, 11: 11, 14: 7}\n",
      "****************************************\n",
      "max_glu_serum\n",
      "{'None': 96420, '>300': 1264, 'Norm': 2597, '>200': 1485}\n",
      "****************************************\n",
      "A1Cresult\n"
     ]
    },
    {
     "name": "stdout",
     "output_type": "stream",
     "text": [
      "{'None': 84748, '>7': 3812, '>8': 8216, 'Norm': 4990}\n",
      "****************************************\n",
      "metformin\n",
      "{'No': 81778, 'Steady': 18346, 'Up': 1067, 'Down': 575}\n",
      "****************************************\n",
      "repaglinide\n",
      "{'No': 100227, 'Up': 110, 'Steady': 1384, 'Down': 45}\n",
      "****************************************\n",
      "nateglinide\n",
      "{'No': 101063, 'Steady': 668, 'Down': 11, 'Up': 24}\n",
      "****************************************\n",
      "chlorpropamide\n",
      "{'No': 101680, 'Steady': 79, 'Down': 1, 'Up': 6}\n",
      "****************************************\n",
      "glimepiride\n",
      "{'No': 96575, 'Steady': 4670, 'Down': 194, 'Up': 327}\n",
      "****************************************\n",
      "acetohexamide\n",
      "{'No': 101765, 'Steady': 1}\n",
      "****************************************\n",
      "glipizide\n",
      "{'No': 89080, 'Steady': 11356, 'Up': 770, 'Down': 560}\n",
      "****************************************\n",
      "glyburide\n",
      "{'No': 91116, 'Steady': 9274, 'Up': 812, 'Down': 564}\n",
      "****************************************\n",
      "tolbutamide\n",
      "{'No': 101743, 'Steady': 23}\n",
      "****************************************\n",
      "pioglitazone\n",
      "{'No': 94438, 'Steady': 6976, 'Up': 234, 'Down': 118}\n",
      "****************************************\n",
      "rosiglitazone\n",
      "{'No': 95401, 'Steady': 6100, 'Up': 178, 'Down': 87}\n",
      "****************************************\n",
      "acarbose\n",
      "{'No': 101458, 'Steady': 295, 'Up': 10, 'Down': 3}\n",
      "****************************************\n",
      "miglitol\n",
      "{'No': 101728, 'Steady': 31, 'Down': 5, 'Up': 2}\n",
      "****************************************\n",
      "troglitazone\n",
      "{'No': 101763, 'Steady': 3}\n",
      "****************************************\n",
      "tolazamide\n",
      "{'No': 101727, 'Steady': 38, 'Up': 1}\n",
      "****************************************\n",
      "examide\n",
      "{'No': 101766}\n",
      "****************************************\n",
      "citoglipton\n",
      "{'No': 101766}\n",
      "****************************************\n",
      "insulin\n",
      "{'No': 47383, 'Up': 11316, 'Steady': 30849, 'Down': 12218}\n",
      "****************************************\n",
      "glyburide-metformin\n",
      "{'No': 101060, 'Steady': 692, 'Down': 6, 'Up': 8}\n",
      "****************************************\n",
      "glipizide-metformin\n",
      "{'No': 101753, 'Steady': 13}\n",
      "****************************************\n",
      "glimepiride-pioglitazone\n",
      "{'No': 101765, 'Steady': 1}\n",
      "****************************************\n",
      "metformin-rosiglitazone\n",
      "{'No': 101764, 'Steady': 2}\n",
      "****************************************\n",
      "metformin-pioglitazone\n",
      "{'No': 101765, 'Steady': 1}\n",
      "****************************************\n",
      "change\n",
      "{'No': 54755, 'Ch': 47011}\n",
      "****************************************\n",
      "diabetesMed\n",
      "{'No': 23403, 'Yes': 78363}\n",
      "****************************************\n"
     ]
    }
   ],
   "source": [
    "for index, row in df_data.iteritems():\n",
    "    feature_values = {}\n",
    "    if (index != 'encounter_id' and index != 'patient_nbr'):\n",
    "        print(index)\n",
    "        for item in df_data[index]:\n",
    "            if item in feature_values.keys():\n",
    "                feature_values[item] = feature_values[item] + 1\n",
    "            else:\n",
    "                feature_values[item] = 1\n",
    "        print(feature_values)\n",
    "        print('*' * 40)"
   ]
  },
  {
   "cell_type": "markdown",
   "metadata": {},
   "source": [
    "我们通过检查，并未irregular value。"
   ]
  },
  {
   "cell_type": "markdown",
   "metadata": {},
   "source": [
    "### Feature  Encoding"
   ]
  },
  {
   "cell_type": "code",
   "execution_count": 37,
   "metadata": {},
   "outputs": [
    {
     "data": {
      "text/plain": [
       "0         0\n",
       "1         1\n",
       "2         1\n",
       "3         1\n",
       "4         1\n",
       "         ..\n",
       "101761    1\n",
       "101762    1\n",
       "101763    1\n",
       "101764    1\n",
       "101765    0\n",
       "Name: diabetesMed, Length: 101766, dtype: int64"
      ]
     },
     "execution_count": 37,
     "metadata": {},
     "output_type": "execute_result"
    }
   ],
   "source": [
    "num_encode = {\n",
    "    'diabetesMed': {'Yes': 1, 'No': 0},\n",
    "}\n",
    "df_data.replace(num_encode, inplace=True)\n",
    "df_data['diabetesMed']"
   ]
  },
  {
   "cell_type": "markdown",
   "metadata": {},
   "source": [
    "## Feature Selection"
   ]
  },
  {
   "cell_type": "markdown",
   "metadata": {},
   "source": [
    "在机器学习的过程中，有一句很有影响的话：\"Garbage In Garbege Out\". 所以，Feature Selection对于后续的学习过程很有意义，我们将会在这里进行特征选择的工作。"
   ]
  },
  {
   "cell_type": "markdown",
   "metadata": {},
   "source": [
    "### Univariate Feature Selection"
   ]
  },
  {
   "cell_type": "code",
   "execution_count": 17,
   "metadata": {},
   "outputs": [],
   "source": [
    "# best_features = SelectKBest(score_func=chi2, k=10).fit(df_data, df_target)\n",
    "# dfscores = pd.DataFrame(best_features.scores_)\n",
    "# dfcolumns = pd.DataFrame(df_data.columns)\n",
    "\n",
    "# #concat two dataframes for better visualization \n",
    "# featureScores = pd.concat([dfcolumns,dfscores], axis=1)\n",
    "# #naming the dataframe columns\n",
    "# featureScores.columns = ['Specs','Score']  \n",
    "\n",
    "# print(featureScores.nlargest(10,'Score'))"
   ]
  },
  {
   "cell_type": "markdown",
   "metadata": {},
   "source": [
    "## Imputation & Normalization"
   ]
  },
  {
   "cell_type": "markdown",
   "metadata": {},
   "source": [
    "# Modelling Process"
   ]
  },
  {
   "cell_type": "markdown",
   "metadata": {},
   "source": [
    "## Divide Training & Testing Set"
   ]
  },
  {
   "cell_type": "code",
   "execution_count": 18,
   "metadata": {},
   "outputs": [],
   "source": [
    "X_train, X_test, y_train, y_test = train_test_split(df_data, df_target)"
   ]
  },
  {
   "cell_type": "markdown",
   "metadata": {},
   "source": [
    "# Training, Validation and Testing"
   ]
  },
  {
   "cell_type": "markdown",
   "metadata": {},
   "source": [
    "## Training"
   ]
  },
  {
   "cell_type": "markdown",
   "metadata": {},
   "source": [
    "## Validation"
   ]
  },
  {
   "cell_type": "markdown",
   "metadata": {},
   "source": [
    "## Testing"
   ]
  },
  {
   "cell_type": "markdown",
   "metadata": {},
   "source": [
    "# Evaluation"
   ]
  },
  {
   "cell_type": "markdown",
   "metadata": {},
   "source": [
    "# Conclusion"
   ]
  },
  {
   "cell_type": "markdown",
   "metadata": {},
   "source": []
  }
 ],
 "metadata": {
  "kernelspec": {
   "display_name": "Python 3",
   "language": "python",
   "name": "python3"
  },
  "language_info": {
   "codemirror_mode": {
    "name": "ipython",
    "version": 3
   },
   "file_extension": ".py",
   "mimetype": "text/x-python",
   "name": "python",
   "nbconvert_exporter": "python",
   "pygments_lexer": "ipython3",
   "version": "3.8.3"
  }
 },
 "nbformat": 4,
 "nbformat_minor": 4
}
